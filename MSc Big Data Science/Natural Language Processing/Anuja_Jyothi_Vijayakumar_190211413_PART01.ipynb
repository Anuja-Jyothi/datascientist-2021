{
 "cells": [
  {
   "cell_type": "markdown",
   "metadata": {},
   "source": [
    "### (1) INCLUDING THE LIBRARIES NEEDED FOR THE CODE"
   ]
  },
  {
   "cell_type": "code",
   "execution_count": 239,
   "metadata": {
    "executionInfo": {
     "elapsed": 1366,
     "status": "ok",
     "timestamp": 1602611407984,
     "user": {
      "displayName": "Anuja Jyothi Vijayakumar",
      "photoUrl": "",
      "userId": "06647054304737108458"
     },
     "user_tz": -330
    },
    "id": "LG4_zqDeEV5T"
   },
   "outputs": [],
   "source": [
    "import csv,re                         \n",
    "from sklearn.svm import LinearSVC\n",
    "from nltk.classify import SklearnClassifier\n",
    "from random import shuffle\n",
    "from sklearn.pipeline import Pipeline\n",
    "from sklearn.metrics import precision_recall_fscore_support, accuracy_score"
   ]
  },
  {
   "cell_type": "markdown",
   "metadata": {},
   "source": [
    "### (2) LOADING DATA AND SPLITTING DATA INTO TRAIN AND TEST\n",
    "1. TOOK THE TAB DELIMITIED TEXT FILE AS INPUT\n",
    "2. READ THE DOCUMENT LINE BY LINE\n",
    "3. PARSED LINE BY LINE \n",
    "4. SPLIT THE DOCUMENT INTO TWO SETS(TRAINING AND TEST SET)\n",
    "5. THE PERCENTAGE IS PROVIDED AS INPUT FOR SPLITTING (GENERALLY 80% CONSIDERED TRAINING DATA WHILE SPLITTING)\n",
    "6. THE PREPROCESS AND THE FEATURE CONVERSION TAKES PLACE DURING SPLITTING (BY CALLING THEIR RESPECTIVE USER DEFINED FUNCTIONS)"
   ]
  },
  {
   "cell_type": "code",
   "execution_count": 240,
   "metadata": {
    "executionInfo": {
     "elapsed": 1356,
     "status": "ok",
     "timestamp": 1602611407985,
     "user": {
      "displayName": "Anuja Jyothi Vijayakumar",
      "photoUrl": "",
      "userId": "06647054304737108458"
     },
     "user_tz": -330
    },
    "id": "MdN_xAV1EV5V"
   },
   "outputs": [],
   "source": [
    "# load data from a file and append it to the rawData\n",
    "def loadData(path, Text=None):\n",
    "    with open(path,encoding = \"utf-8\") as f:\n",
    "        reader = csv.reader(f, delimiter='\\t')\n",
    "        for line in reader:\n",
    "            if line[0] == \"DOC_ID\":  # skip the header\n",
    "                continue\n",
    "            (Id, Text, Label) = parseReview(line)\n",
    "            rawData.append((Id, Text, Label))\n",
    "\n",
    "def splitData(percentage):\n",
    "    # A method to split the data between trainData and testData \n",
    "    dataSamples = len(rawData) 21000\n",
    "    halfOfData = int(len(rawData)/2) 21000/2 = 10500\n",
    "\n",
    "    trainingSamples = int((percentage*dataSamples)/2) .8 x 21000/2 = 8400\n",
    "    \n",
    "    for (_, Text, Label) in rawData[:trainingSamples] + rawData[halfOfData:halfOfData+trainingSamples]:\n",
    "        trainData.append((toFeatureVector(preProcess(Text)),Label))\n",
    "    for (_, Text, Label) in rawData[trainingSamples:halfOfData] + rawData[halfOfData+trainingSamples:]:\n",
    "        testData.append((toFeatureVector(preProcess(Text)),Label))"
   ]
  },
  {
   "cell_type": "markdown",
   "metadata": {},
   "source": [
    "### (3) PARSING DATA:\n",
    "1. SPLIT INPUT INTO FOLLOWING PARTS:\n",
    "    * DOC_ID\n",
    "    * REVIEW_TEXT \n",
    "    * LABEL\n",
    "2. THE LABEL FROM INPUT IS ASSIGNED VALUE AS PER THE REQUIRED OUTPUT CLASSES  <b>(<i>fake, real</i>)</b>\n",
    "2. THE FUNCTION RETURNS A TUPLE <b>(<i>Id, Text, Label</i>)</b>"
   ]
  },
  {
   "cell_type": "code",
   "execution_count": 241,
   "metadata": {
    "executionInfo": {
     "elapsed": 1349,
     "status": "ok",
     "timestamp": 1602611407986,
     "user": {
      "displayName": "Anuja Jyothi Vijayakumar",
      "photoUrl": "",
      "userId": "06647054304737108458"
     },
     "user_tz": -330
    },
    "id": "O7gAHWdyEV5Y"
   },
   "outputs": [],
   "source": [
    "def parseReview(reviewLine):\n",
    "    (Id, Text, Label) = (int(reviewLine[0]), reviewLine[8], fakeLabel if reviewLine[1]=='__label1__' else realLabel)\n",
    "    return (Id, Text, Label)"
   ]
  },
  {
   "cell_type": "markdown",
   "metadata": {},
   "source": [
    "### (4) MANUAL PREPROCESSING: (USING REGEX)\n",
    "1. IDENTIFIED AND REMOVED THE HYPER LINKS, THE SPECIAL CHARACTERS, THE HTML TAGS\n",
    "3. IDENTIFIED THE CONTRACTIONS AND REMOVED THE APOSTROPHE\n",
    "5. REPLACED ALL THE SPECIAL CHARACTERS WITH WHITESPACES\n",
    "6. CREATED TOKENS OF INDIVIDUAL WORDS\n",
    "6. REMOVED NUMERIC DATA\n",
    "7. REMOVED THE EMPTY ENTRIES, CREATED AS THE RESULT OF POINT 3, IN THE TOKEN LIST\n",
    "8. CONVERTED ALL TOKENS TO LOWERCASE\n",
    "9. THE FUNCTION RETURNS TOKEN LIST."
   ]
  },
  {
   "cell_type": "code",
   "execution_count": 242,
   "metadata": {
    "executionInfo": {
     "elapsed": 1341,
     "status": "ok",
     "timestamp": 1602611407986,
     "user": {
      "displayName": "Anuja Jyothi Vijayakumar",
      "photoUrl": "",
      "userId": "06647054304737108458"
     },
     "user_tz": -330
    },
    "id": "HZb6FMeNEV5b"
   },
   "outputs": [],
   "source": [
    "# TEXT PREPROCESSING AND FEATURE VECTORIZATION\n",
    "spl_char = {}\n",
    "hpr_link = {}\n",
    "numbers = {}\n",
    "\n",
    "# Input: a string of one review\n",
    "def preProcess(text):# Should return a list of tokens\n",
    "    hprlink = re.findall(\"http\\S+\",text) #find all hyperlink\n",
    "    splchar = re.findall(\"\\W\",text) #find all special characters\n",
    "    \n",
    "    # Save the hyperlinks and special characters in dictionary for future analysis\n",
    "    for h in hprlink:\n",
    "        try:\n",
    "            i = hpr_link[h]\n",
    "        except KeyError:\n",
    "            i = len(hpr_link) + 1\n",
    "            hpr_link[h] = i            \n",
    "    \n",
    "    for s in splchar:\n",
    "        try:\n",
    "            i = spl_char[s]\n",
    "        except KeyError:\n",
    "            i = len(spl_char) + 1\n",
    "            spl_char[s] = i\n",
    "\n",
    "    # removing hyper link, html tags, hyphen in contraction, and other special characters inorder to tokenize\n",
    "    text = re.sub(r\"http\\S+\", \"\", text) \n",
    "    text = re.sub('<.*?>', '', text)\n",
    "    text = re.sub(r\"(\\w)(['’])(\\w)\", r\"\\1\\3\", text) #contraction    \n",
    "    \n",
    "    # word tokenisation\n",
    "    text = re.sub(r\"\\W\", r\" \", text)\n",
    "    tokens = re.split(r\"\\s+\",text)\n",
    "    \n",
    "    clean_tokens = []\n",
    "    for token in tokens:\n",
    "        if token.isnumeric() == False:\n",
    "                 clean_tokens.append(token)\n",
    "        else:\n",
    "            try:\n",
    "                i = numbers[token]\n",
    "            except KeyError:\n",
    "                i = len(numbers) + 1\n",
    "                numbers[token] = i \n",
    "                \n",
    "    #print(numbers)      \n",
    "    # removing empty Strings\n",
    "    clean_tokens = [token for token in clean_tokens if token] \n",
    "    \n",
    "    # converting text to lower case \n",
    "    clean_tokens = [t.lower() for t in clean_tokens]\n",
    "\n",
    "    return clean_tokens"
   ]
  },
  {
   "cell_type": "markdown",
   "metadata": {
    "id": "mFz1vazMEV5e"
   },
   "source": [
    "### (5) CONVERTING THE TOKENS TO FEATURES\n",
    "\n",
    "1.  THE GLOBAL DICTIONARY IS FILLED WITH THE FEATURES THAT ARE ENCOUNTERED DURING THE WHOLE FEATURE VECTOR CREATION PROCESS \n",
    "2.  THE  WEIGHING OF FEATURE IS BASED ON <b>(<i>1/No. of tokens per review</i>)</b>\n",
    "3.  BOTH THE BINARY AND WEIGHTAGE ARE TRIED AND THE SUMMARY OF THE SAME PROVIDED AT THE END."
   ]
  },
  {
   "cell_type": "code",
   "execution_count": 243,
   "metadata": {
    "id": "73RvwlR4EV5f"
   },
   "outputs": [],
   "source": [
    "featureDict = {} # A global dictionary of features\n",
    "\n",
    "def toFeatureVector(tokens):\n",
    "    # Should return a dictionary containing features as keys, and weights as values\n",
    "    # DESCRIBE YOUR METHOD IN WORDS\n",
    "    \n",
    "    localDict = {}\n",
    "    for token in tokens:\n",
    "        try:\n",
    "            i = featureDict[token]\n",
    "        except KeyError:\n",
    "            i = len(featureDict) + 1\n",
    "            featureDict[token] = i\n",
    "        try:\n",
    "            localDict[i] += (1.0/len(tokens))\n",
    "        except KeyError:\n",
    "            localDict[i] = (1.0/len(tokens))\n",
    "            \n",
    "    ###=======================================###\n",
    "            ###### BINARY ###### \n",
    "    ###=======================================###\n",
    "#    for token in tokens:\n",
    "#        if token not in featureDict:\n",
    "#            featureDict[token] = 1\n",
    "#        else:\n",
    "#            featureDict[token] = +1\n",
    "            \n",
    "#        if token not in localDict:\n",
    "#            localDict[token] = 1\n",
    "#        else:\n",
    "#            localDict[token] = +1\n",
    "            \n",
    "    return localDict"
   ]
  },
  {
   "cell_type": "markdown",
   "metadata": {},
   "source": [
    "### (6) TRAINING AND VALIDATING OUR CLASSIFIER"
   ]
  },
  {
   "cell_type": "code",
   "execution_count": 244,
   "metadata": {
    "executionInfo": {
     "elapsed": 1946,
     "status": "ok",
     "timestamp": 1602611408621,
     "user": {
      "displayName": "Anuja Jyothi Vijayakumar",
      "photoUrl": "",
      "userId": "06647054304737108458"
     },
     "user_tz": -330
    },
    "id": "aTNZTfJCEV5j"
   },
   "outputs": [],
   "source": [
    "def trainClassifier(trainData):\n",
    "    print(\"Training Classifier...\")\n",
    "    pipeline =  Pipeline([('svc', LinearSVC())])\n",
    "    return SklearnClassifier(pipeline).train(trainData)"
   ]
  },
  {
   "cell_type": "markdown",
   "metadata": {
    "id": "MRIspwXJEV5l"
   },
   "source": [
    "### (7) CROSS VALIDATING"
   ]
  },
  {
   "cell_type": "markdown",
   "metadata": {
    "id": "FxLZI_SlEV5l"
   },
   "source": [
    "1. THE 10 FOLD CROSS VALIDATION IS PERFORMED WHERE THE TRAINING DATA (80% OF THE WHOLE DATA) IS SPLIT IS 10 FOLDS AND EACH FOLD ACT AS TEST DATA AND THE REMAINING 10 FOLD ARE TRAINING DATA. \n",
    "4. THE MAIN CODE CALLS THE CROSS VALIDATE, WITH 80% OF THE MAIN DATASET, AND THE NUMBER OF FOLDS, AS PARAMETERS\n",
    "2. THIS IS ACCOMPLISHED BY PUTTING THE FOLDS IN LOOP AND ROTATING THE FOLDS TO ACT AS TRAINING AND TEST DATA\n",
    "3. THUS IT FOLLOWS THE PATTERN: \n",
    "    * TRAIN DATA: [:i]  \n",
    "    * TEST DATA [i:foldSize+i] \n",
    "    * TRAIN DATA [foldSize+i:] \n",
    "    * COMBINED PROPERLY IN THE CODE WITH CONCATENATION \n",
    "3. THE CLASSIFIER IS PICKED FOR TRAINING AND VALIDATING\n",
    "5. THE TEST DATA LABELS ARE GATHERED BEFORE PREDICTING ON THE TEST DATA\n",
    "6. THE GATHERED(GROUND-TRUTH) LABELS AND PREDICTED LABELS ARE PASSED ON TO STANDARD FUNCTIONS TO IDENTIFY THE FOLLOWING:\n",
    "    * PRECISON <b>(<i>sklearn.metrics.precision_recall_fscore_support()</i>)</b>\n",
    "    * RECALL <b>(<i>sklearn.metrics.precision_recall_fscore_support()</i>)</b>\n",
    "    * F-SCORE <b>(<i>sklearn.metrics.precision_recall_fscore_support()</i>)</b>\n",
    "    * THE ABOVE VALUES RETURNED AS TUPLE BY THE FUNCTION\n",
    "    * ACCURACY <b>(<i>sklearn.metrics.accuracy_score()</i>)</b>\n",
    "7. THE AVERAGE OF EACH SCORE IS TAKEN USING MEAN \n",
    "8. FINAL RESULT IS RETURNED TO THE CALLING CODE"
   ]
  },
  {
   "cell_type": "code",
   "execution_count": 245,
   "metadata": {
    "executionInfo": {
     "elapsed": 1938,
     "status": "ok",
     "timestamp": 1602611408621,
     "user": {
      "displayName": "Anuja Jyothi Vijayakumar",
      "photoUrl": "",
      "userId": "06647054304737108458"
     },
     "user_tz": -330
    },
    "id": "QGSavO1uEV5m"
   },
   "outputs": [],
   "source": [
    "def crossValidate(dataset, folds):\n",
    "    shuffle(dataset)\n",
    "    foldSize = int(len(dataset)/folds)\n",
    "    # DESCRIBE YOUR METHOD IN WORDS\n",
    "    cv_results, precision, accuracy, recall,fbeta = ([] for i in range(5)) \n",
    "    for i in range(0,len(dataset),foldSize):     \n",
    "        \n",
    "        testData = dataset[i:foldSize+i]\n",
    "        trainData = dataset[:i] + dataset[foldSize+i:] \n",
    "\n",
    "\n",
    "        #Fold 1 through 10 is picked in for each for loop   \n",
    "              \n",
    "        classifier = trainClassifier(trainData)\n",
    "        #store the labels\n",
    "        testTrue = [t[1] for t in testData]   #get the ground-truth labels from the data\n",
    "        \n",
    "        #classify the test data to get predicted labels\n",
    "        testPred = predictLabels(testData,classifier)\n",
    "        \n",
    "        AS = accuracy_score(testTrue, testPred)\n",
    "        (PC, RC, F1S,_) = precision_recall_fscore_support(testTrue, testPred, average='weighted') # evaluate\n",
    "        \n",
    "        precision.append(PC)\n",
    "        recall.append(RC)\n",
    "        fbeta.append(F1S)\n",
    "        accuracy.append(AS)\n",
    "        \n",
    "        # F-Measure = (2 * Precision * Recall) / (Precision + Recall)\n",
    "        # P = tp/(tp+fp)\n",
    "        # R = tp/(tp+fn)\n",
    "    cv_results = [sum(precision)/folds, sum(recall)/folds, sum(fbeta)/folds, sum(accuracy)/folds]\n",
    "    return cv_results"
   ]
  },
  {
   "cell_type": "code",
   "execution_count": 246,
   "metadata": {
    "executionInfo": {
     "elapsed": 1932,
     "status": "ok",
     "timestamp": 1602611408622,
     "user": {
      "displayName": "Anuja Jyothi Vijayakumar",
      "photoUrl": "",
      "userId": "06647054304737108458"
     },
     "user_tz": -330
    },
    "id": "KVcbv06gEV5p"
   },
   "outputs": [],
   "source": [
    "# PREDICTING LABELS GIVEN A CLASSIFIER\n",
    "\n",
    "def predictLabels(reviewSamples, classifier):\n",
    "    return classifier.classify_many(map(lambda t: t[0], reviewSamples))\n",
    "\n",
    "def predictLabel(reviewSample, classifier):\n",
    "    return classifier.classify(toFeatureVector(preProcess(reviewSample)))"
   ]
  },
  {
   "cell_type": "code",
   "execution_count": 247,
   "metadata": {
    "colab": {
     "base_uri": "https://localhost:8080/",
     "height": 742
    },
    "executionInfo": {
     "elapsed": 37618,
     "status": "ok",
     "timestamp": 1602611444317,
     "user": {
      "displayName": "Anuja Jyothi Vijayakumar",
      "photoUrl": "",
      "userId": "06647054304737108458"
     },
     "user_tz": -330
    },
    "id": "t6DLjOjkEV5r",
    "outputId": "33977a39-399b-438b-f2ef-f9a78b85b5d7"
   },
   "outputs": [
    {
     "name": "stdout",
     "output_type": "stream",
     "text": [
      "Now 0 Raw Data, 0 Train Data, 0 Test Data\n",
      "Preparing the dataset...\n",
      "\n",
      "\n",
      "Now 21000 rawData, 0 Train Data, 0 Test Data\n",
      "Preparing training and test data...\n",
      "\n",
      "\n",
      "After split, 21000 Raw Data, 16800 Train Data, 4200 Test Data\n",
      "\n",
      "\n",
      "Training Samples: 16800\n",
      "Features: 35179\n",
      "\n",
      "\n",
      "K Fold cross-validation: \n",
      "Training Classifier...\n",
      "Training Classifier...\n",
      "Training Classifier...\n",
      "Training Classifier...\n",
      "Training Classifier...\n",
      "Training Classifier...\n",
      "Training Classifier...\n",
      "Training Classifier...\n",
      "Training Classifier...\n",
      "Training Classifier...\n",
      "\n",
      "\n",
      "Precision: 0.6469652540209123 , Recall: 0.6458928571428572 , F Score 0.6454233268401051 , Accuracy: 0.6458928571428572\n"
     ]
    }
   ],
   "source": [
    "#### MAIN\n",
    "\n",
    "# loading reviews\n",
    "# initialize global lists that will be appended to by the methods below\n",
    "rawData = []          # the filtered data from the dataset file (should be 21000 samples)\n",
    "trainData = []        # the pre-processed training data as a percentage of the total dataset (currently 80%, or 16800 samples)\n",
    "testData = []         # the pre-processed test data as a percentage of the total dataset (currently 20%, or 4200 samples)\n",
    "\n",
    "# the output classes\n",
    "fakeLabel = 'fake'\n",
    "realLabel = 'real'\n",
    "\n",
    "# references to the data files\n",
    "reviewPath = 'amazon_reviews.txt'\n",
    "\n",
    "# We parse the dataset and put it in a raw data list\n",
    "print(\"Now %d Raw Data, %d Train Data, %d Test Data\" % (len(rawData), len(trainData), len(testData)),\n",
    "      \"Preparing the dataset...\",sep='\\n')\n",
    "\n",
    "print('\\n')\n",
    "loadData(reviewPath) \n",
    "\n",
    "# We split the raw dataset into a set of training data and a set of test data (80/20)\n",
    "# You do the cross validation on the 80% (training data)\n",
    "# We print the number of training samples and the number of features before the split\n",
    "print(\"Now %d rawData, %d Train Data, %d Test Data\" % (len(rawData), len(trainData), len(testData)),\n",
    "      \"Preparing training and test data...\",sep='\\n')\n",
    "\n",
    "splitData(0.8)\n",
    "\n",
    "print('\\n')\n",
    "# We print the number of training samples and the number of features after the split\n",
    "print(\"After split, %d Raw Data, %d Train Data, %d Test Data\" % (len(rawData), len(trainData), len(testData)),'\\n',\n",
    "      \"Training Samples: %d\" % len(trainData), \"Features: %d\" % len(featureDict), sep='\\n')\n",
    "\n",
    "print('\\n')\n",
    "\n",
    "# QUESTION 3 - Make sure there is a function call here to the\n",
    "# crossValidate function on the training set to get your results\n",
    "\n",
    "print(\"K Fold cross-validation: \")\n",
    "CV_Results= crossValidate(trainData, 10)\n",
    "print('\\n')\n",
    "print(\n",
    "      \"Precision:\", CV_Results[0],\n",
    "      \", Recall:\", CV_Results[1],\n",
    "      \", F Score\", CV_Results[2],\n",
    "      \", Accuracy:\", CV_Results[3])\n",
    "    "
   ]
  },
  {
   "cell_type": "markdown",
   "metadata": {
    "id": "NwCEmKceEV8C"
   },
   "source": [
    "### (8) EVALUATE ON TEST DATA"
   ]
  },
  {
   "cell_type": "code",
   "execution_count": 248,
   "metadata": {
    "executionInfo": {
     "elapsed": 37608,
     "status": "ok",
     "timestamp": 1602611444317,
     "user": {
      "displayName": "Anuja Jyothi Vijayakumar",
      "photoUrl": "",
      "userId": "06647054304737108458"
     },
     "user_tz": -330
    },
    "id": "Hi6rDh3cEV8C"
   },
   "outputs": [
    {
     "name": "stdout",
     "output_type": "stream",
     "text": [
      "({6: 0.09523809523809523, 3902: 0.047619047619047616, 31: 0.047619047619047616, 196: 0.047619047619047616, 20254: 0.047619047619047616, 45: 0.047619047619047616, 56: 0.047619047619047616, 44: 0.047619047619047616, 10: 0.09523809523809523, 115: 0.047619047619047616, 612: 0.047619047619047616, 23: 0.047619047619047616, 1421: 0.047619047619047616, 1131: 0.047619047619047616, 721: 0.047619047619047616, 1609: 0.047619047619047616, 1598: 0.047619047619047616, 138: 0.047619047619047616, 90: 0.047619047619047616}, 'fake')\n",
      "\n",
      "\n",
      "Training Classifier...\n",
      "\n",
      "\n",
      "Done training!\n",
      "\n",
      "\n",
      "\t Precision: 0.629317866998244 \n",
      " \t Recall: 0.6290476190476191 \n",
      " \t F Score 0.6288537140492447 \n",
      " \t Accuracy: 0.6290476190476191\n"
     ]
    }
   ],
   "source": [
    "# Finally, check the accuracy of your classifier by training on all the tranin data\n",
    "# and testing on the test set\n",
    "# Will only work once all functions are complete\n",
    "functions_complete = True  # set to True once you're happy with your methods for cross val\n",
    "if functions_complete:\n",
    "    print(testData[0])  # have a look at the first test data instance\n",
    "    print('\\n')\n",
    "    finalScores = []\n",
    "    classifier = trainClassifier(trainData)  # train the classifier\n",
    "    testTrue = [t[1] for t in testData]   # get the ground-truth labels from the data\n",
    "    testPred = predictLabels(testData, classifier)  # classify the test data to get predicted labels\n",
    "    accuracy = accuracy_score(testTrue, testPred)\n",
    "    (precision,recall,fbeta,_) = precision_recall_fscore_support(testTrue, testPred, average='weighted') # evaluate\n",
    "    \n",
    "    finalScores.append(precision)\n",
    "    finalScores.append(recall)\n",
    "    finalScores.append(fbeta)\n",
    "    finalScores.append(accuracy)\n",
    "    \n",
    "\n",
    "    print('\\n')\n",
    "    print(\"Done training!\")\n",
    "    print('\\n')\n",
    "    print('\\t',\"Precision:\", finalScores[0],'\\n',\n",
    "          '\\t',\"Recall:\", finalScores[1],'\\n',\n",
    "          '\\t',\"F Score\", finalScores[2],'\\n',\n",
    "          '\\t',\"Accuracy:\", finalScores[3])"
   ]
  },
  {
   "cell_type": "markdown",
   "metadata": {},
   "source": [
    "### (9) SUMMARIZING\n",
    "\n"
   ]
  },
  {
   "cell_type": "code",
   "execution_count": 249,
   "metadata": {},
   "outputs": [
    {
     "name": "stdout",
     "output_type": "stream",
     "text": [
      "\n",
      "\n"
     ]
    },
    {
     "data": {
      "text/html": [
       "<table><tr><td>toFeatureVector</td><td>Stage</td><td>Precision</td><td>Recall</td><td>F-Score</td><td>Accuracy</td></tr><tr><td>Binary</td><td>Training</td><td>0.6050831669425428</td><td>0.6048214285714286</td><td>0.6045655786836039</td><td>0.6048214285714286</td></tr><tr><td>Binary</td><td>Testing</td><td>0.5859539596985796</td><td>0.585952380952381</td><td>0.5859504797045837</td><td>0.585952380952381</td></tr><tr><td>Weighed</td><td>Training</td><td>0.6492461085573931</td><td>0.6483928571428571</td><td>0.6479372380917668</td><td>0.6483928571428571</td></tr><tr><td>Weighed</td><td>Testing</td><td>0.629317866998244</td><td>0.6290476190476191</td><td>0.6288537140492447</td><td>0.6290476190476191</td></tr></table>"
      ],
      "text/plain": [
       "<IPython.core.display.HTML object>"
      ]
     },
     "metadata": {},
     "output_type": "display_data"
    },
    {
     "data": {
      "image/png": "[encoded data removed]",
      "text/plain": [
       "<Figure size 720x576 with 1 Axes>"
      ]
     },
     "metadata": {},
     "output_type": "display_data"
    },
    {
     "name": "stdout",
     "output_type": "stream",
     "text": [
      "\n",
      "\n",
      "--------------------------------------!!! 😞 WE ARE KICKED OUT DURING PREPROCESSING 😞 !!!------------------------------------\n",
      "\n",
      " {' ': 1, ',': 2, '.': 3, \"'\": 4, '<': 5, '/': 6, '>': 7, '?': 8, '!': 9, '[': 10, ':': 11, '-': 12, ']': 13, '(': 14, ')': 15, '$': 16, '&': 17, ';': 18, '#': 19, '\"': 20, '’': 21, '%': 22, '*': 23, '~': 24, '=': 25, '+': 26, '–': 27, '@': 28, '—': 29, '{': 30, '}': 31, '😖': 32, '”': 33, '“': 34, '\\u200f': 35, '\\\\': 36, '`': 37, '…': 38, '，': 39, '®': 40, '‘': 41, '\\u200b': 42, '|': 43, '☆': 44, '™': 45, '：': 46, '😀': 47, '。': 48, '^': 49, '😊': 50, '👏': 51, '´': 52, '！': 53, '¬': 54, '★': 55, '\\xa0': 56, '🎥': 57, '✅': 58, '🍅': 59, '◆': 60, '▪': 61, '″': 62, '·': 63, '�': 64, '👌': 65, '¡': 66, '🐈': 67, '💞': 68, '😆': 69, '😍': 70, '👍': 71, '💖': 72, '💗': 73, '°': 74, '†': 75, '😉': 76, '¯': 77, '💜': 78, '×': 79, '😘': 80, '±': 81, '▶': 82, '•': 83, '∙': 84, '\\x1a': 85, '¢': 86, '😞': 87}\n",
      "\n",
      "\n",
      " and also the 301 Hyperlinks !!! ......along with 563 numbers!!!!!\n",
      "\n",
      "\n"
     ]
    }
   ],
   "source": [
    "print('\\n')\n",
    "from IPython.display import HTML, display\n",
    "data = [[\"toFeatureVector\", \"Stage\", \"Precision\", \"Recall\", \"F-Score\", \"Accuracy\"],\n",
    "        [\"Binary\",\"Training\",\"0.6050831669425428\",\"0.6048214285714286\",\"0.6045655786836039\",\"0.6048214285714286\"],\n",
    "        [\"Binary\",\"Testing\",\"0.5859539596985796\",\"0.585952380952381\",\"0.5859504797045837\", \"0.585952380952381\"],\n",
    "        [\"Weighed\",\"Training\",\"0.6492461085573931\",\"0.6483928571428571\",\"0.6479372380917668\",\"0.6483928571428571\"],\n",
    "        [\"Weighed\",\"Testing\",\"0.629317866998244\",\"0.6290476190476191\",\"0.6288537140492447\",\"0.6290476190476191\"]\n",
    "        ]\n",
    "\n",
    "display(HTML(\n",
    "   '<table><tr>{}</tr></table>'.format(\n",
    "       '</tr><tr>'.join(\n",
    "           '<td>{}</td>'.format('</td><td>'.join(str(_) for _ in row)) for row in data)\n",
    "       )\n",
    "))\n",
    "\n",
    "from matplotlib import pyplot as plt \n",
    "import numpy as np \n",
    "\n",
    "# Creating plot \n",
    "proportion = ['FEATURES', 'HYPERLINK', \"NUMBERS\", 'SPECIAL CHARACTERS'] \n",
    "  \n",
    "data = [len(featureDict), len(hpr_link), len(numbers),len(spl_char)] \n",
    "\n",
    "# Creating plot \n",
    "fig = plt.figure(figsize =(10, 8)) \n",
    "plt.pie(data, labels = proportion)\n",
    "plt.title(\"!!!!!      THE PROPORTION OF VALID TOKENS IN THE INPUT FILE      !!!!!\") \n",
    "# show plot \n",
    "plt.show() \n",
    "\n",
    "print('\\n')\n",
    "print(\"--------------------------------------!!! 😞 WE ARE KICKED OUT DURING PREPROCESSING 😞 !!!------------------------------------\")\n",
    "print('\\n', spl_char)\n",
    "print('\\n')\n",
    "print(\" and also the\" , len(hpr_link), \"Hyperlinks !!!\", \"......along with\", len(numbers), \"numbers!!!!!\")\n",
    "print('\\n')"
   ]
  }
 ],
 "metadata": {
  "colab": {
   "collapsed_sections": [],
   "name": "Code.ipynb",
   "provenance": []
  },
  "kernelspec": {
   "display_name": "Python 3",
   "language": "python",
   "name": "python3"
  },
  "language_info": {
   "codemirror_mode": {
    "name": "ipython",
    "version": 3
   },
   "file_extension": ".py",
   "mimetype": "text/x-python",
   "name": "python",
   "nbconvert_exporter": "python",
   "pygments_lexer": "ipython3",
   "version": "3.9.0"
  }
 },
 "nbformat": 4,
 "nbformat_minor": 4
}
