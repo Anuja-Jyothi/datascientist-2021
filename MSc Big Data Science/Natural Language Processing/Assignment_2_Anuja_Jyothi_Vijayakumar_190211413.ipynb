{
 "cells": [
  {
   "cell_type": "code",
   "execution_count": 1,
   "metadata": {},
   "outputs": [],
   "source": [
    "import os\n",
    "import sys\n",
    "\n",
    "from copy import deepcopy\n",
    "from collections import Counter\n",
    "from nltk.tag import CRFTagger\n",
    "\n",
    "from sklearn.metrics import confusion_matrix\n",
    "from sklearn.metrics import precision_recall_fscore_support\n",
    "from sklearn.metrics import classification_report\n",
    "\n",
    "from matplotlib import pyplot as plt\n",
    "import numpy as np\n",
    "\n",
    "import re\n",
    "import unicodedata\n",
    "\n",
    "from random import shuffle\n",
    "import pandas as pd"
   ]
  },
  {
   "cell_type": "code",
   "execution_count": 2,
   "metadata": {},
   "outputs": [],
   "source": [
    "def get_raw_data_from_bio_file(fpath):\n",
    "    \"\"\"A simple function to read in from a one-word-per-line BIO\n",
    "    (Beginning, Inside, Outside) tagged corpus, tab separated\n",
    "    and each example sentence/text separated with a blank line.\n",
    "    The data is already tokenized in a simple way.\n",
    "    e.g.:\n",
    "    \n",
    "    O\ta\n",
    "    O\tgreat\n",
    "    O\tlunch\n",
    "    O\tspot\n",
    "    O\tbut\n",
    "    B-Hours\topen\n",
    "    I-Hours\ttill\n",
    "    I-Hours\t2\n",
    "    I-Hours\ta\n",
    "    I-Hours\tm\n",
    "    B-Restaurant_Name\tpassims\n",
    "    I-Restaurant_Name\tkitchen\n",
    "    \n",
    "    returns a list of lists of tuples of (word, tag) tuples\n",
    "    \"\"\"\n",
    "    f = open(fpath)\n",
    "    data = []  # the data, a list of lists of (word, tag) tuples\n",
    "    current_sent = []  # data for current sentence/example\n",
    "    for line in f:\n",
    "        if line == \"\\n\":  # each instance has a blank line separating it from next one\n",
    "            # solution\n",
    "            data.append(current_sent)\n",
    "            current_sent = []\n",
    "            continue\n",
    "        line_data = line.strip(\"\\n\").split(\"\\t\")\n",
    "        current_sent.append((line_data[1], line_data[0]))\n",
    "    f.close()\n",
    "    return data"
   ]
  },
  {
   "cell_type": "code",
   "execution_count": 3,
   "metadata": {},
   "outputs": [],
   "source": [
    "raw_training_data = get_raw_data_from_bio_file(\"engtrain.bio.txt\") "
   ]
  },
  {
   "cell_type": "code",
   "execution_count": 4,
   "metadata": {},
   "outputs": [
    {
     "name": "stdout",
     "output_type": "stream",
     "text": [
      "[('what', 'O'), ('movies', 'O'), ('star', 'O'), ('bruce', 'B-ACTOR'), ('willis', 'I-ACTOR')]\n",
      "9775 instances\n",
      "99491 words\n"
     ]
    }
   ],
   "source": [
    "# have a look at the first example\n",
    "print(raw_training_data[0])\n",
    "print(len(raw_training_data), \"instances\")\n",
    "print(sum([len(sent) for sent in raw_training_data]), \"words\")"
   ]
  },
  {
   "cell_type": "code",
   "execution_count": 5,
   "metadata": {},
   "outputs": [],
   "source": [
    "def preProcess_one(example):\n",
    "    \"\"\"Function takes in list of (word, bio-tag) pairs, e.g.:\n",
    "        [('what', 'O'), ('movies', 'O'), ('star', 'O'), ('bruce', 'B-ACTOR'), ('willis', 'I-ACTOR')]\n",
    "    returns new (token, bio-tag) pairs with preprocessing applied to the words\"\"\"\n",
    "\n",
    "    preprocessed_example = example  # trivial- no preprocessing\n",
    "    return preprocessed_example"
   ]
  },
  {
   "cell_type": "code",
   "execution_count": 6,
   "metadata": {},
   "outputs": [],
   "source": [
    "training_data_one = [preProcess_one(example) for example in raw_training_data]"
   ]
  },
  {
   "cell_type": "code",
   "execution_count": 7,
   "metadata": {},
   "outputs": [
    {
     "name": "stdout",
     "output_type": "stream",
     "text": [
      "[('what', 'O'), ('movies', 'O'), ('star', 'O'), ('bruce', 'B-ACTOR'), ('willis', 'I-ACTOR')]\n"
     ]
    }
   ],
   "source": [
    "# check the effect of pre-processing\n",
    "print(training_data_one[0])"
   ]
  },
  {
   "cell_type": "markdown",
   "metadata": {},
   "source": [
    "# 1. Split the training data into 80% training, 20% development set"
   ]
  },
  {
   "cell_type": "markdown",
   "metadata": {},
   "source": [
    " <B> 1. THE INPUT DATA IS SPLIT INTO TWO: 80% TRAINING AND 20% DEVELOPMENT SET </BR>\n",
    " <B> 2. NO SHUFFLING PERFORMED DURING SPLITTING"
   ]
  },
  {
   "cell_type": "code",
   "execution_count": 8,
   "metadata": {},
   "outputs": [],
   "source": [
    "testData_one = []\n",
    "trainData_one = []\n",
    "length = len(training_data_one)\n",
    "split_percentage = 0.8\n",
    "split = int(length*split_percentage)\n",
    "trainData_one = training_data_one[0:split]\n",
    "testData_one = training_data_one[split:]"
   ]
  },
  {
   "cell_type": "markdown",
   "metadata": {},
   "source": [
    " <B> 3. SAMPLE CONTENT OF TRAINING DATA AND DEVELOPMENT DATA:"
   ]
  },
  {
   "cell_type": "code",
   "execution_count": 9,
   "metadata": {},
   "outputs": [
    {
     "name": "stdout",
     "output_type": "stream",
     "text": [
      "[('what', 'O'), ('movies', 'O'), ('star', 'O'), ('bruce', 'B-ACTOR'), ('willis', 'I-ACTOR')]\n",
      "[('what', 'O'), ('five', 'B-RATINGS_AVERAGE'), ('star', 'O'), ('rated', 'O'), ('thriller', 'B-GENRE'), ('directed', 'O'), ('by', 'O'), ('dover', 'B-DIRECTOR'), ('koshashvili', 'I-DIRECTOR'), ('is', 'O'), ('unrated', 'B-RATING')]\n"
     ]
    }
   ],
   "source": [
    "print(trainData_one[0])\n",
    "print(testData_one[0])"
   ]
  },
  {
   "cell_type": "markdown",
   "metadata": {},
   "source": [
    " <B> 4. FEATURE FUNCTION: - IT COVERS THE BASICS FEATURES (WILL BE UPDATED LATER)"
   ]
  },
  {
   "cell_type": "code",
   "execution_count": 10,
   "metadata": {},
   "outputs": [],
   "source": [
    "_pattern = re.compile(r\"\\d\")  # to recognize numbers/digits\n",
    "\n",
    "# This is the 'out-of-the-box' get_features function from the nltk CRF tagger\n",
    "def get_features_one(tokens, idx):\n",
    "    \"\"\"\n",
    "    Extract basic features about this word including\n",
    "         - Current Word\n",
    "         - Is Capitalized ?\n",
    "         - Has Punctuation ?\n",
    "         - Has Number ?\n",
    "         - Suffixes up to length 3\n",
    "    Note that : we might include feature over previous word, next word ect.\n",
    "\n",
    "    :return : a list which contains the features\n",
    "    :rtype : list(str)\n",
    "\n",
    "    \"\"\"\n",
    "    token = tokens[idx]\n",
    "    feature_list = []\n",
    "\n",
    "    if not token:\n",
    "        return feature_list\n",
    "\n",
    "    # Capitalization\n",
    "    if token[0].isupper():\n",
    "        feature_list.append(\"CAPITALIZATION\")\n",
    "\n",
    "    # Number\n",
    "    if re.search(_pattern, token) is not None:\n",
    "        feature_list.append(\"HAS_NUM\")\n",
    "\n",
    "    # Punctuation\n",
    "    punc_cat = set([\"Pc\", \"Pd\", \"Ps\", \"Pe\", \"Pi\", \"Pf\", \"Po\"])\n",
    "    if all(unicodedata.category(x) in punc_cat for x in token):\n",
    "        feature_list.append(\"PUNCTUATION\")\n",
    "\n",
    "    # Suffix up to length 3\n",
    "    if len(token) > 1:\n",
    "        feature_list.append(\"SUFFIX_01_\" + token[-1:])\n",
    "        feature_list.append(\"PREFIX_01_\" + token[0:1])\n",
    "    if len(token) > 2:\n",
    "        feature_list.append(\"SUFFIX_02_\" + token[-2:])\n",
    "        feature_list.append(\"PREFIX_02_\" + token[0:2])\n",
    "    if len(token) > 3:\n",
    "        feature_list.append(\"SUFFIX_03_\" + token[-3:])\n",
    "        feature_list.append(\"PREFIX_03_\" + token[0:3])\n",
    "    if len(token) > 4:\n",
    "        feature_list.append(\"SUFFIX_04_\" + token[-4:])\n",
    "        feature_list.append(\"PREFIX_04_\" + token[0:4])\n",
    "        \n",
    "    feature_list.append(\"WORD_\" + token)\n",
    "    #print(feature_list)\n",
    "    return feature_list"
   ]
  },
  {
   "cell_type": "markdown",
   "metadata": {},
   "source": [
    " <B> 5. TRAINING"
   ]
  },
  {
   "cell_type": "code",
   "execution_count": 11,
   "metadata": {},
   "outputs": [
    {
     "name": "stdout",
     "output_type": "stream",
     "text": [
      "training tagger...\n",
      "done\n"
     ]
    }
   ],
   "source": [
    "# Train the CRF BIO-tag tagger\n",
    "TAGGER_PATH = \"crf_nlu.tagger\"  # path to the tagger- it will save/access the model from here\n",
    "ct = CRFTagger(feature_func=get_features_one)  # initialize tagger with get_features function\n",
    "\n",
    "print(\"training tagger...\")\n",
    "ct.train(training_data_one, TAGGER_PATH)\n",
    "print(\"done\")\n"
   ]
  },
  {
   "cell_type": "markdown",
   "metadata": {},
   "source": [
    " <B> 6. TESTING"
   ]
  },
  {
   "cell_type": "code",
   "execution_count": 12,
   "metadata": {},
   "outputs": [
    {
     "name": "stdout",
     "output_type": "stream",
     "text": [
      "testing tagger...\n",
      "done\n"
     ]
    }
   ],
   "source": [
    "print(\"testing tagger...\")\n",
    "preds = []\n",
    "y_test = []\n",
    "for sent in testData_one:\n",
    "    sent_preds = [x[1] for x in ct.tag([s[0] for s in sent])]\n",
    "    sent_true = [s[1] for s in sent]\n",
    "    preds.extend(sent_preds)\n",
    "    y_test.extend(sent_true)\n",
    "print(\"done\")"
   ]
  },
  {
   "cell_type": "markdown",
   "metadata": {},
   "source": [
    " <B> 7. STORING THE CLASSIFICATION REPORT"
   ]
  },
  {
   "cell_type": "code",
   "execution_count": 13,
   "metadata": {},
   "outputs": [
    {
     "name": "stderr",
     "output_type": "stream",
     "text": [
      "c:\\users\\hp\\appdata\\local\\programs\\python\\python39\\lib\\site-packages\\sklearn\\metrics\\_classification.py:1221: UndefinedMetricWarning: Precision and F-score are ill-defined and being set to 0.0 in labels with no predicted samples. Use `zero_division` parameter to control this behavior.\n",
      "  _warn_prf(average, modifier, msg_start, len(result))\n"
     ]
    }
   ],
   "source": [
    "dev_data_only = classification_report(y_test, preds)"
   ]
  },
  {
   "cell_type": "markdown",
   "metadata": {},
   "source": [
    " <B> 8. GENERATING CONFUSION MATRIX HEAT MAP"
   ]
  },
  {
   "cell_type": "code",
   "execution_count": 14,
   "metadata": {},
   "outputs": [],
   "source": [
    "def confusion_matrix_heatmap(y_test, preds):\n",
    "    \"\"\"Function to plot a confusion matrix\"\"\"\n",
    "    labels = list(set(y_test))   # get the labels in the y_test\n",
    "    # print(labels)\n",
    "    cm = confusion_matrix(y_test, preds, labels)\n",
    "    fig = plt.figure(figsize=(20,20))\n",
    "    ax = fig.add_subplot(111)\n",
    "    cax = ax.matshow(cm)\n",
    "    plt.title('Confusion matrix of the classifier')\n",
    "    fig.colorbar(cax)\n",
    "    ax.set_xticks(np.arange(len(labels)))\n",
    "    ax.set_yticks(np.arange(len(labels)))\n",
    "    ax.set_xticklabels( labels, rotation=45)\n",
    "    ax.set_yticklabels( labels)\n",
    "\n",
    "    for i in range(len(cm)):\n",
    "        for j in range(len(cm)):\n",
    "            text = ax.text(j, i, cm[i, j],\n",
    "                           ha=\"center\", va=\"center\", color=\"w\")\n",
    "\n",
    "    plt.xlabel('Predicted')\n",
    "    plt.ylabel('True')\n",
    "    #fig.tight_layout()\n",
    "    plt.show()"
   ]
  },
  {
   "cell_type": "code",
   "execution_count": 15,
   "metadata": {},
   "outputs": [
    {
     "name": "stderr",
     "output_type": "stream",
     "text": [
      "c:\\users\\hp\\appdata\\local\\programs\\python\\python39\\lib\\site-packages\\sklearn\\utils\\validation.py:67: FutureWarning: Pass labels=['B-TITLE', 'B-TRAILER', 'I-YEAR', 'I-REVIEW', 'I-DIRECTOR', 'B-CHARACTER', 'I-GENRE', 'I-RATING', 'I-TRAILER', 'O', 'B-GENRE', 'B-DIRECTOR', 'B-RATING', 'B-SONG', 'B-RATINGS_AVERAGE', 'I-PLOT', 'B-YEAR', 'B-ACTOR', 'I-SONG', 'I-RATINGS_AVERAGE', 'I-CHARACTER', 'B-REVIEW', 'I-TITLE', 'I-ACTOR', 'B-PLOT'] as keyword args. From version 0.25 passing these as positional arguments will result in an error\n",
      "  warnings.warn(\"Pass {} as keyword args. From version 0.25 \"\n"
     ]
    },
    {
     "data": {
      "image/png": "[encoded data removed]",
      "text/plain": [
       "<Figure size 1440x1440 with 2 Axes>"
      ]
     },
     "metadata": {
      "needs_background": "light"
     },
     "output_type": "display_data"
    }
   ],
   "source": [
    "confusion_matrix_heatmap(y_test, preds)"
   ]
  },
  {
   "cell_type": "markdown",
   "metadata": {},
   "source": [
    "# 2. Error analysis 1: False positives"
   ]
  },
  {
   "cell_type": "markdown",
   "metadata": {},
   "source": [
    "1. IDENTIFYING THE 5 CLASSES WHICH HAS THE LOWEST PRECISION </BR>\n",
    "2. THE <B>preds</B> AND <B>y_test</B> HAS THE PREDICTED AND TRUE VALUES </BR>\n",
    "3. THE CLASSIFICATION REPORT IS USED TO GATHER THE INFORMATION ABOUT THE LOWEST PRECISION AND LOWEST RECALL </BR>\n",
    "4. THE POP FUNCTION IS USED TO REMOVE THE ACCURACY, MACRO AVG, AND WEIGHTED AVG FROM THE DICTIONARY CREATED BY CLASSIFICATION REPORT </BR>\n",
    "5. THEN THE PRECISION AND RECALL ARE GATHERED IN VARIABLES IN A SORTED WAY USING SORTING FUNCTION </BR>\n",
    "6. USING A FOR LOOP THE LOWEST PRECISION AND RECALL IS APPENDED TO A LIST\n",
    "7. THUS THE LOWEST PRECISIONS ARE IDENTIFIED AND STORED DYNAMICALLY IN THE VARIALBE <B>lowest_precision</B>\n",
    "8. SIMILARY THE LOWEST RECALL STORED IN THE VARIABLE <B>lowest_recall</B>\n",
    "9. FINALLY FOR EVERY <B>\"sent_preds != sent_true\"</B> THE FALSE POSITIVES AND FALSE NEGATIVES ARE GROUPED TOGETHER\n",
    "10.  THE OUTPUT IS GENERATED IN THE FORMAT: </BR>\n",
    "<B>\"[TRUTH: O ] [ PREDICTED: I-RATINGS_AVERAGE ] [ WORD: ('star', 'O') ] [ SENTENCE: what five star rated thriller directed by dover koshashvili is unrated\" </B>"
   ]
  },
  {
   "cell_type": "code",
   "execution_count": 16,
   "metadata": {},
   "outputs": [
    {
     "name": "stdout",
     "output_type": "stream",
     "text": [
      "testing tagger...\n",
      "\n",
      "\n"
     ]
    }
   ],
   "source": [
    "print(\"testing tagger...\")\n",
    "print('\\n')\n",
    "preds = []\n",
    "y_test = []\n",
    "\n",
    "for sent in testData_one:\n",
    "    sent_preds = [x[1] for x in ct.tag([s[0] for s in sent])]\n",
    "    sent_true = [s[1] for s in sent]\n",
    "    preds.extend(sent_preds)\n",
    "    y_test.extend(sent_true)\n",
    "\n",
    "#checked\n",
    "#print(\"Preds:\",sorted(set(preds)))\n",
    "#print(\"Test:\", sorted(set(y_test)))\n",
    "\n",
    "dictionary = classification_report(y_test, preds,output_dict = True)\n",
    "\n",
    "dictionary.pop(\"accuracy\")\n",
    "dictionary.pop(\"macro avg\")\n",
    "dictionary.pop(\"weighted avg\")\n",
    "\n",
    "precision = sorted(dictionary.items(), key=lambda x: x[1]['precision'])\n",
    "recall = sorted(dictionary.items(), key=lambda x: x[1]['recall'])\n",
    "\n",
    "#checked\n",
    "#print(precision[0:5]) \n",
    "#print(recall[0:5])\n",
    "\n",
    "lowest_precision = []\n",
    "lowest_recall = []\n",
    "\n",
    "for p in precision[0:5]:\n",
    "    lowest_precision.append(p[0])    \n",
    "\n",
    "for r in recall[0:5]:\n",
    "    lowest_recall.append(r[0])  \n",
    "    \n",
    "#checked\n",
    "#print(test_data)\n",
    "\n",
    "FP = []\n",
    "FN = []\n",
    "for sent in testData_one:\n",
    "    sent_preds = [x[1] for x in ct.tag([s[0] for s in sent])]\n",
    "    sent_true = [s[1] for s in sent]\n",
    "    if sent_preds != sent_true:\n",
    "        for p, t, s in zip(sent_preds, sent_true, sent):\n",
    "            if p != t:\n",
    "                if p in lowest_precision:\n",
    "                    sentence = ' '.join([s[0] for s in sent])\n",
    "                    FP.append((t, p, s, sentence))\n",
    "                if t in lowest_recall: \n",
    "                    sentence = ' '.join([s[0] for s in sent])\n",
    "                    FN.append((t, p, s, sentence))"
   ]
  },
  {
   "cell_type": "code",
   "execution_count": 17,
   "metadata": {},
   "outputs": [
    {
     "name": "stdout",
     "output_type": "stream",
     "text": [
      "Lowest precision found in the following: ['I-TRAILER', 'B-REVIEW', 'B-SONG', 'I-REVIEW', 'I-RATINGS_AVERAGE']\n",
      "\n",
      "\n",
      "------------------------------\n",
      "87 False Positives:\n",
      "------------------------------\n",
      "[ TRUTH: O ] [ PREDICTED: I-RATINGS_AVERAGE ] [ WORD: ('star', 'O') ] [ SENTENCE: what five star rated thriller directed by dover koshashvili is unrated ]\n",
      "[ TRUTH: O ] [ PREDICTED: I-RATINGS_AVERAGE ] [ WORD: ('rated', 'O') ] [ SENTENCE: what five star rated thriller directed by dover koshashvili is unrated ]\n",
      "[ TRUTH: O ] [ PREDICTED: I-RATINGS_AVERAGE ] [ WORD: ('star', 'O') ] [ SENTENCE: what five star rating movie did jamie luner act in ]\n",
      "[ TRUTH: O ] [ PREDICTED: I-RATINGS_AVERAGE ] [ WORD: ('rated', 'O') ] [ SENTENCE: what four star rated horror movie was directed by fritz kiersch ]\n",
      "[ TRUTH: O ] [ PREDICTED: I-RATINGS_AVERAGE ] [ WORD: ('ratings', 'O') ] [ SENTENCE: what horror movie that came out in 1980 and had decent ratings and was directed by shane thueson ]\n",
      "[ TRUTH: O ] [ PREDICTED: I-RATINGS_AVERAGE ] [ WORD: ('stars', 'O') ] [ SENTENCE: what horror movie with a rating of four stars chris odonell ]\n",
      "[ TRUTH: O ] [ PREDICTED: I-RATINGS_AVERAGE ] [ WORD: ('star', 'O') ] [ SENTENCE: what is 2010 s r rated movie centered on a jungle with a nine star rating that is directed by peter webber ]\n",
      "[ TRUTH: I-TITLE ] [ PREDICTED: I-RATINGS_AVERAGE ] [ WORD: ('right', 'I-TITLE') ] [ SENTENCE: what is the kids are all right about ]\n",
      "[ TRUTH: O ] [ PREDICTED: I-RATINGS_AVERAGE ] [ WORD: ('stars', 'O') ] [ SENTENCE: what is a 2010 s thriller that stars stephen baldwin and is rated eight stars ]\n",
      "[ TRUTH: B-RATINGS_AVERAGE ] [ PREDICTED: I-RATINGS_AVERAGE ] [ WORD: ('liked', 'B-RATINGS_AVERAGE') ] [ SENTENCE: what is a pg rated movie with a rescue liked by many directed by thor freudenthal ]\n",
      "[ TRUTH: O ] [ PREDICTED: I-RATINGS_AVERAGE ] [ WORD: ('ratings', 'O') ] [ SENTENCE: what is a pg 13 mockumentary from the last nine years with ving rhames that got ok ratings ]\n",
      "[ TRUTH: O ] [ PREDICTED: I-RATINGS_AVERAGE ] [ WORD: ('ratings', 'O') ] [ SENTENCE: what is a pg 13 movie about cavalry which was released within the last two years and received ok ratings ]\n",
      "[ TRUTH: O ] [ PREDICTED: I-RATINGS_AVERAGE ] [ WORD: ('star', 'O') ] [ SENTENCE: what is a pg 13 rated film noir with an average eight star rating that is directed by monika treut ]\n",
      "[ TRUTH: B-PLOT ] [ PREDICTED: I-RATINGS_AVERAGE ] [ WORD: ('organized', 'B-PLOT') ] [ SENTENCE: what is a critically acclaimed organized crime pg biography with shirley mcclain from the 1950 s ]\n",
      "[ TRUTH: O ] [ PREDICTED: I-RATINGS_AVERAGE ] [ WORD: ('star', 'O') ] [ SENTENCE: what is a family movie in the past seven decades with a six star rating starring jennifer lien ]\n",
      "[ TRUTH: O ] [ PREDICTED: I-RATINGS_AVERAGE ] [ WORD: ('star', 'O') ] [ SENTENCE: what is a film with a six star rating starring karen lynn gorney with pg 13 rating ]\n",
      "[ TRUTH: O ] [ PREDICTED: I-RATINGS_AVERAGE ] [ WORD: ('star', 'O') ] [ SENTENCE: what is a four star war movie directed by steven seagal ]\n",
      "[ TRUTH: B-GENRE ] [ PREDICTED: I-RATINGS_AVERAGE ] [ WORD: ('love', 'B-GENRE') ] [ SENTENCE: what is a good love movie rated pg 13 which came out within the last eight years ]\n",
      "[ TRUTH: O ] [ PREDICTED: I-RATINGS_AVERAGE ] [ WORD: ('star', 'O') ] [ SENTENCE: what is a horror movie with a nine star rating that was released in the last nine decades ]\n",
      "[ TRUTH: O ] [ PREDICTED: I-RATINGS_AVERAGE ] [ WORD: ('star', 'O') ] [ SENTENCE: what is a mockumentary with a four star rating that is directed by wincat alcala ]\n",
      "[ TRUTH: O ] [ PREDICTED: I-RATINGS_AVERAGE ] [ WORD: ('rated', 'O') ] [ SENTENCE: what is a seven rated pg 13 adventure directed herbert l strock in the last seven decades ]\n",
      "[ TRUTH: O ] [ PREDICTED: I-RATINGS_AVERAGE ] [ WORD: ('rated', 'O') ] [ SENTENCE: what is a seven rated activism movie with actor parker posey ]\n",
      "[ TRUTH: O ] [ PREDICTED: I-RATINGS_AVERAGE ] [ WORD: ('rated', 'O') ] [ SENTENCE: what is an ok rated r mystery directed by ron wolotzky ]\n",
      "[ TRUTH: B-RATINGS_AVERAGE ] [ PREDICTED: I-RATINGS_AVERAGE ] [ WORD: ('liked', 'B-RATINGS_AVERAGE') ] [ SENTENCE: what is an r rated horror movie from 1960 that was liked by many ]\n",
      "[ TRUTH: O ] [ PREDICTED: B-REVIEW ] [ WORD: ('funniest', 'O') ] [ SENTENCE: what is the funniest comedy of all time ]\n",
      "[ TRUTH: O ] [ PREDICTED: I-RATINGS_AVERAGE ] [ WORD: ('rated', 'O') ] [ SENTENCE: what is the highest rated horror film that cary grant was ever in ]\n",
      "[ TRUTH: O ] [ PREDICTED: I-RATINGS_AVERAGE ] [ WORD: ('ratings', 'O') ] [ SENTENCE: what is the last crime movie to come out with high ratings ]\n",
      "[ TRUTH: O ] [ PREDICTED: I-RATINGS_AVERAGE ] [ WORD: ('reviews', 'O') ] [ SENTENCE: what is the last documentary that got good reviews ]\n",
      "[ TRUTH: O ] [ PREDICTED: I-RATINGS_AVERAGE ] [ WORD: ('reviews', 'O') ] [ SENTENCE: what is the last horror film that got good reviews ]\n",
      "[ TRUTH: O ] [ PREDICTED: I-RATINGS_AVERAGE ] [ WORD: ('reviews', 'O') ] [ SENTENCE: what is the movie directed by marina gavrilova with an r rating about a exotic bird with average reviews ]\n",
      "[ TRUTH: O ] [ PREDICTED: I-RATINGS_AVERAGE ] [ WORD: ('review', 'O') ] [ SENTENCE: what is the movie from 1960 starring leslie nielson that had a nine star review and was rated nc 17 ]\n",
      "[ TRUTH: B-PLOT ] [ PREDICTED: B-REVIEW ] [ WORD: ('best', 'B-PLOT') ] [ SENTENCE: what is the name of the r rated romance movie directed by jerry schatzberg about a best friend ]\n",
      "[ TRUTH: I-PLOT ] [ PREDICTED: I-REVIEW ] [ WORD: ('friend', 'I-PLOT') ] [ SENTENCE: what is the name of the r rated romance movie directed by jerry schatzberg about a best friend ]\n",
      "[ TRUTH: O ] [ PREDICTED: I-RATINGS_AVERAGE ] [ WORD: ('star', 'O') ] [ SENTENCE: what is the name of the five star rated movie that debra messing made about embezzlement in 1960 ]\n",
      "[ TRUTH: O ] [ PREDICTED: I-RATINGS_AVERAGE ] [ WORD: ('ratings', 'O') ] [ SENTENCE: what is the name of the movie directed by mike bigelow about a cocktail party which got decent ratings ]\n",
      "[ TRUTH: O ] [ PREDICTED: I-RATINGS_AVERAGE ] [ WORD: ('stars', 'O') ] [ SENTENCE: what is the rated r comedy movie that stars rosanna arquette set in 1950 that received five stars ]\n",
      "[ TRUTH: O ] [ PREDICTED: I-RATINGS_AVERAGE ] [ WORD: ('ratings', 'O') ] [ SENTENCE: what is the title of a film starring robert duvall from the past year about love at first sight that had decent ratings ]\n",
      "[ TRUTH: O ] [ PREDICTED: I-RATINGS_AVERAGE ] [ WORD: ('star', 'O') ] [ SENTENCE: what is the title of a four star funny film about alcohol from the 1970 s directed by master p that was rated r ]\n",
      "[ TRUTH: O ] [ PREDICTED: I-RATINGS_AVERAGE ] [ WORD: ('star', 'O') ] [ SENTENCE: what is the title of the nine star g rated tommy chong movie that came out the past decade ]\n",
      "[ TRUTH: O ] [ PREDICTED: I-RATINGS_AVERAGE ] [ WORD: ('ratings', 'O') ] [ SENTENCE: what jungle movies have come out in the past two years with ok ratings ]\n",
      "[ TRUTH: O ] [ PREDICTED: I-RATINGS_AVERAGE ] [ WORD: ('rated', 'O') ] [ SENTENCE: what mediocre rated g comedy starred tyler christopher ]\n",
      "[ TRUTH: O ] [ PREDICTED: I-RATINGS_AVERAGE ] [ WORD: ('rated', 'O') ] [ SENTENCE: what mediocre rated cowboy movie about mining did christopher lloyd star in during the last eight years that was rated pg 13 ]\n",
      "[ TRUTH: O ] [ PREDICTED: I-RATINGS_AVERAGE ] [ WORD: ('star', 'O') ] [ SENTENCE: what military movie with a six star rating was directed brian dannelly ]\n",
      "[ TRUTH: O ] [ PREDICTED: I-RATINGS_AVERAGE ] [ WORD: ('well', 'O') ] [ SENTENCE: what movie is federico fellinis most well known film ]\n",
      "[ TRUTH: O ] [ PREDICTED: I-RATINGS_AVERAGE ] [ WORD: ('ratings', 'O') ] [ SENTENCE: what movie made in the 1950 s received mediocre ratings and was about radiation ]\n",
      "[ TRUTH: I-PLOT ] [ PREDICTED: I-RATINGS_AVERAGE ] [ WORD: ('days', 'I-PLOT') ] [ SENTENCE: what movie starring sharon stone was about seven days ]\n",
      "[ TRUTH: O ] [ PREDICTED: B-REVIEW ] [ WORD: ('reviews', 'O') ] [ SENTENCE: what movie stars michael hurst thats rated r and was liked a lot judging from the reviews ]\n",
      "[ TRUTH: B-RATINGS_AVERAGE ] [ PREDICTED: I-RATINGS_AVERAGE ] [ WORD: ('liked', 'B-RATINGS_AVERAGE') ] [ SENTENCE: what movie was liked by many starring kiefer sutherland ]\n",
      "[ TRUTH: B-GENRE ] [ PREDICTED: I-RATINGS_AVERAGE ] [ WORD: ('violent', 'B-GENRE') ] [ SENTENCE: what movie with helena bonham carter was very violent ]\n",
      "[ TRUTH: O ] [ PREDICTED: I-RATINGS_AVERAGE ] [ WORD: ('viewers', 'O') ] [ SENTENCE: what movies starring deforest kelly were liked by many viewers ]\n",
      "[ TRUTH: O ] [ PREDICTED: I-RATINGS_AVERAGE ] [ WORD: ('stars', 'O') ] [ SENTENCE: what musical starring nathan lane got an average rating of four stars ]\n",
      "[ TRUTH: O ] [ PREDICTED: I-RATINGS_AVERAGE ] [ WORD: ('reviews', 'O') ] [ SENTENCE: what rated r action film got mediocre reviews starring hugh grant ]\n",
      "[ TRUTH: O ] [ PREDICTED: I-RATINGS_AVERAGE ] [ WORD: ('stars', 'O') ] [ SENTENCE: what rated r film received five stars starring morgan fairchild ]\n",
      "[ TRUTH: O ] [ PREDICTED: I-RATINGS_AVERAGE ] [ WORD: ('rated', 'O') ] [ SENTENCE: what science fiction movie is watchable rated r and came out in the last four decades ]\n",
      "[ TRUTH: O ] [ PREDICTED: I-RATINGS_AVERAGE ] [ WORD: ('rated', 'O') ] [ SENTENCE: what six star rated animated movie about a teddy bear that came out in the last five decades that was directed by jason todd ipson ]\n",
      "[ TRUTH: O ] [ PREDICTED: I-RATINGS_AVERAGE ] [ WORD: ('ratings', 'O') ] [ SENTENCE: what sport movie that had mediocre ratings was unrated ]\n",
      "[ TRUTH: O ] [ PREDICTED: I-RATINGS_AVERAGE ] [ WORD: ('ratings', 'O') ] [ SENTENCE: what unrated war movie came out this year that got average ratings ]\n",
      "[ TRUTH: B-RATINGS_AVERAGE ] [ PREDICTED: I-RATINGS_AVERAGE ] [ WORD: ('liked', 'B-RATINGS_AVERAGE') ] [ SENTENCE: what unrated war movie that came out in the past nine decades and was liked by many called ]\n",
      "[ TRUTH: O ] [ PREDICTED: I-RATINGS_AVERAGE ] [ WORD: ('ratings', 'O') ] [ SENTENCE: what war movies that came out in 2000 got really good ratings ]\n",
      "[ TRUTH: O ] [ PREDICTED: I-RATINGS_AVERAGE ] [ WORD: ('rated', 'O') ] [ SENTENCE: what was a four rated musician movie directed by mark simmons in the past decade ]\n",
      "[ TRUTH: B-RATINGS_AVERAGE ] [ PREDICTED: I-RATINGS_AVERAGE ] [ WORD: ('liked', 'B-RATINGS_AVERAGE') ] [ SENTENCE: what was that military movie that was liked by many and that had an army base in it ]\n",
      "[ TRUTH: O ] [ PREDICTED: I-RATINGS_AVERAGE ] [ WORD: ('well', 'O') ] [ SENTENCE: what was that unrated corey haim war movie that was rated well in the last two decades that a lot of people said was rated well ]\n",
      "[ TRUTH: B-RATINGS_AVERAGE ] [ PREDICTED: I-RATINGS_AVERAGE ] [ WORD: ('liked', 'B-RATINGS_AVERAGE') ] [ SENTENCE: what was the leonard nimoy film that was liked by many and had something to do with redemption ]\n",
      "[ TRUTH: O ] [ PREDICTED: I-RATINGS_AVERAGE ] [ WORD: ('rated', 'O') ] [ SENTENCE: what was the all right rated comedy directed by po chih leong with the pg 13 rating made in the 2010 s ]\n",
      "[ TRUTH: O ] [ PREDICTED: I-RATINGS_AVERAGE ] [ WORD: ('popular', 'O') ] [ SENTENCE: what was the most popular drama of the 1950 s ]\n",
      "[ TRUTH: O ] [ PREDICTED: I-RATINGS_AVERAGE ] [ WORD: ('popular', 'O') ] [ SENTENCE: what was the most popular fantasy movie of the 1970 s ]\n",
      "[ TRUTH: O ] [ PREDICTED: I-RATINGS_AVERAGE ] [ WORD: ('popular', 'O') ] [ SENTENCE: what was the most popular thriller of the 1960 s ]\n",
      "[ TRUTH: O ] [ PREDICTED: I-RATINGS_AVERAGE ] [ WORD: ('stars', 'O') ] [ SENTENCE: what was the movie that cicely tyson starred in that got a rating of seven stars ]\n",
      "[ TRUTH: B-RATINGS_AVERAGE ] [ PREDICTED: I-RATINGS_AVERAGE ] [ WORD: ('liked', 'B-RATINGS_AVERAGE') ] [ SENTENCE: what was the name of jean claude van dammes movie about global power that was liked by many ]\n",
      "[ TRUTH: O ] [ PREDICTED: I-RATINGS_AVERAGE ] [ WORD: ('stars', 'O') ] [ SENTENCE: what was the name of the film that natasha pavlovich starred in back in 1960 it was rated pg and received six stars ]\n",
      "[ TRUTH: B-RATINGS_AVERAGE ] [ PREDICTED: I-RATINGS_AVERAGE ] [ WORD: ('liked', 'B-RATINGS_AVERAGE') ] [ SENTENCE: what was the name of the mockumentary in the last ten decades that was liked by many was rated pg and was directed by matthew ginsburg ]\n",
      "[ TRUTH: O ] [ PREDICTED: I-RATINGS_AVERAGE ] [ WORD: ('star', 'O') ] [ SENTENCE: whats a six star reviewed history movie with an r rating ]\n",
      "[ TRUTH: O ] [ PREDICTED: I-RATINGS_AVERAGE ] [ WORD: ('reviewed', 'O') ] [ SENTENCE: whats a six star reviewed history movie with an r rating ]\n",
      "[ TRUTH: O ] [ PREDICTED: I-RATINGS_AVERAGE ] [ WORD: ('rated', 'O') ] [ SENTENCE: whats an average rated animated film starring phillip seymour hoffman thats rated pg 13 ]\n",
      "[ TRUTH: O ] [ PREDICTED: I-RATINGS_AVERAGE ] [ WORD: ('reviewed', 'O') ] [ SENTENCE: whats that eight star reviewed character portrait from 1990 starring michael madsen ]\n",
      "[ TRUTH: I-TITLE ] [ PREDICTED: I-RATINGS_AVERAGE ] [ WORD: ('pounds', 'I-TITLE') ] [ SENTENCE: when did seven pounds come out ]\n",
      "[ TRUTH: O ] [ PREDICTED: I-RATINGS_AVERAGE ] [ WORD: ('ratings', 'O') ] [ SENTENCE: which 1980 pg 13 fantasy film received mediocre ratings and centered around storytelling ]\n",
      "[ TRUTH: O ] [ PREDICTED: I-RATINGS_AVERAGE ] [ WORD: ('ratings', 'O') ] [ SENTENCE: which pg 13 1980 love movie starring lena heady was about unrequited love and received very good ratings ]\n",
      "[ TRUTH: O ] [ PREDICTED: I-RATINGS_AVERAGE ] [ WORD: ('star', 'O') ] [ SENTENCE: who directed the rob estes documentary about environmentalism that came out in the 2000 s and received a four star rating ]\n",
      "[ TRUTH: O ] [ PREDICTED: I-RATINGS_AVERAGE ] [ WORD: ('well', 'O') ] [ SENTENCE: who is most well known for directing mockumentary movies ]\n",
      "[ TRUTH: O ] [ PREDICTED: I-RATINGS_AVERAGE ] [ WORD: ('well', 'O') ] [ SENTENCE: who is the most well known mockumentary director ]\n",
      "[ TRUTH: O ] [ PREDICTED: I-RATINGS_AVERAGE ] [ WORD: ('right', 'O') ] [ SENTENCE: within the last four years has there been a romantic drama starring elvis hes dead right ]\n",
      "[ TRUTH: O ] [ PREDICTED: B-SONG ] [ WORD: ('soundtrack', 'O') ] [ SENTENCE: which movie released in the 1960 s had the my favorite things song in its soundtrack ]\n",
      "[ TRUTH: O ] [ PREDICTED: B-SONG ] [ WORD: ('soundtrack', 'O') ] [ SENTENCE: do you know of any movie that had come what may in its soundtrack ]\n",
      "[ TRUTH: O ] [ PREDICTED: B-SONG ] [ WORD: ('soundtrack', 'O') ] [ SENTENCE: do you know any movies that have the song come what may in its soundtrack ]\n",
      "[ TRUTH: O ] [ PREDICTED: B-SONG ] [ WORD: ('soundtrack', 'O') ] [ SENTENCE: what movie starred judy garland that had over the rainbow in its soundtrack ]\n",
      "[ TRUTH: I-SONG ] [ PREDICTED: B-SONG ] [ WORD: ('sound', 'I-SONG') ] [ SENTENCE: what s the movie with the sound of music ]\n"
     ]
    }
   ],
   "source": [
    "print(\"Lowest precision found in the following:\", lowest_precision)\n",
    "\n",
    "print('\\n')\n",
    "print(\"------------------------------\")\n",
    "print(len(FP), \"False Positives:\")\n",
    "print(\"------------------------------\")\n",
    "for fp in FP:\n",
    "    print(\"[ TRUTH:\",fp[0],\"] [ PREDICTED:\",fp[1], \"] [ WORD:\",fp[2],\"] [ SENTENCE:\",fp[3],\"]\")"
   ]
  },
  {
   "cell_type": "markdown",
   "metadata": {},
   "source": [
    "# 3. Error analysis 2: False negatives\n",
    "\n",
    "THE STEPS ARE MENTIONED AS ABOVE </BR>\n",
    "THE OUTPUT IS GENERATED IN THE FORMAT: </BR>\n",
    "<B> [ TRUTH: B-REVIEW ] [ PREDICTED: O ] [ WORD: ('reviews', 'B-REVIEW') ] [ SENTENCE: can you show me some reviews for purple rain ]</B>\n"
   ]
  },
  {
   "cell_type": "code",
   "execution_count": 18,
   "metadata": {},
   "outputs": [
    {
     "name": "stdout",
     "output_type": "stream",
     "text": [
      "Lowest recall found in the following: ['I-TRAILER', 'B-REVIEW', 'I-REVIEW', 'B-SONG', 'I-SONG']\n",
      "\n",
      "\n",
      "------------------------------\n",
      "56 False Negatives:\n",
      "------------------------------\n",
      "[ TRUTH: B-REVIEW ] [ PREDICTED: O ] [ WORD: ('reviews', 'B-REVIEW') ] [ SENTENCE: can you show me some reviews for purple rain ]\n",
      "[ TRUTH: B-REVIEW ] [ PREDICTED: O ] [ WORD: ('reviews', 'B-REVIEW') ] [ SENTENCE: where can i find good reviews about the movie purple rain ]\n",
      "[ TRUTH: B-REVIEW ] [ PREDICTED: O ] [ WORD: ('reviews', 'B-REVIEW') ] [ SENTENCE: could you show me a website with detailed reviews of purple rain ]\n",
      "[ TRUTH: B-REVIEW ] [ PREDICTED: O ] [ WORD: ('reviews', 'B-REVIEW') ] [ SENTENCE: can you let me know what reviews people of my age group gave for purple rain ]\n",
      "[ TRUTH: B-REVIEW ] [ PREDICTED: O ] [ WORD: ('reviews', 'B-REVIEW') ] [ SENTENCE: what were the reviews like for purple rain ]\n",
      "[ TRUTH: B-REVIEW ] [ PREDICTED: O ] [ WORD: ('opinions', 'B-REVIEW') ] [ SENTENCE: where can i find detailed opinions about the movie purple rain ]\n",
      "[ TRUTH: B-REVIEW ] [ PREDICTED: O ] [ WORD: ('think', 'B-REVIEW') ] [ SENTENCE: what did you think about that movie purple rain ]\n",
      "[ TRUTH: B-REVIEW ] [ PREDICTED: O ] [ WORD: ('reviews', 'B-REVIEW') ] [ SENTENCE: i wish to see reviews from common people who watched the movie already ]\n",
      "[ TRUTH: B-REVIEW ] [ PREDICTED: O ] [ WORD: ('reviews', 'B-REVIEW') ] [ SENTENCE: could you show me a website with reviews by users of evita ]\n",
      "[ TRUTH: B-REVIEW ] [ PREDICTED: O ] [ WORD: ('review', 'B-REVIEW') ] [ SENTENCE: i would like to see the movie review for the movie kiss me kate ]\n",
      "[ TRUTH: B-REVIEW ] [ PREDICTED: O ] [ WORD: ('reviews', 'B-REVIEW') ] [ SENTENCE: what kind of reviews are there for evita ]\n",
      "[ TRUTH: B-REVIEW ] [ PREDICTED: O ] [ WORD: ('people', 'B-REVIEW') ] [ SENTENCE: i am interested in the movie evita but i want to see what people thought of the movie first ]\n",
      "[ TRUTH: I-REVIEW ] [ PREDICTED: O ] [ WORD: ('thought', 'I-REVIEW') ] [ SENTENCE: i am interested in the movie evita but i want to see what people thought of the movie first ]\n",
      "[ TRUTH: B-REVIEW ] [ PREDICTED: O ] [ WORD: ('comments', 'B-REVIEW') ] [ SENTENCE: please show me the comments viewers had and whether they found it lovely or boring ]\n",
      "[ TRUTH: B-REVIEW ] [ PREDICTED: O ] [ WORD: ('people', 'B-REVIEW') ] [ SENTENCE: what did people think about the movie willy wonka the chocolate factory ]\n",
      "[ TRUTH: I-REVIEW ] [ PREDICTED: O ] [ WORD: ('think', 'I-REVIEW') ] [ SENTENCE: what did people think about the movie willy wonka the chocolate factory ]\n",
      "[ TRUTH: B-REVIEW ] [ PREDICTED: O ] [ WORD: ('rate', 'B-REVIEW') ] [ SENTENCE: how did others rate the willy wonka ]\n",
      "[ TRUTH: B-REVIEW ] [ PREDICTED: O ] [ WORD: ('sentiment', 'B-REVIEW') ] [ SENTENCE: what is the public sentiment about willy wonka and the chocolate factory ]\n",
      "[ TRUTH: B-REVIEW ] [ PREDICTED: O ] [ WORD: ('think', 'B-REVIEW') ] [ SENTENCE: did you think willy wonka the chocolate factory was a good movie ]\n",
      "[ TRUTH: B-REVIEW ] [ PREDICTED: O ] [ WORD: ('critics', 'B-REVIEW') ] [ SENTENCE: what are the film critics saying about the new indiana jones movie ]\n",
      "[ TRUTH: I-REVIEW ] [ PREDICTED: O ] [ WORD: ('saying', 'I-REVIEW') ] [ SENTENCE: what are the film critics saying about the new indiana jones movie ]\n",
      "[ TRUTH: B-REVIEW ] [ PREDICTED: O ] [ WORD: ('reviews', 'B-REVIEW') ] [ SENTENCE: can you point me to a site where i can see some reviews of the movie willy wonka and the chocolate factory ]\n",
      "[ TRUTH: B-REVIEW ] [ PREDICTED: O ] [ WORD: ('reviews', 'B-REVIEW') ] [ SENTENCE: what are the reviews on rotten tomatoes saying about willy wonka the chocolate factory ]\n",
      "[ TRUTH: B-REVIEW ] [ PREDICTED: O ] [ WORD: ('reviews', 'B-REVIEW') ] [ SENTENCE: please show me a website with reviews of a hard day s night ]\n",
      "[ TRUTH: B-REVIEW ] [ PREDICTED: O ] [ WORD: ('think', 'B-REVIEW') ] [ SENTENCE: what did you really think about evita ]\n",
      "[ TRUTH: B-REVIEW ] [ PREDICTED: O ] [ WORD: ('think', 'B-REVIEW') ] [ SENTENCE: what did you think was an awesome part in it ]\n",
      "[ TRUTH: B-REVIEW ] [ PREDICTED: O ] [ WORD: ('think', 'B-REVIEW') ] [ SENTENCE: what do you think of the movie a hard day s night ]\n",
      "[ TRUTH: B-REVIEW ] [ PREDICTED: O ] [ WORD: ('any', 'B-REVIEW') ] [ SENTENCE: do you know whether a hard day s night is any good ]\n",
      "[ TRUTH: I-REVIEW ] [ PREDICTED: O ] [ WORD: ('good', 'I-REVIEW') ] [ SENTENCE: do you know whether a hard day s night is any good ]\n",
      "[ TRUTH: I-TRAILER ] [ PREDICTED: O ] [ WORD: ('part', 'I-TRAILER') ] [ SENTENCE: could you show me some part of the new indiana jones movie ]\n",
      "[ TRUTH: B-SONG ] [ PREDICTED: O ] [ WORD: ('come', 'B-SONG') ] [ SENTENCE: show me if any movie has the song come what may in it ]\n",
      "[ TRUTH: I-SONG ] [ PREDICTED: O ] [ WORD: ('what', 'I-SONG') ] [ SENTENCE: show me if any movie has the song come what may in it ]\n",
      "[ TRUTH: I-SONG ] [ PREDICTED: O ] [ WORD: ('may', 'I-SONG') ] [ SENTENCE: show me if any movie has the song come what may in it ]\n",
      "[ TRUTH: B-SONG ] [ PREDICTED: O ] [ WORD: ('come', 'B-SONG') ] [ SENTENCE: search for soundtracks of movies having come what may in them ]\n",
      "[ TRUTH: I-SONG ] [ PREDICTED: O ] [ WORD: ('what', 'I-SONG') ] [ SENTENCE: search for soundtracks of movies having come what may in them ]\n",
      "[ TRUTH: I-SONG ] [ PREDICTED: O ] [ WORD: ('may', 'I-SONG') ] [ SENTENCE: search for soundtracks of movies having come what may in them ]\n",
      "[ TRUTH: B-SONG ] [ PREDICTED: O ] [ WORD: ('come', 'B-SONG') ] [ SENTENCE: do you know of any movie that had come what may in its soundtrack ]\n",
      "[ TRUTH: I-SONG ] [ PREDICTED: O ] [ WORD: ('what', 'I-SONG') ] [ SENTENCE: do you know of any movie that had come what may in its soundtrack ]\n",
      "[ TRUTH: I-SONG ] [ PREDICTED: O ] [ WORD: ('may', 'I-SONG') ] [ SENTENCE: do you know of any movie that had come what may in its soundtrack ]\n",
      "[ TRUTH: B-SONG ] [ PREDICTED: O ] [ WORD: ('come', 'B-SONG') ] [ SENTENCE: do you know any movies that have the song come what may in its soundtrack ]\n",
      "[ TRUTH: I-SONG ] [ PREDICTED: O ] [ WORD: ('what', 'I-SONG') ] [ SENTENCE: do you know any movies that have the song come what may in its soundtrack ]\n",
      "[ TRUTH: I-SONG ] [ PREDICTED: O ] [ WORD: ('may', 'I-SONG') ] [ SENTENCE: do you know any movies that have the song come what may in its soundtrack ]\n",
      "[ TRUTH: B-SONG ] [ PREDICTED: O ] [ WORD: ('come', 'B-SONG') ] [ SENTENCE: please tell me any movies that had come what may as the main theme song or as part of the soundtrack of the movie ]\n",
      "[ TRUTH: I-SONG ] [ PREDICTED: O ] [ WORD: ('what', 'I-SONG') ] [ SENTENCE: please tell me any movies that had come what may as the main theme song or as part of the soundtrack of the movie ]\n",
      "[ TRUTH: I-SONG ] [ PREDICTED: O ] [ WORD: ('may', 'I-SONG') ] [ SENTENCE: please tell me any movies that had come what may as the main theme song or as part of the soundtrack of the movie ]\n",
      "[ TRUTH: B-SONG ] [ PREDICTED: B-TITLE ] [ WORD: ('singin', 'B-SONG') ] [ SENTENCE: show me the movie with singin in the rain ]\n",
      "[ TRUTH: I-SONG ] [ PREDICTED: I-TITLE ] [ WORD: ('in', 'I-SONG') ] [ SENTENCE: show me the movie with singin in the rain ]\n",
      "[ TRUTH: I-SONG ] [ PREDICTED: I-TITLE ] [ WORD: ('the', 'I-SONG') ] [ SENTENCE: show me the movie with singin in the rain ]\n",
      "[ TRUTH: I-SONG ] [ PREDICTED: I-TITLE ] [ WORD: ('rain', 'I-SONG') ] [ SENTENCE: show me the movie with singin in the rain ]\n",
      "[ TRUTH: B-SONG ] [ PREDICTED: O ] [ WORD: ('the', 'B-SONG') ] [ SENTENCE: what s the movie with the sound of music ]\n",
      "[ TRUTH: I-SONG ] [ PREDICTED: B-SONG ] [ WORD: ('sound', 'I-SONG') ] [ SENTENCE: what s the movie with the sound of music ]\n",
      "[ TRUTH: B-REVIEW ] [ PREDICTED: O ] [ WORD: ('say', 'B-REVIEW') ] [ SENTENCE: what did people say about shadow of the vampire ]\n",
      "[ TRUTH: I-REVIEW ] [ PREDICTED: O ] [ WORD: ('about', 'I-REVIEW') ] [ SENTENCE: what did people say about shadow of the vampire ]\n",
      "[ TRUTH: B-REVIEW ] [ PREDICTED: O ] [ WORD: ('reviews', 'B-REVIEW') ] [ SENTENCE: show me the reviews about road kill ]\n",
      "[ TRUTH: B-REVIEW ] [ PREDICTED: O ] [ WORD: ('think', 'B-REVIEW') ] [ SENTENCE: what do people think of the movie alicein wonderland ]\n",
      "[ TRUTH: I-REVIEW ] [ PREDICTED: O ] [ WORD: ('of', 'I-REVIEW') ] [ SENTENCE: what do people think of the movie alicein wonderland ]\n",
      "done\n"
     ]
    }
   ],
   "source": [
    "print(\"Lowest recall found in the following:\", lowest_recall)\n",
    "\n",
    "print('\\n')\n",
    "print(\"------------------------------\")\n",
    "print(len(FN), \"False Negatives:\")\n",
    "print(\"------------------------------\")\n",
    "for fn in FN:\n",
    "    print(\"[ TRUTH:\",fn[0],\"] [ PREDICTED:\",fn[1], \"] [ WORD:\",fn[2],\"] [ SENTENCE:\",fn[3],\"]\")\n",
    "    \n",
    "print(\"done\")"
   ]
  },
  {
   "cell_type": "markdown",
   "metadata": {},
   "source": [
    "# 4. Using POS tags as features"
   ]
  },
  {
   "cell_type": "markdown",
   "metadata": {},
   "source": [
    "<B> 1. USING THE PROVIDED CODE SNIPPET THE PREPROCESS IS UPDATED </BR>\n",
    "<B> 2. THE WORD AND POS TAG ARE CONCATENATED TOGETHER  USING \"/\" AND PUT BACK TOGETHER WITH THE BIO TAG IN THE PREPROCESS FUNCTION </B>"
   ]
  },
  {
   "cell_type": "code",
   "execution_count": 19,
   "metadata": {},
   "outputs": [],
   "source": [
    "def preProcess_two(example):\n",
    "    \"\"\"Function takes in list of (word, bio-tag) pairs, e.g.:\n",
    "        [('what', 'O'), ('movies', 'O'), ('star', 'O'), ('bruce', 'B-ACTOR'), ('willis', 'I-ACTOR')]\n",
    "    returns new (token, bio-tag) pairs with preprocessing applied to the words\"\"\"\n",
    "    #print(example)\n",
    "    posttagger = CRFTagger()\n",
    "    posttagger.set_model_file(\"crf_pos.tagger\")\n",
    "    wordCRF = [x[0]+'/'+x[1] for x in posttagger.tag([s[0] for s in example])]\n",
    "    BIO = [s[1] for s in example]  \n",
    "    preprocessed_example = [[x,y] for x,y in zip(wordCRF,BIO)]\n",
    "    return preprocessed_example"
   ]
  },
  {
   "cell_type": "markdown",
   "metadata": {},
   "source": [
    "<B> 3. THE PREPROCESS FUNCTION IS CALLED UPON THE TRAINING DATA SET </BR>\n",
    "<B> 4. THE PREPROCESS IS PERFORMED BEFORE SPLITTING OF DATA AS TRAINING AND DEVELOPMENT SET </B>"
   ]
  },
  {
   "cell_type": "code",
   "execution_count": 20,
   "metadata": {},
   "outputs": [],
   "source": [
    "training_data_two = [preProcess_two(example) for example in raw_training_data]"
   ]
  },
  {
   "cell_type": "markdown",
   "metadata": {},
   "source": [
    "<B> 5. SAMPLE CONTENT OF THE PREPROCESSED TRAINING DATA: </B>"
   ]
  },
  {
   "cell_type": "code",
   "execution_count": 21,
   "metadata": {},
   "outputs": [
    {
     "name": "stdout",
     "output_type": "stream",
     "text": [
      "[['what/WP', 'O'], ['movies/VBZ', 'O'], ['star/NNP', 'O'], ['bruce/NNP', 'B-ACTOR'], ['willis/NNP', 'I-ACTOR']]\n"
     ]
    }
   ],
   "source": [
    "print(training_data_two[0])"
   ]
  },
  {
   "cell_type": "markdown",
   "metadata": {},
   "source": [
    "<B> 6. THE DATASET SPLIT INTO TRAINING AND DEVELOPMENT DATASET </B>"
   ]
  },
  {
   "cell_type": "code",
   "execution_count": 22,
   "metadata": {},
   "outputs": [],
   "source": [
    "testData_two = []\n",
    "trainData_two = []\n",
    "length = len(training_data_two)\n",
    "split_percentage = 0.8\n",
    "split = int(length*split_percentage)\n",
    "trainData_two = training_data_two[0:split]\n",
    "testData_two = training_data_two[split:]"
   ]
  },
  {
   "cell_type": "markdown",
   "metadata": {},
   "source": [
    "<B> 7. SAMPLE SPLIT DATA CONTENTS:"
   ]
  },
  {
   "cell_type": "code",
   "execution_count": 23,
   "metadata": {},
   "outputs": [
    {
     "name": "stdout",
     "output_type": "stream",
     "text": [
      "[['what/WP', 'O'], ['movies/VBZ', 'O'], ['star/NNP', 'O'], ['bruce/NNP', 'B-ACTOR'], ['willis/NNP', 'I-ACTOR']]\n",
      "[['what/WP', 'O'], ['five/CD', 'B-RATINGS_AVERAGE'], ['star/GW', 'O'], ['rated/^JJ', 'O'], ['thriller/NN', 'B-GENRE'], ['directed/VBN', 'O'], ['by/IN', 'O'], ['dover/NNP', 'B-DIRECTOR'], ['koshashvili/NNP', 'I-DIRECTOR'], ['is/VBZ', 'O'], ['unrated/VBN', 'B-RATING']]\n"
     ]
    }
   ],
   "source": [
    "print(trainData_two[0])\n",
    "print(testData_two[0])"
   ]
  },
  {
   "cell_type": "markdown",
   "metadata": {},
   "source": [
    "<B> 8. THE GET FEATURE FUNCTION UPATED TO ADD THE POS TAG AS A FEATURE: </BR>\n",
    "<B> 9. THE INPUT TOKENS ARE SPLIT INTO THE TOKEN AND POS TAG AND APPENDED TO THE FEATURE LIST"
   ]
  },
  {
   "cell_type": "code",
   "execution_count": 24,
   "metadata": {},
   "outputs": [],
   "source": [
    "_pattern = re.compile(r\"\\d\")  # to recognize numbers/digits\n",
    "\n",
    "# This is the 'out-of-the-box' get_features function from the nltk CRF tagger\n",
    "def get_features_two(tokens, idx):\n",
    "    \"\"\"\n",
    "    Extract basic features about this word including\n",
    "         - Current Word\n",
    "         - Is Capitalized ?\n",
    "         - Has Punctuation ?\n",
    "         - Has Number ?\n",
    "         - Suffixes up to length 3\n",
    "    Note that : we might include feature over previous word, next word ect.\n",
    "\n",
    "    :return : a list which contains the features\n",
    "    :rtype : list(str)\n",
    "\n",
    "    \"\"\"\n",
    "    token = tokens[idx]\n",
    "    #print(token)\n",
    "    feature_list = []\n",
    "    token_POS_split = token.split(\"/\")\n",
    "    token = token_POS_split[0]\n",
    "    \n",
    "    if not token:\n",
    "        return feature_list\n",
    "\n",
    "    # Capitalization\n",
    "    if token[0].isupper():\n",
    "        feature_list.append(\"CAPITALIZATION\")\n",
    "\n",
    "    # Number\n",
    "    if re.search(_pattern, token) is not None:\n",
    "        feature_list.append(\"HAS_NUM\")\n",
    "\n",
    "    # Punctuation\n",
    "    punc_cat = set([\"Pc\", \"Pd\", \"Ps\", \"Pe\", \"Pi\", \"Pf\", \"Po\"])\n",
    "    if all(unicodedata.category(x) in punc_cat for x in token):\n",
    "        feature_list.append(\"PUNCTUATION\")\n",
    "\n",
    "    # Suffix up to length 3\n",
    "    if len(token) > 1:\n",
    "        feature_list.append(\"SUFFIX_01_\" + token[-1:])\n",
    "        feature_list.append(\"PREFIX_01_\" + token[0:1])\n",
    "    if len(token) > 2:\n",
    "        feature_list.append(\"SUFFIX_02_\" + token[-2:])\n",
    "        feature_list.append(\"PREFIX_02_\" + token[0:2])\n",
    "    if len(token) > 3:\n",
    "        feature_list.append(\"SUFFIX_03_\" + token[-3:])\n",
    "        feature_list.append(\"PREFIX_03_\" + token[0:3])\n",
    "    if len(token) > 4:\n",
    "        feature_list.append(\"SUFFIX_04_\" + token[-4:])\n",
    "        feature_list.append(\"PREFIX_04_\" + token[0:4])\n",
    "        \n",
    "    feature_list.append(\"WORD_\" + token)\n",
    "    feature_list.append(\"POS_\" + token_POS_split[1])\n",
    "\n",
    "\n",
    "    #print(feature_list)\n",
    "    return feature_list"
   ]
  },
  {
   "cell_type": "markdown",
   "metadata": {},
   "source": [
    "<B> 10. TRAINING"
   ]
  },
  {
   "cell_type": "code",
   "execution_count": 25,
   "metadata": {},
   "outputs": [
    {
     "name": "stdout",
     "output_type": "stream",
     "text": [
      "training tagger...\n",
      "done\n"
     ]
    }
   ],
   "source": [
    "# Train the CRF BIO-tag tagger\n",
    "TAGGER_PATH = \"crf_nlu.tagger\"  # path to the tagger- it will save/access the model from here\n",
    "ct = CRFTagger(feature_func=get_features_two)  # initialize tagger with get_features function\n",
    "\n",
    "print(\"training tagger...\")\n",
    "ct.train(trainData_two, TAGGER_PATH)\n",
    "print(\"done\")\n",
    "#print(test_data)"
   ]
  },
  {
   "cell_type": "markdown",
   "metadata": {},
   "source": [
    "<B> 11. TESTING"
   ]
  },
  {
   "cell_type": "code",
   "execution_count": 26,
   "metadata": {},
   "outputs": [
    {
     "name": "stdout",
     "output_type": "stream",
     "text": [
      "testing tagger...\n",
      "\n",
      "\n",
      "done\n"
     ]
    }
   ],
   "source": [
    "print(\"testing tagger...\")\n",
    "print('\\n')\n",
    "preds = []\n",
    "y_test = []\n",
    "\n",
    "for sent in testData_two:\n",
    "    sent_preds = [x[1] for x in ct.tag([s[0] for s in sent])]\n",
    "    sent_true = [s[1] for s in sent]\n",
    "    preds.extend(sent_preds)\n",
    "    y_test.extend(sent_true)\n",
    "    \n",
    "#checked\n",
    "#print(\"Preds:\",sorted(set(preds)))\n",
    "#print(\"Test:\", sorted(set(y_test)))   \n",
    "print(\"done\")"
   ]
  },
  {
   "cell_type": "markdown",
   "metadata": {},
   "source": [
    "<B>12. STORING THE CLASSIFICATION REPORT"
   ]
  },
  {
   "cell_type": "code",
   "execution_count": 27,
   "metadata": {},
   "outputs": [],
   "source": [
    "# Output the classification report (which you should save each time for comparing your models)\n",
    "suf_pos_only = classification_report(y_test, preds)"
   ]
  },
  {
   "cell_type": "markdown",
   "metadata": {},
   "source": [
    "# 5. Feature experimentation for optimal macro average"
   ]
  },
  {
   "cell_type": "markdown",
   "metadata": {},
   "source": [
    "<B> 1. ADJUSTING THE FEATURE FUNCTION </BR>\n",
    "<B> 2. THE FOLLOWING IS TESTED BY ADDING ONLY THE NEXTWORD </BR>"
   ]
  },
  {
   "cell_type": "code",
   "execution_count": 28,
   "metadata": {},
   "outputs": [],
   "source": [
    "_pattern = re.compile(r\"\\d\")  # to recognize numbers/digits\n",
    "\n",
    "# This is the 'out-of-the-box' get_features function from the nltk CRF tagger\n",
    "def get_features_three(tokens, idx):\n",
    "    \"\"\"\n",
    "    Extract basic features about this word including\n",
    "         - Current Word\n",
    "         - Is Capitalized ?\n",
    "         - Has Punctuation ?\n",
    "         - Has Number ?\n",
    "         - Suffixes up to length 3\n",
    "    Note that : we might include feature over previous word, next word ect.\n",
    "\n",
    "    :return : a list which contains the features\n",
    "    :rtype : list(str)\n",
    "\n",
    "    \"\"\"\n",
    "    token = tokens[idx]\n",
    "    feature_list = []\n",
    "    token_POS_split = token.split(\"/\")\n",
    "    token = token_POS_split[0]\n",
    "    bio = token_POS_split[1]\n",
    "    \n",
    "    if not token:\n",
    "        return feature_list\n",
    "\n",
    "    # Capitalization\n",
    "    if token[0].isupper():\n",
    "        feature_list.append(\"CAPITALIZATION\")\n",
    "\n",
    "    # Number\n",
    "    if re.search(_pattern, token) is not None:\n",
    "        feature_list.append(\"HAS_NUM\")\n",
    "\n",
    "    # Punctuation\n",
    "    punc_cat = set([\"Pc\", \"Pd\", \"Ps\", \"Pe\", \"Pi\", \"Pf\", \"Po\"])\n",
    "    if all(unicodedata.category(x) in punc_cat for x in token):\n",
    "        feature_list.append(\"PUNCTUATION\")\n",
    "\n",
    "    # Suffix up to length 3\n",
    "    if len(token) > 1:\n",
    "        feature_list.append(\"SUFFIX_01_\" + token[-1:])\n",
    "        feature_list.append(\"PREFIX_01_\" + token[0:1])\n",
    "    if len(token) > 2:\n",
    "        feature_list.append(\"SUFFIX_02_\" + token[-2:])\n",
    "        feature_list.append(\"PREFIX_02_\" + token[0:2])\n",
    "    if len(token) > 3:\n",
    "        feature_list.append(\"SUFFIX_03_\" + token[-3:])\n",
    "        feature_list.append(\"PREFIX_03_\" + token[0:3])\n",
    "    if len(token) > 4:\n",
    "        feature_list.append(\"SUFFIX_04_\" + token[-4:])\n",
    "        feature_list.append(\"PREFIX_04_\" + token[0:4]) \n",
    "        \n",
    "    feature_list.append(\"WORD_\" + token)\n",
    "    feature_list.append(\"POS_\" + bio)\n",
    "\n",
    "    regrp = []\n",
    "    for x in tokens:\n",
    "        regrp.append(tuple(x.split(\"/\")))\n",
    "    regrp1=(list(zip(*regrp)))\n",
    "    \n",
    "    if idx < len(regrp1[1]) -1 :\n",
    "        feature_list.append(\"NEXTWORD_\" +regrp1[0][idx+1])     \n",
    "        \n",
    "    if(idx==0):\n",
    "        feature_list.append(\"START_OF_SENT\")\n",
    "    \n",
    "    if(idx == len(regrp1[1]) -1):\n",
    "        feature_list.append(\"END_OF_SENT\")\n",
    "    \n",
    "    #print(feature_list)\n",
    "    return feature_list"
   ]
  },
  {
   "cell_type": "markdown",
   "metadata": {},
   "source": [
    "<B> 3.TRAINING"
   ]
  },
  {
   "cell_type": "code",
   "execution_count": 29,
   "metadata": {},
   "outputs": [
    {
     "name": "stdout",
     "output_type": "stream",
     "text": [
      "training tagger...\n",
      "done\n"
     ]
    }
   ],
   "source": [
    "# Train the CRF BIO-tag tagger\n",
    "TAGGER_PATH = \"crf_nlu.tagger\"  # path to the tagger- it will save/access the model from here\n",
    "ct = CRFTagger(feature_func=get_features_three)  # initialize tagger with get_features function\n",
    "\n",
    "print(\"training tagger...\")\n",
    "ct.train(trainData_two, TAGGER_PATH)\n",
    "print(\"done\")\n",
    "#print(test_data)"
   ]
  },
  {
   "cell_type": "markdown",
   "metadata": {},
   "source": [
    "<B> 4.TESTING"
   ]
  },
  {
   "cell_type": "code",
   "execution_count": 30,
   "metadata": {},
   "outputs": [
    {
     "name": "stdout",
     "output_type": "stream",
     "text": [
      "testing tagger...\n",
      "done\n"
     ]
    }
   ],
   "source": [
    "print(\"testing tagger...\")\n",
    "preds = []\n",
    "y_test = []\n",
    "for sent in testData_two:\n",
    "    sent_preds = [x[1] for x in ct.tag([s[0] for s in sent])]\n",
    "    sent_true = [s[1] for s in sent]\n",
    "    preds.extend(sent_preds)\n",
    "    y_test.extend(sent_true)\n",
    "print(\"done\")"
   ]
  },
  {
   "cell_type": "markdown",
   "metadata": {},
   "source": [
    "<B> 5. STORING THE CLASSIFICATION REPORT"
   ]
  },
  {
   "cell_type": "code",
   "execution_count": 31,
   "metadata": {},
   "outputs": [],
   "source": [
    "nextword_only = classification_report(y_test, preds)"
   ]
  },
  {
   "cell_type": "markdown",
   "metadata": {},
   "source": [
    "<B> 6. THE FOLLOWING IS TESTED BY ADDING NEXT WORD AND PREVIOUS WORD"
   ]
  },
  {
   "cell_type": "code",
   "execution_count": 32,
   "metadata": {},
   "outputs": [],
   "source": [
    "_pattern = re.compile(r\"\\d\")  # to recognize numbers/digits\n",
    "\n",
    "# This is the 'out-of-the-box' get_features function from the nltk CRF tagger\n",
    "def get_features_four(tokens, idx):\n",
    "    \"\"\"\n",
    "    Extract basic features about this word including\n",
    "         - Current Word\n",
    "         - Is Capitalized ?\n",
    "         - Has Punctuation ?\n",
    "         - Has Number ?\n",
    "         - Suffixes up to length 3\n",
    "    Note that : we might include feature over previous word, next word ect.\n",
    "\n",
    "    :return : a list which contains the features\n",
    "    :rtype : list(str)\n",
    "\n",
    "    \"\"\"\n",
    "    token = tokens[idx]\n",
    "    feature_list = []\n",
    "    token_POS_split = token.split(\"/\")\n",
    "    token = token_POS_split[0]\n",
    "    bio = token_POS_split[1]\n",
    "    \n",
    "    if not token:\n",
    "        return feature_list\n",
    "\n",
    "    # Capitalization\n",
    "    if token[0].isupper():\n",
    "        feature_list.append(\"CAPITALIZATION\")\n",
    "\n",
    "    # Number\n",
    "    if re.search(_pattern, token) is not None:\n",
    "        feature_list.append(\"HAS_NUM\")\n",
    "\n",
    "    # Punctuation\n",
    "    punc_cat = set([\"Pc\", \"Pd\", \"Ps\", \"Pe\", \"Pi\", \"Pf\", \"Po\"])\n",
    "    if all(unicodedata.category(x) in punc_cat for x in token):\n",
    "        feature_list.append(\"PUNCTUATION\")\n",
    "        \n",
    "    # Suffix up to length 3\n",
    "    if len(token) > 1:\n",
    "        feature_list.append(\"SUFFIX_01_\" + token[-1:])\n",
    "        feature_list.append(\"PREFIX_01_\" + token[0:1])\n",
    "    if len(token) > 2:\n",
    "        feature_list.append(\"SUFFIX_02_\" + token[-2:])\n",
    "        feature_list.append(\"PREFIX_02_\" + token[0:2])\n",
    "    if len(token) > 3:\n",
    "        feature_list.append(\"SUFFIX_03_\" + token[-3:])\n",
    "        feature_list.append(\"PREFIX_03_\" + token[0:3])\n",
    "    if len(token) > 4:\n",
    "        feature_list.append(\"SUFFIX_04_\" + token[-4:])\n",
    "        feature_list.append(\"PREFIX_04_\" + token[0:4]) \n",
    "        \n",
    "    feature_list.append(\"WORD_\" + token)\n",
    "    feature_list.append(\"POS_\" + bio)\n",
    "    \n",
    "    regrp = []\n",
    "    for x in tokens:\n",
    "        regrp.append(tuple(x.split(\"/\")))\n",
    "    regrp1=(list(zip(*regrp)))\n",
    "    \n",
    "    if idx < len(regrp1[1]) -1 :\n",
    "        feature_list.append(\"NEXTWORD_\" +regrp1[0][idx+1])\n",
    "    \n",
    "    if (idx > 0) and (idx < len(regrp1[1])):\n",
    "        feature_list.append(\"PREWORD_\" +regrp1[0][idx-1])        \n",
    "    \n",
    "    if(idx==0):\n",
    "        feature_list.append(\"START_OF_SENT\")\n",
    "    \n",
    "    if(idx == len(regrp1[1]) -1):\n",
    "        feature_list.append(\"END_OF_SENT\")\n",
    "        \n",
    "    #print(feature_list)\n",
    "    return feature_list"
   ]
  },
  {
   "cell_type": "markdown",
   "metadata": {},
   "source": [
    "<B> 7. TRAINING"
   ]
  },
  {
   "cell_type": "code",
   "execution_count": 33,
   "metadata": {},
   "outputs": [
    {
     "name": "stdout",
     "output_type": "stream",
     "text": [
      "training tagger...\n",
      "done\n"
     ]
    }
   ],
   "source": [
    "# Train the CRF BIO-tag tagger\n",
    "TAGGER_PATH = \"crf_nlu.tagger\"  # path to the tagger- it will save/access the model from here\n",
    "ct = CRFTagger(feature_func=get_features_four)  # initialize tagger with get_features function\n",
    "\n",
    "print(\"training tagger...\")\n",
    "ct.train(trainData_two, TAGGER_PATH)\n",
    "print(\"done\")\n",
    "#print(test_data)"
   ]
  },
  {
   "cell_type": "markdown",
   "metadata": {},
   "source": [
    "<B> 8. TESTING"
   ]
  },
  {
   "cell_type": "code",
   "execution_count": 34,
   "metadata": {},
   "outputs": [
    {
     "name": "stdout",
     "output_type": "stream",
     "text": [
      "testing tagger...\n",
      "done\n"
     ]
    }
   ],
   "source": [
    "print(\"testing tagger...\")\n",
    "preds = []\n",
    "y_test = []\n",
    "for sent in testData_two:\n",
    "    sent_preds = [x[1] for x in ct.tag([s[0] for s in sent])]\n",
    "    sent_true = [s[1] for s in sent]\n",
    "    preds.extend(sent_preds)\n",
    "    y_test.extend(sent_true)\n",
    "print(\"done\")"
   ]
  },
  {
   "cell_type": "markdown",
   "metadata": {},
   "source": [
    "<B> 9. STORING THE CLASSIFICATION REPORT"
   ]
  },
  {
   "cell_type": "code",
   "execution_count": 35,
   "metadata": {},
   "outputs": [],
   "source": [
    "allwords_only = classification_report(y_test, preds)"
   ]
  },
  {
   "cell_type": "markdown",
   "metadata": {},
   "source": [
    "<B>10. THE FOLLOWING IS TESTED BY ADDING PREVIOUS TAG"
   ]
  },
  {
   "cell_type": "code",
   "execution_count": 36,
   "metadata": {},
   "outputs": [],
   "source": [
    "_pattern = re.compile(r\"\\d\")  # to recognize numbers/digits\n",
    "\n",
    "# This is the 'out-of-the-box' get_features function from the nltk CRF tagger\n",
    "def get_features_five(tokens, idx):\n",
    "    \"\"\"\n",
    "    Extract basic features about this word including\n",
    "         - Current Word\n",
    "         - Is Capitalized ?\n",
    "         - Has Punctuation ?\n",
    "         - Has Number ?\n",
    "         - Suffixes up to length 3\n",
    "    Note that : we might include feature over previous word, next word ect.\n",
    "\n",
    "    :return : a list which contains the features\n",
    "    :rtype : list(str)\n",
    "\n",
    "    \"\"\"\n",
    "    token = tokens[idx]\n",
    "    feature_list = []\n",
    "    token_POS_split = token.split(\"/\")\n",
    "    token = token_POS_split[0]\n",
    "    bio = token_POS_split[1]\n",
    "    \n",
    "    if not token:\n",
    "        return feature_list\n",
    "\n",
    "    # Capitalization\n",
    "    if token[0].isupper():\n",
    "        feature_list.append(\"CAPITALIZATION\")\n",
    "\n",
    "    # Number\n",
    "    if re.search(_pattern, token) is not None:\n",
    "        feature_list.append(\"HAS_NUM\")\n",
    "\n",
    "    # Punctuation\n",
    "    punc_cat = set([\"Pc\", \"Pd\", \"Ps\", \"Pe\", \"Pi\", \"Pf\", \"Po\"])\n",
    "    if all(unicodedata.category(x) in punc_cat for x in token):\n",
    "        feature_list.append(\"PUNCTUATION\")\n",
    "        \n",
    "    # Suffix up to length 3\n",
    "    if len(token) > 1:\n",
    "        feature_list.append(\"SUFFIX_01_\" + token[-1:])\n",
    "        feature_list.append(\"PREFIX_01_\" + token[0:1])\n",
    "    if len(token) > 2:\n",
    "        feature_list.append(\"SUFFIX_02_\" + token[-2:])\n",
    "        feature_list.append(\"PREFIX_02_\" + token[0:2])\n",
    "    if len(token) > 3:\n",
    "        feature_list.append(\"SUFFIX_03_\" + token[-3:])\n",
    "        feature_list.append(\"PREFIX_03_\" + token[0:3])\n",
    "    if len(token) > 4:\n",
    "        feature_list.append(\"SUFFIX_04_\" + token[-4:])\n",
    "        feature_list.append(\"PREFIX_04_\" + token[0:4]) \n",
    "        \n",
    "    regrp = []\n",
    "    for x in tokens:\n",
    "        regrp.append(tuple(x.split(\"/\")))\n",
    "    regrp1=(list(zip(*regrp)))\n",
    "     \n",
    "   \n",
    "    if (idx > 0) and (idx < len(regrp1[1])):\n",
    "        feature_list.append(\"PRETAG_\" +regrp1[1][idx-1] )\n",
    "    \n",
    "    if(idx==0):\n",
    "        feature_list.append(\"START_OF_SENT\")\n",
    "    \n",
    "    if(idx == len(regrp1[1]) -1):\n",
    "        feature_list.append(\"END_OF_SENT\")\n",
    "        \n",
    "    #print(feature_list)\n",
    "    return feature_list"
   ]
  },
  {
   "cell_type": "markdown",
   "metadata": {},
   "source": [
    "<B> 11. TRAINING"
   ]
  },
  {
   "cell_type": "code",
   "execution_count": 37,
   "metadata": {},
   "outputs": [
    {
     "name": "stdout",
     "output_type": "stream",
     "text": [
      "training tagger...\n",
      "done\n"
     ]
    }
   ],
   "source": [
    "# Train the CRF BIO-tag tagger\n",
    "TAGGER_PATH = \"crf_nlu.tagger\"  # path to the tagger- it will save/access the model from here\n",
    "ct = CRFTagger(feature_func=get_features_five)  # initialize tagger with get_features function\n",
    "\n",
    "print(\"training tagger...\")\n",
    "ct.train(trainData_two, TAGGER_PATH)\n",
    "print(\"done\")\n",
    "#print(test_data)"
   ]
  },
  {
   "cell_type": "markdown",
   "metadata": {},
   "source": [
    "<B> 12. TESTING"
   ]
  },
  {
   "cell_type": "code",
   "execution_count": 38,
   "metadata": {},
   "outputs": [
    {
     "name": "stdout",
     "output_type": "stream",
     "text": [
      "testing tagger...\n",
      "done\n"
     ]
    }
   ],
   "source": [
    "print(\"testing tagger...\")\n",
    "preds = []\n",
    "y_test = []\n",
    "for sent in testData_two:\n",
    "    sent_preds = [x[1] for x in ct.tag([s[0] for s in sent])]\n",
    "    sent_true = [s[1] for s in sent]\n",
    "    preds.extend(sent_preds)\n",
    "    y_test.extend(sent_true)\n",
    "print(\"done\")"
   ]
  },
  {
   "cell_type": "markdown",
   "metadata": {},
   "source": [
    "<B> 13. STORING THE CLASSIFICATION REPORT"
   ]
  },
  {
   "cell_type": "code",
   "execution_count": 39,
   "metadata": {},
   "outputs": [],
   "source": [
    "prev_tags_only = classification_report(y_test, preds)"
   ]
  },
  {
   "cell_type": "markdown",
   "metadata": {},
   "source": [
    "<B>14. THE FOLLOWING IS TESTED BY ADDING BOTH TAGS AND BOTH WORDS"
   ]
  },
  {
   "cell_type": "code",
   "execution_count": 40,
   "metadata": {},
   "outputs": [],
   "source": [
    "_pattern = re.compile(r\"\\d\")  # to recognize numbers/digits\n",
    "\n",
    "# This is the 'out-of-the-box' get_features function from the nltk CRF tagger\n",
    "def get_features_six(tokens, idx):\n",
    "    \"\"\"\n",
    "    Extract basic features about this word including\n",
    "         - Current Word\n",
    "         - Is Capitalized ?\n",
    "         - Has Punctuation ?\n",
    "         - Has Number ?\n",
    "         - Suffixes up to length 3\n",
    "    Note that : we might include feature over previous word, next word ect.\n",
    "\n",
    "    :return : a list which contains the features\n",
    "    :rtype : list(str)\n",
    "\n",
    "    \"\"\"\n",
    "    token = tokens[idx]\n",
    "    feature_list = []\n",
    "    token_POS_split = token.split(\"/\")\n",
    "    token = token_POS_split[0]\n",
    "    bio = token_POS_split[1]\n",
    "    \n",
    "    if not token:\n",
    "        return feature_list\n",
    "\n",
    "    # Capitalization\n",
    "    if token[0].isupper():\n",
    "        feature_list.append(\"CAPITALIZATION\")\n",
    "\n",
    "    # Number\n",
    "    if re.search(_pattern, token) is not None:\n",
    "        feature_list.append(\"HAS_NUM\")\n",
    "\n",
    "    # Punctuation\n",
    "    punc_cat = set([\"Pc\", \"Pd\", \"Ps\", \"Pe\", \"Pi\", \"Pf\", \"Po\"])\n",
    "    if all(unicodedata.category(x) in punc_cat for x in token):\n",
    "        feature_list.append(\"PUNCTUATION\")\n",
    "        \n",
    "    # Suffix up to length 3\n",
    "    if len(token) > 1:\n",
    "        feature_list.append(\"SUFFIX_01_\" + token[-1:])\n",
    "        feature_list.append(\"PREFIX_01_\" + token[0:1])\n",
    "    if len(token) > 2:\n",
    "        feature_list.append(\"SUFFIX_02_\" + token[-2:])\n",
    "        feature_list.append(\"PREFIX_02_\" + token[0:2])\n",
    "    if len(token) > 3:\n",
    "        feature_list.append(\"SUFFIX_03_\" + token[-3:])\n",
    "        feature_list.append(\"PREFIX_03_\" + token[0:3])\n",
    "    if len(token) > 4:\n",
    "        feature_list.append(\"SUFFIX_04_\" + token[-4:])\n",
    "        feature_list.append(\"PREFIX_04_\" + token[0:4])         \n",
    "\n",
    "       \n",
    "    feature_list.append(\"WORD_\" + token)\n",
    "    feature_list.append(\"POS_\" + bio)\n",
    "    \n",
    "    regrp = []\n",
    "    for x in tokens:\n",
    "        regrp.append(tuple(x.split(\"/\")))\n",
    "    regrp1=(list(zip(*regrp)))\n",
    "    \n",
    "    if idx < len(regrp1[1]) -1 :\n",
    "        feature_list.append(\"NEXTTAG_\" +regrp1[1][idx+1])\n",
    "        feature_list.append(\"NEXTWORD_\" +regrp1[0][idx+1])\n",
    "        \n",
    "    \n",
    "    if (idx > 0) and (idx < len(regrp1[1])):\n",
    "        feature_list.append(\"PRETAG_\" +regrp1[1][idx-1] )\n",
    "        feature_list.append(\"PREWORD_\" +regrp1[0][idx-1])        \n",
    "    \n",
    "    if(idx==0):\n",
    "        feature_list.append(\"START_OF_SENT\")\n",
    "    \n",
    "    if(idx == len(regrp1[1]) -1):\n",
    "        feature_list.append(\"END_OF_SENT\")\n",
    "        \n",
    "    #print(feature_list)\n",
    "    return feature_list"
   ]
  },
  {
   "cell_type": "markdown",
   "metadata": {},
   "source": [
    "<B> 15. TRAINING"
   ]
  },
  {
   "cell_type": "code",
   "execution_count": 41,
   "metadata": {},
   "outputs": [
    {
     "name": "stdout",
     "output_type": "stream",
     "text": [
      "training tagger...\n",
      "done\n"
     ]
    }
   ],
   "source": [
    "# Train the CRF BIO-tag tagger\n",
    "TAGGER_PATH = \"crf_nlu.tagger\"  # path to the tagger- it will save/access the model from here\n",
    "ct = CRFTagger(feature_func=get_features_six) # initialize tagger with get_features function\n",
    "\n",
    "print(\"training tagger...\")\n",
    "ct.train(trainData_two, TAGGER_PATH)\n",
    "print(\"done\")"
   ]
  },
  {
   "cell_type": "markdown",
   "metadata": {},
   "source": [
    "<B> 16. TESTING"
   ]
  },
  {
   "cell_type": "code",
   "execution_count": 42,
   "metadata": {},
   "outputs": [
    {
     "name": "stdout",
     "output_type": "stream",
     "text": [
      "testing tagger...\n",
      "done\n"
     ]
    }
   ],
   "source": [
    "print(\"testing tagger...\")\n",
    "preds = []\n",
    "y_test = []\n",
    "for sent in testData_two:\n",
    "    sent_preds = [x[1] for x in ct.tag([s[0] for s in sent])]\n",
    "    sent_true = [s[1] for s in sent]\n",
    "    preds.extend(sent_preds)\n",
    "    y_test.extend(sent_true)\n",
    "print(\"done\")"
   ]
  },
  {
   "cell_type": "markdown",
   "metadata": {},
   "source": [
    "<B> 17. STORING THE CLASSIFICATION REPORT"
   ]
  },
  {
   "cell_type": "code",
   "execution_count": 43,
   "metadata": {},
   "outputs": [],
   "source": [
    "words_tags = classification_report(y_test, preds)"
   ]
  },
  {
   "cell_type": "markdown",
   "metadata": {},
   "source": [
    "<B> 16. TRAINING ON THE WHOLE TRAINING DATASET \"engtrain.bio.txt\""
   ]
  },
  {
   "cell_type": "code",
   "execution_count": 44,
   "metadata": {},
   "outputs": [
    {
     "name": "stdout",
     "output_type": "stream",
     "text": [
      "training tagger...\n",
      "done\n"
     ]
    }
   ],
   "source": [
    "# Train the CRF BIO-tag tagger\n",
    "TAGGER_PATH = \"crf_nlu.tagger\"  # path to the tagger- it will save/access the model from here\n",
    "ct = CRFTagger(feature_func=get_features_six)  # initialize tagger with get_features function\n",
    "\n",
    "print(\"training tagger...\")\n",
    "ct.train(training_data_two, TAGGER_PATH)\n",
    "print(\"done\")"
   ]
  },
  {
   "cell_type": "markdown",
   "metadata": {},
   "source": [
    "<B> 17. TESTING ON THE TEST DATA SET \"engtest.bio.txt\""
   ]
  },
  {
   "cell_type": "code",
   "execution_count": 45,
   "metadata": {},
   "outputs": [
    {
     "name": "stdout",
     "output_type": "stream",
     "text": [
      "2443 instances\n",
      "24686 words\n"
     ]
    }
   ],
   "source": [
    "# load tagger from saved file\n",
    "ct = CRFTagger(feature_func=get_features_six)  # initialize tagger\n",
    "ct.set_model_file(TAGGER_PATH)  # load model from file\n",
    "\n",
    "# prepare the test data:\n",
    "raw_test_data = get_raw_data_from_bio_file(\"engtest.bio.txt\") \n",
    "test_data = [preProcess_two(example) for example in raw_test_data]\n",
    "print(len(test_data), \"instances\")\n",
    "print(sum([len(sent) for sent in test_data]), \"words\")"
   ]
  },
  {
   "cell_type": "code",
   "execution_count": 46,
   "metadata": {},
   "outputs": [
    {
     "name": "stdout",
     "output_type": "stream",
     "text": [
      "testing tagger...\n",
      "done\n"
     ]
    }
   ],
   "source": [
    "print(\"testing tagger...\")\n",
    "preds = []\n",
    "y_test = []\n",
    "\n",
    "for sent in test_data:\n",
    "    sent_preds = [x[1] for x in ct.tag([s[0] for s in sent])]\n",
    "    sent_true = [s[1] for s in sent]\n",
    "    preds.extend(sent_preds)\n",
    "    y_test.extend(sent_true)\n",
    "\n",
    "print(\"done\")"
   ]
  },
  {
   "cell_type": "code",
   "execution_count": 47,
   "metadata": {},
   "outputs": [],
   "source": [
    "final = classification_report(y_test, preds)"
   ]
  },
  {
   "cell_type": "code",
   "execution_count": 49,
   "metadata": {},
   "outputs": [],
   "source": [
    "def confusion_matrix_heatmap(y_test, preds):\n",
    "    \"\"\"Function to plot a confusion matrix\"\"\"\n",
    "    labels = list(set(y_test))   # get the labels in the y_test\n",
    "    # print(labels)\n",
    "    cm = confusion_matrix(y_test, preds, labels)\n",
    "    fig = plt.figure(figsize=(20,20))\n",
    "    ax = fig.add_subplot(111)\n",
    "    cax = ax.matshow(cm)\n",
    "    plt.title('Confusion matrix of the classifier')\n",
    "    fig.colorbar(cax)\n",
    "    ax.set_xticks(np.arange(len(labels)))\n",
    "    ax.set_yticks(np.arange(len(labels)))\n",
    "    ax.set_xticklabels( labels, rotation=45)\n",
    "    ax.set_yticklabels( labels)\n",
    "\n",
    "    for i in range(len(cm)):\n",
    "        for j in range(len(cm)):\n",
    "            text = ax.text(j, i, cm[i, j],\n",
    "                           ha=\"center\", va=\"center\", color=\"w\")\n",
    "\n",
    "    plt.xlabel('Predicted')\n",
    "    plt.ylabel('True')\n",
    "    #fig.tight_layout()\n",
    "    plt.show()"
   ]
  },
  {
   "cell_type": "code",
   "execution_count": 50,
   "metadata": {},
   "outputs": [
    {
     "name": "stderr",
     "output_type": "stream",
     "text": [
      "c:\\users\\hp\\appdata\\local\\programs\\python\\python39\\lib\\site-packages\\sklearn\\utils\\validation.py:67: FutureWarning: Pass labels=['B-TITLE', 'B-TRAILER', 'I-YEAR', 'I-REVIEW', 'I-DIRECTOR', 'B-CHARACTER', 'I-RATING', 'I-GENRE', 'I-TRAILER', 'O', 'B-GENRE', 'B-DIRECTOR', 'B-SONG', 'B-RATING', 'B-RATINGS_AVERAGE', 'I-PLOT', 'B-YEAR', 'B-ACTOR', 'I-SONG', 'I-RATINGS_AVERAGE', 'I-CHARACTER', 'B-REVIEW', 'I-TITLE', 'I-ACTOR', 'B-PLOT'] as keyword args. From version 0.25 passing these as positional arguments will result in an error\n",
      "  warnings.warn(\"Pass {} as keyword args. From version 0.25 \"\n"
     ]
    },
    {
     "data": {
      "image/png": "[encoded data removed]",
      "text/plain": [
       "<Figure size 1440x1440 with 2 Axes>"
      ]
     },
     "metadata": {
      "needs_background": "light"
     },
     "output_type": "display_data"
    }
   ],
   "source": [
    "confusion_matrix_heatmap(y_test, preds)"
   ]
  },
  {
   "cell_type": "markdown",
   "metadata": {},
   "source": [
    "# SUMMARY"
   ]
  },
  {
   "cell_type": "code",
   "execution_count": 48,
   "metadata": {},
   "outputs": [
    {
     "name": "stdout",
     "output_type": "stream",
     "text": [
      "\n",
      "\n",
      "------------------THE CLASSIFICATION REPORT - TRAINING DATA SET(80/20 SPLIT)----------------\n",
      "\n",
      "\n",
      "                   precision    recall  f1-score   support\n",
      "\n",
      "          B-ACTOR       0.93      0.97      0.95       433\n",
      "      B-CHARACTER       0.95      0.93      0.94        44\n",
      "       B-DIRECTOR       0.95      0.91      0.93       365\n",
      "          B-GENRE       0.98      0.99      0.99       927\n",
      "           B-PLOT       0.93      0.87      0.90       298\n",
      "         B-RATING       1.00      1.00      1.00       430\n",
      "B-RATINGS_AVERAGE       0.93      0.90      0.91       451\n",
      "         B-REVIEW       0.50      0.10      0.16        31\n",
      "           B-SONG       0.72      0.65      0.68        20\n",
      "          B-TITLE       0.93      0.82      0.87       679\n",
      "        B-TRAILER       1.00      0.71      0.83        28\n",
      "           B-YEAR       0.96      1.00      0.98       535\n",
      "          I-ACTOR       0.93      0.96      0.94       482\n",
      "      I-CHARACTER       0.94      0.94      0.94        47\n",
      "       I-DIRECTOR       0.96      0.91      0.93       410\n",
      "          I-GENRE       0.96      1.00      0.98       123\n",
      "           I-PLOT       0.85      0.95      0.90       148\n",
      "         I-RATING       0.99      1.00      1.00       156\n",
      "I-RATINGS_AVERAGE       0.83      0.95      0.89       408\n",
      "         I-REVIEW       0.75      0.33      0.46         9\n",
      "           I-SONG       0.88      0.67      0.76        43\n",
      "          I-TITLE       0.94      0.89      0.91      1182\n",
      "        I-TRAILER       0.00      0.00      0.00         1\n",
      "           I-YEAR       0.97      1.00      0.98       528\n",
      "                O       0.98      0.98      0.98     12447\n",
      "\n",
      "         accuracy                           0.96     20225\n",
      "        macro avg       0.87      0.82      0.83     20225\n",
      "     weighted avg       0.96      0.96      0.96     20225\n",
      "\n",
      "\n",
      "\n",
      "------------------THE CLASSIFICATION REPORT - TRAINING DATA SET(80/20 SPLIT) - POS TAGGING AS FEATURE----------------\n",
      "\n",
      "\n",
      "                   precision    recall  f1-score   support\n",
      "\n",
      "          B-ACTOR       0.70      0.89      0.79       433\n",
      "      B-CHARACTER       0.58      0.25      0.35        44\n",
      "       B-DIRECTOR       0.79      0.66      0.72       365\n",
      "          B-GENRE       0.97      0.99      0.98       927\n",
      "           B-PLOT       0.59      0.66      0.62       298\n",
      "         B-RATING       1.00      1.00      1.00       430\n",
      "B-RATINGS_AVERAGE       0.89      0.90      0.89       451\n",
      "         B-REVIEW       0.00      0.00      0.00        31\n",
      "           B-SONG       0.35      0.35      0.35        20\n",
      "          B-TITLE       0.68      0.38      0.49       679\n",
      "        B-TRAILER       0.94      0.54      0.68        28\n",
      "           B-YEAR       0.96      1.00      0.98       535\n",
      "          I-ACTOR       0.71      0.87      0.78       482\n",
      "      I-CHARACTER       0.55      0.34      0.42        47\n",
      "       I-DIRECTOR       0.78      0.66      0.72       410\n",
      "          I-GENRE       0.93      1.00      0.96       123\n",
      "           I-PLOT       0.34      0.79      0.48       148\n",
      "         I-RATING       0.99      1.00      0.99       156\n",
      "I-RATINGS_AVERAGE       0.80      0.94      0.86       408\n",
      "         I-REVIEW       0.00      0.00      0.00         9\n",
      "           I-SONG       0.25      0.40      0.31        43\n",
      "          I-TITLE       0.80      0.52      0.63      1182\n",
      "        I-TRAILER       0.00      0.00      0.00         1\n",
      "           I-YEAR       0.96      1.00      0.98       528\n",
      "                O       0.95      0.97      0.96     12447\n",
      "\n",
      "         accuracy                           0.89     20225\n",
      "        macro avg       0.66      0.64      0.64     20225\n",
      "     weighted avg       0.90      0.89      0.89     20225\n",
      "\n",
      "\n",
      "\n",
      "------------------THE CLASSIFICATION REPORT - TRAINING DATA SET(80/20 SPLIT) - NEXT WORD AS FEATURE----------------\n",
      "\n",
      "\n",
      "                   precision    recall  f1-score   support\n",
      "\n",
      "          B-ACTOR       0.71      0.89      0.79       433\n",
      "      B-CHARACTER       0.80      0.27      0.41        44\n",
      "       B-DIRECTOR       0.81      0.66      0.72       365\n",
      "          B-GENRE       0.97      0.99      0.98       927\n",
      "           B-PLOT       0.65      0.73      0.69       298\n",
      "         B-RATING       1.00      1.00      1.00       430\n",
      "B-RATINGS_AVERAGE       0.91      0.93      0.92       451\n",
      "         B-REVIEW       0.00      0.00      0.00        31\n",
      "           B-SONG       0.33      0.30      0.32        20\n",
      "          B-TITLE       0.72      0.43      0.53       679\n",
      "        B-TRAILER       1.00      0.39      0.56        28\n",
      "           B-YEAR       0.96      1.00      0.98       535\n",
      "          I-ACTOR       0.71      0.87      0.78       482\n",
      "      I-CHARACTER       0.64      0.34      0.44        47\n",
      "       I-DIRECTOR       0.81      0.66      0.73       410\n",
      "          I-GENRE       0.92      1.00      0.96       123\n",
      "           I-PLOT       0.39      0.84      0.53       148\n",
      "         I-RATING       0.99      1.00      0.99       156\n",
      "I-RATINGS_AVERAGE       0.80      0.95      0.87       408\n",
      "         I-REVIEW       0.00      0.00      0.00         9\n",
      "           I-SONG       0.25      0.35      0.29        43\n",
      "          I-TITLE       0.84      0.56      0.67      1182\n",
      "        I-TRAILER       0.00      0.00      0.00         1\n",
      "           I-YEAR       0.96      1.00      0.98       528\n",
      "                O       0.95      0.97      0.96     12447\n",
      "\n",
      "         accuracy                           0.90     20225\n",
      "        macro avg       0.68      0.65      0.64     20225\n",
      "     weighted avg       0.90      0.90      0.90     20225\n",
      "\n",
      "\n",
      "\n",
      "------------------THE CLASSIFICATION REPORT - TRAINING DATA SET(80/20 SPLIT) - NEXT AND PREVIOUS WORD AS FEATURE----------------\n",
      "\n",
      "\n",
      "                   precision    recall  f1-score   support\n",
      "\n",
      "          B-ACTOR       0.87      0.95      0.91       433\n",
      "      B-CHARACTER       0.80      0.27      0.41        44\n",
      "       B-DIRECTOR       0.96      0.91      0.93       365\n",
      "          B-GENRE       0.97      0.98      0.98       927\n",
      "           B-PLOT       0.83      0.81      0.82       298\n",
      "         B-RATING       1.00      1.00      1.00       430\n",
      "B-RATINGS_AVERAGE       0.93      0.95      0.94       451\n",
      "         B-REVIEW       0.00      0.00      0.00        31\n",
      "           B-SONG       0.54      0.35      0.42        20\n",
      "          B-TITLE       0.83      0.63      0.72       679\n",
      "        B-TRAILER       1.00      0.36      0.53        28\n",
      "           B-YEAR       0.96      1.00      0.98       535\n",
      "          I-ACTOR       0.86      0.94      0.90       482\n",
      "      I-CHARACTER       0.67      0.30      0.41        47\n",
      "       I-DIRECTOR       0.96      0.89      0.92       410\n",
      "          I-GENRE       0.96      1.00      0.98       123\n",
      "           I-PLOT       0.52      0.86      0.65       148\n",
      "         I-RATING       0.99      1.00      1.00       156\n",
      "I-RATINGS_AVERAGE       0.87      0.96      0.91       408\n",
      "         I-REVIEW       0.00      0.00      0.00         9\n",
      "           I-SONG       0.49      0.40      0.44        43\n",
      "          I-TITLE       0.87      0.69      0.77      1182\n",
      "        I-TRAILER       0.00      0.00      0.00         1\n",
      "           I-YEAR       0.97      1.00      0.98       528\n",
      "                O       0.96      0.98      0.97     12447\n",
      "\n",
      "         accuracy                           0.93     20225\n",
      "        macro avg       0.75      0.69      0.70     20225\n",
      "     weighted avg       0.93      0.93      0.93     20225\n",
      "\n",
      "\n",
      "\n",
      "------------------THE CLASSIFICATION REPORT - TRAINING DATA SET(80/20 SPLIT) - PREVIOUS TAG AS FEATURE----------------\n",
      "\n",
      "\n",
      "                   precision    recall  f1-score   support\n",
      "\n",
      "          B-ACTOR       0.72      0.87      0.79       433\n",
      "      B-CHARACTER       0.61      0.32      0.42        44\n",
      "       B-DIRECTOR       0.80      0.68      0.74       365\n",
      "          B-GENRE       0.97      0.98      0.97       927\n",
      "           B-PLOT       0.60      0.58      0.59       298\n",
      "         B-RATING       0.95      0.85      0.90       430\n",
      "B-RATINGS_AVERAGE       0.91      0.88      0.89       451\n",
      "         B-REVIEW       0.00      0.00      0.00        31\n",
      "           B-SONG       0.28      0.25      0.26        20\n",
      "          B-TITLE       0.76      0.45      0.56       679\n",
      "        B-TRAILER       1.00      0.46      0.63        28\n",
      "           B-YEAR       0.96      0.99      0.98       535\n",
      "          I-ACTOR       0.72      0.86      0.79       482\n",
      "      I-CHARACTER       0.54      0.60      0.57        47\n",
      "       I-DIRECTOR       0.80      0.67      0.73       410\n",
      "          I-GENRE       0.93      1.00      0.96       123\n",
      "           I-PLOT       0.39      0.78      0.52       148\n",
      "         I-RATING       0.97      1.00      0.99       156\n",
      "I-RATINGS_AVERAGE       0.81      0.93      0.87       408\n",
      "         I-REVIEW       0.00      0.00      0.00         9\n",
      "           I-SONG       0.30      0.30      0.30        43\n",
      "          I-TITLE       0.82      0.54      0.65      1182\n",
      "        I-TRAILER       0.00      0.00      0.00         1\n",
      "           I-YEAR       0.96      1.00      0.98       528\n",
      "                O       0.93      0.97      0.95     12447\n",
      "\n",
      "         accuracy                           0.89     20225\n",
      "        macro avg       0.67      0.64      0.64     20225\n",
      "     weighted avg       0.89      0.89      0.89     20225\n",
      "\n",
      "\n",
      "\n",
      "------------------THE CLASSIFICATION REPORT - TRAINING DATA SET(80/20 SPLIT) - NEXT AND PREVIOUS WORD AND TAG AS FEATURE---------------\n",
      "\n",
      "\n",
      "                   precision    recall  f1-score   support\n",
      "\n",
      "          B-ACTOR       0.86      0.95      0.90       433\n",
      "      B-CHARACTER       0.82      0.32      0.46        44\n",
      "       B-DIRECTOR       0.95      0.91      0.93       365\n",
      "          B-GENRE       0.98      0.98      0.98       927\n",
      "           B-PLOT       0.79      0.83      0.81       298\n",
      "         B-RATING       1.00      1.00      1.00       430\n",
      "B-RATINGS_AVERAGE       0.93      0.95      0.94       451\n",
      "         B-REVIEW       0.00      0.00      0.00        31\n",
      "           B-SONG       0.58      0.35      0.44        20\n",
      "          B-TITLE       0.83      0.64      0.72       679\n",
      "        B-TRAILER       1.00      0.29      0.44        28\n",
      "           B-YEAR       0.96      1.00      0.98       535\n",
      "          I-ACTOR       0.86      0.93      0.89       482\n",
      "      I-CHARACTER       0.71      0.32      0.44        47\n",
      "       I-DIRECTOR       0.95      0.89      0.92       410\n",
      "          I-GENRE       0.96      1.00      0.98       123\n",
      "           I-PLOT       0.52      0.89      0.66       148\n",
      "         I-RATING       0.99      1.00      1.00       156\n",
      "I-RATINGS_AVERAGE       0.88      0.96      0.92       408\n",
      "         I-REVIEW       0.00      0.00      0.00         9\n",
      "           I-SONG       0.70      0.44      0.54        43\n",
      "          I-TITLE       0.88      0.69      0.77      1182\n",
      "        I-TRAILER       0.00      0.00      0.00         1\n",
      "           I-YEAR       0.97      1.00      0.99       528\n",
      "                O       0.96      0.98      0.97     12447\n",
      "\n",
      "         accuracy                           0.94     20225\n",
      "        macro avg       0.76      0.69      0.71     20225\n",
      "     weighted avg       0.93      0.94      0.93     20225\n",
      "\n",
      "\n",
      "\n",
      "------------------THE CLASSIFICATION REPORT - TRAINING DATA SET AND THE TEST DATASET - AFTER ALL THE FEATURES EXPLORED ----------------\n",
      "\n",
      "\n",
      "                   precision    recall  f1-score   support\n",
      "\n",
      "          B-ACTOR       0.89      0.93      0.91       812\n",
      "      B-CHARACTER       0.76      0.50      0.60        90\n",
      "       B-DIRECTOR       0.91      0.84      0.87       456\n",
      "          B-GENRE       0.93      0.95      0.94      1117\n",
      "           B-PLOT       0.71      0.64      0.67       491\n",
      "         B-RATING       0.98      0.97      0.97       500\n",
      "B-RATINGS_AVERAGE       0.93      0.89      0.91       451\n",
      "         B-REVIEW       0.33      0.09      0.14        56\n",
      "           B-SONG       0.80      0.52      0.63        54\n",
      "          B-TITLE       0.75      0.76      0.75       562\n",
      "        B-TRAILER       0.81      0.87      0.84        30\n",
      "           B-YEAR       0.95      0.94      0.95       720\n",
      "          I-ACTOR       0.87      0.93      0.90       862\n",
      "      I-CHARACTER       0.65      0.40      0.50        75\n",
      "       I-DIRECTOR       0.90      0.84      0.87       496\n",
      "          I-GENRE       0.85      0.71      0.78       222\n",
      "           I-PLOT       0.67      0.52      0.59       496\n",
      "         I-RATING       0.97      0.88      0.92       226\n",
      "I-RATINGS_AVERAGE       0.89      0.89      0.89       403\n",
      "         I-REVIEW       0.30      0.07      0.11        45\n",
      "           I-SONG       0.94      0.55      0.70       119\n",
      "          I-TITLE       0.75      0.83      0.79       856\n",
      "        I-TRAILER       0.00      0.00      0.00         8\n",
      "           I-YEAR       0.97      0.97      0.97       610\n",
      "                O       0.95      0.97      0.96     14929\n",
      "\n",
      "         accuracy                           0.92     24686\n",
      "        macro avg       0.78      0.70      0.73     24686\n",
      "     weighted avg       0.92      0.92      0.92     24686\n",
      "\n"
     ]
    }
   ],
   "source": [
    "print('\\n')\n",
    "print(\"------------------THE CLASSIFICATION REPORT - TRAINING DATA SET(80/20 SPLIT)----------------\")\n",
    "print('\\n')\n",
    "print(dev_data_only)\n",
    "print('\\n')\n",
    "print(\"------------------THE CLASSIFICATION REPORT - TRAINING DATA SET(80/20 SPLIT) - POS TAGGING AS FEATURE----------------\")\n",
    "print('\\n')\n",
    "print(suf_pos_only)\n",
    "print('\\n')\n",
    "print(\"------------------THE CLASSIFICATION REPORT - TRAINING DATA SET(80/20 SPLIT) - NEXT WORD AS FEATURE----------------\")\n",
    "print('\\n')\n",
    "print(nextword_only)\n",
    "print('\\n')\n",
    "print(\"------------------THE CLASSIFICATION REPORT - TRAINING DATA SET(80/20 SPLIT) - NEXT AND PREVIOUS WORD AS FEATURE----------------\")\n",
    "print('\\n')\n",
    "print(allwords_only)\n",
    "print('\\n')\n",
    "print(\"------------------THE CLASSIFICATION REPORT - TRAINING DATA SET(80/20 SPLIT) - PREVIOUS TAG AS FEATURE----------------\")\n",
    "print('\\n')\n",
    "print(prev_tags_only)\n",
    "print('\\n')\n",
    "print(\"------------------THE CLASSIFICATION REPORT - TRAINING DATA SET(80/20 SPLIT) - NEXT AND PREVIOUS WORD AND TAG AS FEATURE---------------\")\n",
    "print('\\n')\n",
    "print(words_tags)\n",
    "print('\\n')\n",
    "print(\"------------------THE CLASSIFICATION REPORT - TRAINING DATA SET AND THE TEST DATASET - AFTER ALL THE FEATURES EXPLORED ----------------\")\n",
    "print('\\n')\n",
    "print(final)"
   ]
  },
  {
   "cell_type": "markdown",
   "metadata": {},
   "source": [
    "| macro avg - F SCORE     |       |                  \n",
    "|:-|:-|\n",
    "|   INTIALLY              | 0.83  |  \n",
    "|   POS TAGGING AS FEATURE|  0.64 |\n",
    "|   NEXT WORD AS FEATURE              | 0.64  |  \n",
    "|   NEXT AND PREVIOUS WORD AS FEATURE              | 0.70  |\n",
    "|   PREVIOUS TAG AS FEATURE     | 0.64 | \n",
    "|   NEXT AND PREVIOUS WORD AND TAG AS FEATURE    | 0.71 | \n",
    "|   AFTER ALL THE FEATURES EXPLORED| 0.73 | "
   ]
  }
 ],
 "metadata": {
  "kernelspec": {
   "display_name": "Python 3",
   "language": "python",
   "name": "python3"
  },
  "language_info": {
   "codemirror_mode": {
    "name": "ipython",
    "version": 3
   },
   "file_extension": ".py",
   "mimetype": "text/x-python",
   "name": "python",
   "nbconvert_exporter": "python",
   "pygments_lexer": "ipython3",
   "version": "3.9.0"
  }
 },
 "nbformat": 4,
 "nbformat_minor": 4
}
