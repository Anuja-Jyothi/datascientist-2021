{
 "cells": [
  {
   "cell_type": "markdown",
   "metadata": {},
   "source": [
    "# QUESTION 4 AND 5"
   ]
  },
  {
   "cell_type": "markdown",
   "metadata": {},
   "source": [
    "### (1) INCLUDING THE LIBRARIES NEEDS FOR THE CODE"
   ]
  },
  {
   "cell_type": "code",
   "execution_count": 10,
   "metadata": {},
   "outputs": [],
   "source": [
    "import csv,re,numpy            \n",
    "from sklearn.svm import LinearSVC\n",
    "from nltk.classify import SklearnClassifier\n",
    "from random import shuffle\n",
    "from sklearn.pipeline import Pipeline\n",
    "from sklearn.metrics import precision_recall_fscore_support, accuracy_score\n",
    "\n",
    "import nltk, sklearn\n",
    "from nltk.tokenize import word_tokenize\n",
    "from nltk.stem import PorterStemmer, LancasterStemmer, SnowballStemmer, WordNetLemmatizer\n",
    "from nltk.corpus import stopwords\n",
    "#from nltk.util import ngrams"
   ]
  },
  {
   "cell_type": "markdown",
   "metadata": {},
   "source": [
    "### (2) LOADING DATA AND SPLITTING DATA INTO TRAIN AND TEST\n",
    "1. TOOK THE TAB DELIMITIED TEXT FILE AS INPUT\n",
    "2. READ THE DOCUMENT LINE BY LINE\n",
    "3. PARSED LINE BY LINE \n",
    "4. SPLIT THE DOCUMENT INTO TWO SETS(TRAINING AND TEST SET)\n",
    "5. THE PERCENTAGE IS PROVIDED AS INPUT FOR SPLITTING (GENERALLY 80% CONSIDERED TRAINING DATA WHILE SPLITTING)\n",
    "6. THE PREPROCESS AND THE FEATURE CONVERSION TAKES PLACE DURING SPLITTING (BY CALLING THEIR RESPECTIVE USER DEFINED FUNCTIONS)"
   ]
  },
  {
   "cell_type": "code",
   "execution_count": 11,
   "metadata": {},
   "outputs": [],
   "source": [
    "# load data from a file and append it to the rawData\n",
    "def loadData(path, Text=None):\n",
    "    with open(path,encoding = \"utf-8\") as f:\n",
    "        reader = csv.reader(f, delimiter='\\t')\n",
    "        for line in reader:\n",
    "            if line[0] == \"DOC_ID\":  # skip the header\n",
    "                continue\n",
    "            (Id, Rating, v_Purchase, p_Category, p_ID, Text, Label) = parseReview(line)\n",
    "            rawData.append((Id, Rating, v_Purchase, p_Category, p_ID, Text, Label))\n",
    "            \n",
    "def splitData(percentage):\n",
    "    # A method to split the data between trainData and testData \n",
    "    dataSamples = len(rawData)\n",
    "    halfOfData = int(len(rawData)/2)\n",
    "\n",
    "    trainingSamples = int((percentage*dataSamples)/2)\n",
    "    for (_, Rating, v_Purchase, p_Category, p_ID, Text, Label) in rawData[:trainingSamples] + rawData[halfOfData:halfOfData+trainingSamples]:\n",
    "        trainData.append((toFeatureVector(Rating, v_Purchase, p_Category, p_ID, preProcess(Text)),Label))\n",
    "        \n",
    "    for (_, Rating, v_Purchase, p_Category, p_ID, Text, Label) in rawData[trainingSamples:halfOfData] + rawData[halfOfData+trainingSamples:]:\n",
    "        testData.append((toFeatureVector(Rating, v_Purchase, p_Category, p_ID, preProcess(Text)),Label))"
   ]
  },
  {
   "cell_type": "markdown",
   "metadata": {},
   "source": [
    "### (3) PARSING DATA:\n",
    "1. SPLIT INPUT INTO FOLLOWING PARTS:\n",
    "    * DOC_ID\n",
    "    * RATING\n",
    "    * VERIFIED_PURCHASE\n",
    "    * PRODUCT_CATEGORY\n",
    "    * PRODUCT_ID\n",
    "    * REVIEW_TEXT \n",
    "    * LABEL\n",
    "\n",
    "2. THE LABEL FROM INPUT IS ASSIGNED VALUE AS PER THE REQUIRED OUTPUT CLASSES  <b>(<i>fake, real</i>)</b>\n",
    "3. THE FUNCTION RETURNS A TUPLE: <b>(<i>Id, Rating, Verified Purchase, Product Category, Text, Label</i>)</b>\n",
    "4. EXTRA FEATURES HAVE BEEN EXTRACTED TO EXPLORE AND UNDERSTAND THE PERFORMANCE BASED ON THEIR INCLUSION AS FEATURES."
   ]
  },
  {
   "cell_type": "code",
   "execution_count": 12,
   "metadata": {},
   "outputs": [],
   "source": [
    "# Convert line from input file into an id/text/label tuple\n",
    "def parseReview(reviewLine):\n",
    "    (Id, Rating, v_Purchase, p_Category, p_ID, Text, Label) = (int(reviewLine[0]), \n",
    "                                                               reviewLine[2], reviewLine[3],\n",
    "                                                               reviewLine[4], reviewLine[5], reviewLine[8],\n",
    "                                                               fakeLabel if reviewLine[1]=='__label1__' else realLabel)\n",
    "    #print(Id, Rating, v_Purchase, p_Category, p_ID, Text, Label)\n",
    "    return (Id, Rating, v_Purchase, p_Category, p_ID, Text, Label)"
   ]
  },
  {
   "cell_type": "markdown",
   "metadata": {},
   "source": [
    "### (4) PREPROCESSING: \n",
    "1. IDENTIFIED AND REMOVED THE HYPER LINKS, THE SPECIAL CHARACTERS, THE HTML TAGS (using regex)\n",
    "3. IDENTIFIED THE CONTRACTIONS AND REMOVED THE APOSTROPHE (using regex)\n",
    "5. REPLACED ALL THE SPECIAL CHARACTERS WITH WHITESPACES (using regex)\n",
    "6. CREATED TOKENS OF INDIVIDUAL WORDS USING STANDARD FUNCTION <b>(<i>nltk.word_tokenize())</i>))</b>\n",
    "6. REMOVED NUMERIC DATA (using regex)\n",
    "7. REMOVED THE EMPTY ENTRIES, CREATED AS THE RESULT OF POINT 3, IN THE TOKEN LIST (using regex)\n",
    "8. CONVERTED ALL TOKENS TO LOWERCASE (using regex)\n",
    "8. LEMMATIZED TOKENS USING STANDARD FUNCTION <b>(<i>nltk.stem.WordNetLemmatizer.lemmatize()</i>))</b>\n",
    "8. TRIED THE FOLLOWING STEMMING. BUT THE FEATURES REDUCED CONSIDERABLY. SO WITHDRAV MYSELF FROM USING IT. \n",
    "    *  <b>(<i>nltk.stem.PorterStemmer.stem()</i>)</b>\n",
    "    *  <b>(<i>nltk.stem.LancasterStemmer.stem()</i>)</b>\n",
    "    *  <b>(<i>nltk.stem.SnowballStemmer.stem()</i>)</b>\n",
    "8. INCLUDED THE STOPWORDS FROM CORPUS TO CHECK AND REMOVE THEM FROM TOKENS DURING LEMMATATION PROCESS \n",
    "    *  <b>(<i>nltk.corpus.stopwords.words('english')</i>))</b>\n",
    "8. BIGRAM WAS USED TO FURTHER ENHANCE THE FEATURE COUNT nltk.util import ngrams\n",
    "9. THE FUNCTION RETURNS TOKEN LIST THUS COMPLETING THE TOKENIZATION PROCESS, AND THE PREPROCESSING."
   ]
  },
  {
   "cell_type": "code",
   "execution_count": 13,
   "metadata": {},
   "outputs": [],
   "source": [
    "spl_char = {}\n",
    "hpr_link = {}\n",
    "swords = {}\n",
    "numbers = {}\n",
    "\n",
    "# Input: a string of one review\n",
    "\n",
    "    \n",
    "    ###=======================================###\n",
    "     ###### PREPROCESS STAGES USING REGEX ###### \n",
    "    ###=======================================### \n",
    "\n",
    "def preProcess(text):# Should return a list of tokens\n",
    "    hprlink = re.findall(\"http\\S+\",text) #find all hyperlink\n",
    "    splchar = re.findall(\"\\W\",text) #find all special characters\n",
    "    \n",
    "    # Save the hyperlinks and special characters in dictionary for future analysis\n",
    "    for h in hprlink:\n",
    "        try:\n",
    "            i = hpr_link[h]\n",
    "        except KeyError:\n",
    "            i = len(hpr_link) + 1\n",
    "            hpr_link[h] = i            \n",
    "    \n",
    "    for s in splchar:\n",
    "        try:\n",
    "            i = spl_char[s]\n",
    "        except KeyError:\n",
    "            i = len(spl_char) + 1\n",
    "            spl_char[s] = i\n",
    "\n",
    "    # removing hyper link, html tags, contraction, and other special characters inorder to tokenize\n",
    "    text = re.sub(r\"http\\S+\", \"\", text) \n",
    "    text = re.sub('<.*?>', '', text)\n",
    "    #print(text)\n",
    "    text = re.sub(r\"(\\w)(['’])(\\w)\", r\"\\1\\3\", text) #contraction \n",
    "    text = re.sub(r\"\\W\", r\" \", text)\n",
    "    tokens =  word_tokenize(text) \n",
    "    #print(tokens)\n",
    "    tokens = [t.lower() for t in tokens] # converting text to lower case\n",
    "    \n",
    "    \n",
    "    ###=======================================###\n",
    "            ###### LEMMATIZATION ###### \n",
    "    ###=======================================###   \n",
    "    \n",
    "    lemma = WordNetLemmatizer()\n",
    "    \n",
    "    no_sw_tokens=[]\n",
    "    stop_words = set(stopwords.words('english'))\n",
    "    \n",
    "    for w in tokens:\n",
    "        if w not in stop_words:\n",
    "            no_sw_tokens.append(lemma.lemmatize(w))\n",
    "        else:\n",
    "            try:\n",
    "                i = swords[w]\n",
    "            except KeyError:\n",
    "                i = len(swords) + 1\n",
    "                swords[w] = i\n",
    "\n",
    "    #print(no_sw_tokens)\n",
    "    \n",
    "    ###=======================================###\n",
    "            ###### REMOVING NUMBERS ###### \n",
    "    ###=======================================###      \n",
    "    clean_tokens = []\n",
    "    for token in no_sw_tokens:\n",
    "        if token.isnumeric() == False:\n",
    "                 clean_tokens.append(token)\n",
    "        else:\n",
    "            try:\n",
    "                i = numbers[token]\n",
    "            except KeyError:\n",
    "                i = len(numbers) + 1\n",
    "                numbers[token] = i  \n",
    "    #print(clean_tokens)\n",
    "     \n",
    "    ###=======================================###\n",
    "            ###### STEMMING ###### \n",
    "    ###=======================================###\n",
    "\n",
    "    porter = PorterStemmer()\n",
    "    lancaster = LancasterStemmer()\n",
    "    snow = SnowballStemmer(\"english\") \n",
    "    stemmed_tokens = []\n",
    "     \n",
    "    #stemming PorterStemmer, LancasterStemmer, SnowballStemmer\n",
    "    def PstemTokens(clean_tokens):\n",
    "        for word in clean_tokens:\n",
    "            stemmed_tokens.append(porter.stem(word))\n",
    "        return stemmed_tokens\n",
    "            \n",
    "    \"\"\"            \n",
    "    LancasterStemmer is simple, but heavy stemming due to iterations and over-stemming may occur. \n",
    "    Over-stemming causes the stems to be not linguistic, or they may have no meaning.    \n",
    "    \"\"\"\n",
    "    \n",
    "    def LstemTokens(clean_tokens):\n",
    "        for word in clean_tokens:\n",
    "            stemmed_tokens.append(lancaster.stem(word))\n",
    "        return stemmed_tokens\n",
    "    \n",
    "    def SstemTokens(clean_tokens):\n",
    "        for word in clean_tokens:\n",
    "            stemmed_tokens.append(snow.stem(word))\n",
    "        return stemmed_tokens\n",
    "            \n",
    "    #stemmed_tokens = PstemTokens(clean_tokens)\n",
    "    #stemmed_tokens = LstemTokens(tokens) \n",
    "    stemmed_tokens = SstemTokens(tokens) \n",
    "\n",
    "    #print(clean_tokens)\n",
    "    #print(final_tokens)\n",
    "    #print(stemmed_tokens)\n",
    "    \n",
    "    final_tokens = [' '.join(l) for l in nltk.bigrams(stemmed_tokens)] + stemmed_tokens\n",
    "    #final_tokens = [' '.join(l) for l in nltk.bigrams(clean_tokens)] + clean_tokens\n",
    "    \n",
    "    #return stemmed_tokens\n",
    "    #return clean_tokens\n",
    "    return final_tokens\n",
    "\n",
    "\n",
    "#with open('tokenize.txt', 'w', encoding=\"utf-8\") as f:\n",
    "#    f.write(str(final_tokens))\n",
    "#    f.write(str(swords))\n",
    "#    f.write(str(numbers))\n",
    "#    f.close"
   ]
  },
  {
   "cell_type": "markdown",
   "metadata": {
    "id": "mFz1vazMEV5e"
   },
   "source": [
    "### (5) CONVERTING THE TOKENS TO FEATURES\n",
    "\n",
    "1.  THE GLOBAL DICTIONARY IS FILLED WITH THE FEATURES THAT ARE ENCOUNTED DURING THE WHOLE FEATURE VECTOR CREATION PROCESS \n",
    "2.  BINARY FEATURE VALUES HAVE BEEN USED FOR EACH REVIEW \n",
    "3.  FOR THE ADDITIONAL FEATURES ADDED(Rating, v_Purchase, p_Category,p_ID) LOCAL DICTIONARY HAVE \n",
    "     * RATINGS 1 TO 5\n",
    "     * THE VERIFIED PURCHASE AS 1 IF PRESENT AND 0 OTHERWISE\n",
    "     * THE PRODUCT ID AS 1 IF PRESENT AND 0 OTHERWISE\n",
    "     * THE PRODUCT CATEGORY AS 1 IF PRESENT AND 0 OTHERWISE\n",
    "     \n",
    "4.  I HAVE NOT INCLUDED THE PRODUCT TITLE "
   ]
  },
  {
   "cell_type": "code",
   "execution_count": 14,
   "metadata": {},
   "outputs": [],
   "source": [
    "featureDict = {} # A global dictionary of features\n",
    "\n",
    "def toFeatureVector(Rating, v_Purchase, p_Category, p_ID, tokens):\n",
    "    localDict = {}\n",
    "\n",
    "    #Rating\n",
    "    \n",
    "    #print(Rating)\n",
    "    featureDict[\"R\"] = 1   \n",
    "    localDict[\"R\"] = Rating\n",
    "    \n",
    "    #Verified Purchase\n",
    "    featureDict[\"VP\"] = 1\n",
    "         \n",
    "    if v_Purchase == \"N\":\n",
    "        localDict[\"VP\"] = 0\n",
    "    else:\n",
    "        localDict[\"VP\"] = 1\n",
    "\n",
    "    #Product Category  \n",
    "    if p_Category not in featureDict:\n",
    "        featureDict[p_Category] = 1\n",
    "    else:\n",
    "        featureDict[p_Category] = +1\n",
    "            \n",
    "    if p_Category not in localDict:\n",
    "        localDict[p_Category] = 1\n",
    "    else:\n",
    "        localDict[p_Category] = +1\n",
    "        \n",
    "    #Product ID\n",
    "    if p_ID not in featureDict:\n",
    "        featureDict[p_ID] = 1\n",
    "    else:\n",
    "        featureDict[p_ID] = +1\n",
    "            \n",
    "    if p_Category not in localDict:\n",
    "        localDict[p_ID] = 1\n",
    "    else:\n",
    "        localDict[p_ID] = +1\n",
    "    \n",
    "\n",
    "    #Text        \n",
    "    for token in tokens:\n",
    "        if token not in featureDict:\n",
    "            featureDict[token] = 1\n",
    "        else:\n",
    "            featureDict[token] = +1\n",
    "            \n",
    "        if token not in localDict:\n",
    "            localDict[token] = 1\n",
    "        else:\n",
    "            localDict[token] = +1\n",
    "    \n",
    "    #for token in tokens:\n",
    "    #    try:\n",
    "    #        i = featureDict[token]\n",
    "    #    except KeyError:\n",
    "    #        i = len(featureDict) + 1\n",
    "    #        featureDict[token] = i\n",
    "    #    try:\n",
    "    #        localDict[i] += (1.0/len(tokens))\n",
    "    #    except KeyError:\n",
    "    #        localDict[i] = (1.0/len(tokens))            \n",
    "    #        \n",
    "    #print(featureDict)\n",
    "    #print(localDict) \n",
    "    \n",
    "    return localDict"
   ]
  },
  {
   "cell_type": "markdown",
   "metadata": {},
   "source": [
    "### (6) TRAINING AND VALIDATING OUR CLASSIFIER"
   ]
  },
  {
   "cell_type": "code",
   "execution_count": 15,
   "metadata": {},
   "outputs": [],
   "source": [
    "def trainClassifier(trainData):\n",
    "    print(\"Training Classifier...\")\n",
    "    pipeline =  Pipeline([('svc', LinearSVC())])\n",
    "    return SklearnClassifier(pipeline).train(trainData)"
   ]
  },
  {
   "cell_type": "markdown",
   "metadata": {
    "id": "MRIspwXJEV5l"
   },
   "source": [
    "### (7) CROSS VALIDATING"
   ]
  },
  {
   "cell_type": "markdown",
   "metadata": {
    "id": "FxLZI_SlEV5l"
   },
   "source": [
    "1. THE 10 FOLD CROSS VALIDATION IS PERFORMED WHERE THE TRAINING DATA (80% OF THE WHOLE DATA) IS SPLIT IS 10 FOLDS AND EACH FOLD ACT AS TEST DATA AND THE REMAINING 10 FOLD ARE TRAINING DATA. \n",
    "2. THIS IS ACCOMPLISHED BY PUTTING THE FOLDS IN LOOP AND ROTATING THE FOLDS TO ACT AS TRAINING AND TEST DATA \n",
    "3. THUS IT FOLLOWS THE PATTERN: \n",
    "    * TRAIN DATA: [:i]  \n",
    "    * TEST DATA [i:foldSize+i] \n",
    "    * TRAIN DATA [foldSize+i:] \n",
    "    COMBINED PROPERLY IN THE CODE WITH CONCATENATION \n",
    "4. THE MAIN CODE CALLS THE CROSS VALIDATE WITH 80% OF THE MAIN DATASET AND THE NUMBER OF FOLDS AS PARAMETERS\n",
    "5. THE TEST DATA LABELS ARE GATHERED BEFORE PREDICTING ON THE TEST DATA\n",
    "6. THE GATHERED LABELS AND PREDICTED LABELS ARE PASSED ON TO STANDARD FUNCTIONS TO IDENTIFY THE FOLLOWING:\n",
    "    * PRECISON <b>(<i>sklearn.metrics.precision_recall_fscore_support()</i>)</b>\n",
    "    * RECALL <b>(<i>sklearn.metrics.precision_recall_fscore_support()</i>)</b>\n",
    "    * F-SCORE <b>(<i>sklearn.metrics.precision_recall_fscore_support()</i>)</b>\n",
    "    * THE ABOVE VALUES RETURNED AS TUPLE BY THE FUNCTION\n",
    "    * ACCURACY <b>(<i>sklearn.metrics.accuracy_score()</i>)</b>\n",
    "7. THE AVERAGE OF EACH SCORE IS TAKEN USING MEAN \n",
    "8. FINAL RESULT IS RETURNED TO THE CALLING CODE"
   ]
  },
  {
   "cell_type": "code",
   "execution_count": 16,
   "metadata": {},
   "outputs": [],
   "source": [
    "def crossValidate(dataset, folds):\n",
    "    shuffle(dataset)\n",
    "    foldSize = int(len(dataset)/folds)\n",
    "    # DESCRIBE YOUR METHOD IN WORDS\n",
    "    cv_results, precision, accuracy, recall,fbeta = ([] for i in range(5)) \n",
    "    for i in range(0,len(dataset),foldSize):     \n",
    "        \n",
    "        testData = dataset[i:foldSize+i]\n",
    "        trainData = dataset[:i] + dataset[foldSize+i:] \n",
    "\n",
    "\n",
    "        #Fold 1 through 10 is picked in for each for loop   \n",
    "              \n",
    "        classifier = trainClassifier(trainData)\n",
    "        #store the labels\n",
    "        testTrue = [t[1] for t in testData]   #get the ground-truth labels from the data\n",
    "        \n",
    "        #classify the test data to get predicted labels\n",
    "        testPred = predictLabels(testData,classifier)\n",
    "        \n",
    "        AS = accuracy_score(testTrue, testPred)\n",
    "        (PC, RC, F1S,_) = precision_recall_fscore_support(testTrue, testPred, average='weighted') # evaluate\n",
    "        \n",
    "        precision.append(PC)\n",
    "        recall.append(RC)\n",
    "        fbeta.append(F1S)\n",
    "        accuracy.append(AS)\n",
    "        \n",
    "        # F-Measure = (2 * Precision * Recall) / (Precision + Recall)\n",
    "        # P = tp/(tp+fp)\n",
    "        # R = tp/(tp+fn)\n",
    "\n",
    "    cv_results = [sum(precision)/folds, sum(recall)/folds, sum(fbeta)/folds, sum(accuracy)/folds]\n",
    "    #print(cv_results)\n",
    "    return cv_results"
   ]
  },
  {
   "cell_type": "code",
   "execution_count": 17,
   "metadata": {},
   "outputs": [],
   "source": [
    "# PREDICTING LABELS GIVEN A CLASSIFIER\n",
    "\n",
    "def predictLabels(reviewSamples, classifier):\n",
    "    return classifier.classify_many(map(lambda t: t[0], reviewSamples))\n",
    "\n",
    "def predictLabel(reviewSample, classifier):\n",
    "    return classifier.classify(toFeatureVector(preProcess(reviewSample)))"
   ]
  },
  {
   "cell_type": "code",
   "execution_count": 18,
   "metadata": {},
   "outputs": [
    {
     "name": "stdout",
     "output_type": "stream",
     "text": [
      "Now 0 Raw Data, 0 Train Data, 0 Test Data\n",
      "Preparing the dataset...\n",
      "\n",
      "\n",
      "Now 21000 rawData, 0 Train Data, 0 Test Data\n",
      "Preparing training and test data...\n",
      "\n",
      "\n",
      "After split, 21000 Raw Data, 16800 Train Data, 4200 Test Data\n",
      "\n",
      "\n",
      "Training Samples: 16800\n",
      "Features: 410817\n",
      "\n",
      "\n",
      "K Fold cross-validation: \n",
      "\n",
      "\n",
      "Training Classifier...\n",
      "Training Classifier...\n",
      "Training Classifier...\n",
      "Training Classifier...\n",
      "Training Classifier...\n",
      "Training Classifier...\n",
      "Training Classifier...\n",
      "Training Classifier...\n",
      "Training Classifier...\n",
      "Training Classifier...\n",
      "Precision: 0.7930421783749483 , Recall: 0.792797619047619 , F Score 0.7927805676815118 , Accuracy: 0.792797619047619\n"
     ]
    }
   ],
   "source": [
    "#### MAIN\n",
    "\n",
    "# loading reviews\n",
    "# initialize global lists that will be appended to by the methods below\n",
    "rawData = []          # the filtered data from the dataset file (should be 21000 samples)\n",
    "trainData = []        # the pre-processed training data as a percentage of the total dataset (currently 80%, or 16800 samples)\n",
    "testData = []         # the pre-processed test data as a percentage of the total dataset (currently 20%, or 4200 samples)\n",
    "\n",
    "# the output classes\n",
    "fakeLabel = 'fake'\n",
    "realLabel = 'real'\n",
    "\n",
    "# references to the data files\n",
    "reviewPath = 'amazon_reviews.txt'\n",
    "\n",
    "# We parse the dataset and put it in a raw data list\n",
    "print(\"Now %d Raw Data, %d Train Data, %d Test Data\" % (len(rawData), len(trainData), len(testData)),\n",
    "      \"Preparing the dataset...\",sep='\\n')\n",
    "\n",
    "print('\\n')\n",
    "loadData(reviewPath) \n",
    "\n",
    "# We split the raw dataset into a set of training data and a set of test data (80/20)\n",
    "# You do the cross validation on the 80% (training data)\n",
    "# We print the number of training samples and the number of features before the split\n",
    "print(\"Now %d rawData, %d Train Data, %d Test Data\" % (len(rawData), len(trainData), len(testData)),\n",
    "      \"Preparing training and test data...\",sep='\\n')\n",
    "\n",
    "splitData(0.8)\n",
    "\n",
    "print('\\n')\n",
    "# We print the number of training samples and the number of features after the split\n",
    "print(\"After split, %d Raw Data, %d Train Data, %d Test Data\" % (len(rawData), len(trainData), len(testData)),'\\n',\n",
    "      \"Training Samples: %d\" % len(trainData), \"Features: %d\" % len(featureDict), sep='\\n')\n",
    "\n",
    "print('\\n')\n",
    "\n",
    "# QUESTION 3 - Make sure there is a function call here to the\n",
    "# crossValidate function on the training set to get your results\n",
    "\n",
    "print(\"K Fold cross-validation: \")\n",
    "print('\\n')\n",
    "CV_Results= crossValidate(trainData, 10)\n",
    "print(\n",
    "      \"Precision:\", CV_Results[0],\n",
    "      \", Recall:\", CV_Results[1],\n",
    "      \", F Score\", CV_Results[2],\n",
    "      \", Accuracy:\", CV_Results[3])\n",
    "#print(trainData[7]) \n",
    "#with open('featureDict.txt', 'w', encoding=\"utf-8\") as f:\n",
    "#    f.write(str(featureDict))\n",
    "#    f.close\n"
   ]
  },
  {
   "cell_type": "markdown",
   "metadata": {
    "id": "NwCEmKceEV8C"
   },
   "source": [
    "### (8) Evaluate on test set"
   ]
  },
  {
   "cell_type": "code",
   "execution_count": 19,
   "metadata": {},
   "outputs": [
    {
     "name": "stdout",
     "output_type": "stream",
     "text": [
      "({'R': '5', 'VP': 0, 'Pet Products': 1, 'B0045UGVKY': 1, 'our dog': 1, 'dog bed': 1, 'bed had': 1, 'had gotten': 1, 'gotten so': 1, 'so fold': 1, 'fold and': 1, 'and dog': 1, 'dog ear': 1, 'ear if': 1, 'if you': 1, 'you like': 1, 'like so': 1, 'so i': 1, 'i was': 1, 'was look': 1, 'look for': 1, 'for one': 1, 'one that': 1, 'that would': 1, 'would be': 1, 'be more': 1, 'more thicker': 1, 'thicker and': 1, 'and heavier': 1, 'heavier to': 1, 'to avoid': 1, 'avoid that': 1, 'that predica': 1, 'predica in': 1, 'in futur': 1, 'futur i': 1, 'i saw': 1, 'saw this': 1, 'this one': 1, 'one here': 1, 'here at': 1, 'at amazon': 1, 'amazon and': 1, 'and i': 1, 'i like': 1, 'like it': 1, 'it thick': 1, 'thick right': 1, 'right from': 1, 'from the': 1, 'the imag': 1, 'imag display': 1, 'display i': 1, 'i gave': 1, 'gave it': 1, 'it a': 1, 'a shot': 1, 'shot and': 1, 'and im': 1, 'im veri': 1, 'veri satisfi': 1, 'satisfi with': 1, 'with it': 1, 'it it': 1, 'it high': 1, 'high qualiti': 1, 'qualiti and': 1, 'and she': 1, 'she realli': 1, 'realli love': 1, 'love it': 1, 'it thank': 1, 'thank you': 1, 'our': 1, 'dog': 1, 'bed': 1, 'had': 1, 'gotten': 1, 'so': 1, 'fold': 1, 'and': 1, 'ear': 1, 'if': 1, 'you': 1, 'like': 1, 'i': 1, 'was': 1, 'look': 1, 'for': 1, 'one': 1, 'that': 1, 'would': 1, 'be': 1, 'more': 1, 'thicker': 1, 'heavier': 1, 'to': 1, 'avoid': 1, 'predica': 1, 'in': 1, 'futur': 1, 'saw': 1, 'this': 1, 'here': 1, 'at': 1, 'amazon': 1, 'it': 1, 'thick': 1, 'right': 1, 'from': 1, 'the': 1, 'imag': 1, 'display': 1, 'gave': 1, 'a': 1, 'shot': 1, 'im': 1, 'veri': 1, 'satisfi': 1, 'with': 1, 'high': 1, 'qualiti': 1, 'she': 1, 'realli': 1, 'love': 1, 'thank': 1}, 'fake')\n",
      "\n",
      "\n",
      "Training Classifier...\n",
      "\n",
      "\n",
      "Done training!\n",
      "\n",
      "\n",
      "\t Precision: 0.7751091703056768 \n",
      " \t Recall: 0.7728571428571429 \n",
      " \t F Score 0.7723913450996654 \n",
      " \t Accuracy: 0.7728571428571429\n"
     ]
    }
   ],
   "source": [
    "# Finally, check the accuracy of your classifier by training on all the tranin data\n",
    "# and testing on the test set\n",
    "# Will only work once all functions are complete\n",
    "functions_complete = True  # set to True once you're happy with your methods for cross val\n",
    "if functions_complete:\n",
    "    print(testData[7])  # have a look at the first test data instance\n",
    "    print('\\n')\n",
    "    finalScores = []\n",
    "    classifier = trainClassifier(trainData)  # train the classifier\n",
    "    testTrue = [t[1] for t in testData]   # get the ground-truth labels from the data\n",
    "    testPred = predictLabels(testData, classifier)  # classify the test data to get predicted labels\n",
    "    accuracy = accuracy_score(testTrue, testPred)\n",
    "    (precision,recall,fbeta,_) = precision_recall_fscore_support(testTrue, testPred, average='weighted') # evaluate\n",
    "    \n",
    "    finalScores.append(precision)\n",
    "    finalScores.append(recall)\n",
    "    finalScores.append(fbeta)\n",
    "    finalScores.append(accuracy)\n",
    "    \n",
    "\n",
    "    print('\\n')\n",
    "    print(\"Done training!\")\n",
    "    print('\\n')\n",
    "    print('\\t',\"Precision:\", finalScores[0],'\\n',\n",
    "          '\\t',\"Recall:\", finalScores[1],'\\n',\n",
    "          '\\t',\"F Score\", finalScores[2],'\\n',\n",
    "          '\\t',\"Accuracy:\", finalScores[3])"
   ]
  },
  {
   "cell_type": "markdown",
   "metadata": {},
   "source": [
    "### (9) SUMMARIZING"
   ]
  },
  {
   "cell_type": "code",
   "execution_count": 20,
   "metadata": {},
   "outputs": [
    {
     "name": "stdout",
     "output_type": "stream",
     "text": [
      "\n",
      "\n",
      "QUESTION 1,2 & 3:\n"
     ]
    },
    {
     "data": {
      "text/html": [
       "<table><tr><td>PreProcess</td><td>FeatureDict</td><td>Features</td><td>toFeatureVector</td><td>Stage</td><td>Precision</td><td>Recall</td><td>F-Score</td><td>Accuracy</td></tr><tr><td>regex</td><td>35179</td><td>1</td><td>Binary</td><td>Training</td><td>0.6050831669425428</td><td>0.6048214285714286</td><td>0.6045655786836039</td><td>0.6048214285714286</td></tr><tr><td>regex</td><td>35179</td><td>1</td><td>Binary</td><td>Testing</td><td>0.5859539596985796</td><td>0.585952380952381</td><td>0.5859504797045837</td><td>0.585952380952381</td></tr><tr><td>regex</td><td>35179</td><td>1</td><td>Weighed</td><td>Training</td><td>0.6492461085573931</td><td>0.6483928571428571</td><td>0.6479372380917668</td><td>0.6483928571428571</td></tr><tr><td>regex</td><td>35179</td><td>1</td><td>Weighed</td><td>Testing</td><td>0.629317866998244</td><td>0.6290476190476191</td><td>0.6288537140492447</td><td>0.6290476190476191</td></tr></table>"
      ],
      "text/plain": [
       "<IPython.core.display.HTML object>"
      ]
     },
     "metadata": {},
     "output_type": "display_data"
    },
    {
     "name": "stdout",
     "output_type": "stream",
     "text": [
      "\n",
      "\n",
      "QUESTION 4 & 5:\n"
     ]
    },
    {
     "data": {
      "text/html": [
       "<table><tr><td>PreProcess</td><td>FeatureDict</td><td>Features</td><td>toFeatureVector</td><td>Stage</td><td>Precision</td><td>Recall</td><td>F-Score</td><td>Accuracy</td></tr><tr><td>lemmatize</td><td>30841</td><td>1</td><td>Weighed</td><td>Training</td><td>0.6460385934109422</td><td>0.6451190476190476</td><td>0.6446594449101551</td><td>0.6451190476190476</td></tr><tr><td>lemmatize</td><td>30841</td><td>1</td><td>Weighed</td><td>Testing</td><td>0.5936564293366243</td><td>0.5928571428571429</td><td>0.591986621796936</td><td>0.5928571428571429</td></tr><tr><td>Porter</td><td>23825</td><td>1</td><td>Weighed</td><td>Training</td><td>0.6444006198067227</td><td>0.6433928571428572</td><td>0.642994430562547</td><td>0.6433928571428572</td></tr><tr><td>Porter</td><td>23825</td><td>1</td><td>Weighed</td><td>Testing</td><td>0.6014024658504394</td><td>0.6007142857142858</td><td>0.6000356841264296</td><td>0.6007142857142858</td></tr><tr><td>Lancaster</td><td>21150</td><td>1</td><td>Weighed</td><td>Training</td><td>0.6492145852615543</td><td>0.6485119047619048</td><td>0.6481817066301547</td><td>0.6485119047619048</td></tr><tr><td>Lancaster</td><td>21150</td><td>1</td><td>Weighed</td><td>Testing</td><td>0.6299365972982724</td><td>0.6297619047619047</td><td>0.6296374217842267</td><td>0.6297619047619047</td></tr><tr><td>Snowball</td><td>24497</td><td>1</td><td>Weighed</td><td>Training</td><td>0.6534885196978472</td><td>0.6526190476190477</td><td>0.6523567028995492</td><td>0.6526190476190477</td></tr><tr><td>Snowball</td><td>24497</td><td>1</td><td>Weighed</td><td>Testing</td><td>0.6299748454099972</td><td>0.6297619047619047</td><td>0.6296102003229782</td><td>0.6297619047619047</td></tr><tr><td>bigram</td><td>391932</td><td>1</td><td>Weighed</td><td>Training</td><td>0.6425240242600496</td><td>0.6416666666666666</td><td>0.6411461317811362</td><td>0.6416666666666666</td></tr><tr><td>bigram</td><td>391932</td><td>1</td><td>Weighed</td><td>Testing</td><td>0.6259062570686007</td><td>0.6257142857142857</td><td>0.6255715614046986</td><td>0.6257142857142857</td></tr><tr><td>bigram</td><td>410817</td><td>5</td><td>Binary</td><td>Training</td><td>0.7930752295990684</td><td>0.7927380952380952</td><td>0.7927384160572007</td><td>0.7927380952380952</td></tr><tr><td>bigram</td><td>410817</td><td>5</td><td>Binary</td><td>Testing</td><td>0.7751091703056768</td><td>0.7728571428571429</td><td>0.7723913450996654</td><td>0.7728571428571429</td></tr></table>"
      ],
      "text/plain": [
       "<IPython.core.display.HTML object>"
      ]
     },
     "metadata": {},
     "output_type": "display_data"
    }
   ],
   "source": [
    "print('\\n')\n",
    "from IPython.display import HTML, display\n",
    "\n",
    "data = [[\"PreProcess\",\"FeatureDict\", \"Features\",\"toFeatureVector\", \"Stage\", \"Precision\", \"Recall\", \"F-Score\", \"Accuracy\"],\n",
    "        [\"regex\",\"35179\",\"1\",\"Binary\",\"Training\",\"0.6050831669425428\",\"0.6048214285714286\",\"0.6045655786836039\",\"0.6048214285714286\"],\n",
    "        [\"regex\",\"35179\",\"1\",\"Binary\",\"Testing\",\"0.5859539596985796\",\"0.585952380952381\",\"0.5859504797045837\", \"0.585952380952381\"],\n",
    "        [\"regex\",\"35179\",\"1\",\"Weighed\",\"Training\",\"0.6492461085573931\",\"0.6483928571428571\",\"0.6479372380917668\",\"0.6483928571428571\"],\n",
    "        [\"regex\",\"35179\",\"1\",\"Weighed\",\"Testing\",\"0.629317866998244\",\"0.6290476190476191\",\"0.6288537140492447\",\"0.6290476190476191\"]\n",
    "       ]\n",
    "final = [[\"PreProcess\",\"FeatureDict\", \"Features\",\"toFeatureVector\", \"Stage\", \"Precision\", \"Recall\", \"F-Score\", \"Accuracy\"],\n",
    "         [\"lemmatize\",\"30841\",\"1\",\"Weighed\",\"Training\",\"0.6460385934109422\",\"0.6451190476190476\",\"0.6446594449101551\",\"0.6451190476190476\"],\n",
    "         [\"lemmatize\",\"30841\",\"1\",\"Weighed\", \"Testing\",\"0.5936564293366243\",\"0.5928571428571429\",\"0.591986621796936\",\"0.5928571428571429\"],                  \n",
    "        \n",
    "         [\"Porter\", \"23825\",\"1\",\"Weighed\",\"Training\",\"0.6444006198067227\",\"0.6433928571428572\",\"0.642994430562547\",\"0.6433928571428572\"],\n",
    "         [\"Porter\", \"23825\",\"1\",\"Weighed\",\"Testing\",\"0.6014024658504394\",\"0.6007142857142858\",\"0.6000356841264296\",\"0.6007142857142858\"],\n",
    "         \n",
    "         [\"Lancaster\",\"21150\",\"1\",\"Weighed\",\"Training\",\"0.6492145852615543\",\"0.6485119047619048\",\"0.6481817066301547\",\"0.6485119047619048\"],\n",
    "         [\"Lancaster\",\"21150\",\"1\",\"Weighed\",\"Testing\",\"0.6299365972982724\",\"0.6297619047619047\",\"0.6296374217842267\",\"0.6297619047619047\"],\n",
    "         \n",
    "         [\"Snowball\",\"24497\",\"1\",\"Weighed\",\"Training\",\"0.6534885196978472\",\"0.6526190476190477\",\"0.6523567028995492\",\"0.6526190476190477\"],\n",
    "         [\"Snowball\",\"24497\",\"1\",\"Weighed\",\"Testing\",\"0.6299748454099972\",\"0.6297619047619047\",\"0.6296102003229782\",\"0.6297619047619047\"],\n",
    "         \n",
    "         [\"bigram\",\"391932\",\"1\",\"Weighed\",\"Training\",\"0.6425240242600496\",\"0.6416666666666666\",\"0.6411461317811362\",\"0.6416666666666666\"],\n",
    "         [\"bigram\",\"391932\",\"1\",\"Weighed\",\"Testing\",\"0.6259062570686007\",\"0.6257142857142857\",\"0.6255715614046986\",\"0.6257142857142857\"],\n",
    "         \n",
    "         [\"bigram\",\"410817\",\"5\",\"Binary\",\"Training\",\"0.7930752295990684\",\"0.7927380952380952\",\"0.7927384160572007\",\"0.7927380952380952\"],\n",
    "         [\"bigram\",\"410817\",\"5\",\"Binary\",\"Testing\",\"0.7751091703056768\",\"0.7728571428571429\",\"0.7723913450996654\",\"0.7728571428571429\"]\n",
    "        ]        \n",
    "        \n",
    "\n",
    "print(\"QUESTION 1,2 & 3:\")\n",
    "         \n",
    "display(HTML(\n",
    "   '<table><tr>{}</tr></table>'.format(\n",
    "       '</tr><tr>'.join(\n",
    "           '<td>{}</td>'.format('</td><td>'.join(str(_) for _ in row)) for row in data)\n",
    "       )\n",
    "))\n",
    "print('\\n')\n",
    "print(\"QUESTION 4 & 5:\")\n",
    "display(HTML(\n",
    "   '<table><tr>{}</tr></table>'.format(\n",
    "       '</tr><tr>'.join(\n",
    "           '<td>{}</td>'.format('</td><td>'.join(str(_) for _ in row)) for row in final)\n",
    "       )\n",
    "))\n"
   ]
  },
  {
   "cell_type": "code",
   "execution_count": 21,
   "metadata": {},
   "outputs": [
    {
     "data": {
      "image/png": "[encoded data removed]",
      "text/plain": [
       "<Figure size 432x288 with 1 Axes>"
      ]
     },
     "metadata": {
      "needs_background": "light"
     },
     "output_type": "display_data"
    },
    {
     "data": {
      "image/png": "[encoded data removed]",
      "text/plain": [
       "<Figure size 432x288 with 1 Axes>"
      ]
     },
     "metadata": {
      "needs_background": "light"
     },
     "output_type": "display_data"
    },
    {
     "data": {
      "image/png": "[encoded data removed]",
      "text/plain": [
       "<Figure size 432x288 with 1 Axes>"
      ]
     },
     "metadata": {
      "needs_background": "light"
     },
     "output_type": "display_data"
    },
    {
     "data": {
      "image/png": "[encoded data removed]",
      "text/plain": [
       "<Figure size 432x288 with 1 Axes>"
      ]
     },
     "metadata": {
      "needs_background": "light"
     },
     "output_type": "display_data"
    },
    {
     "name": "stdout",
     "output_type": "stream",
     "text": [
      "\n",
      "\n",
      "--------------------------------------!!! 😞 WE ARE KICKED OUT DURING PREPROCESSING 😞 !!!------------------------------------\n",
      "\n",
      " {' ': 1, ',': 2, '.': 3, \"'\": 4, '<': 5, '/': 6, '>': 7, '?': 8, '!': 9, '[': 10, ':': 11, '-': 12, ']': 13, '(': 14, ')': 15, '$': 16, '&': 17, ';': 18, '#': 19, '\"': 20, '’': 21, '%': 22, '*': 23, '~': 24, '=': 25, '+': 26, '–': 27, '@': 28, '—': 29, '{': 30, '}': 31, '😖': 32, '”': 33, '“': 34, '\\u200f': 35, '\\\\': 36, '`': 37, '…': 38, '，': 39, '®': 40, '‘': 41, '\\u200b': 42, '|': 43, '☆': 44, '™': 45, '：': 46, '😀': 47, '。': 48, '^': 49, '😊': 50, '👏': 51, '´': 52, '！': 53, '¬': 54, '★': 55, '\\xa0': 56, '🎥': 57, '✅': 58, '🍅': 59, '◆': 60, '▪': 61, '″': 62, '·': 63, '�': 64, '👌': 65, '¡': 66, '🐈': 67, '💞': 68, '😆': 69, '😍': 70, '👍': 71, '💖': 72, '💗': 73, '°': 74, '†': 75, '😉': 76, '¯': 77, '💜': 78, '×': 79, '😘': 80, '±': 81, '▶': 82, '•': 83, '∙': 84, '\\x1a': 85, '¢': 86, '😞': 87}\n",
      "\n",
      "\n",
      " and also the 301 Hyperlinks !!! ......along with 563 numbers!!!!!\n",
      "\n",
      "\n"
     ]
    }
   ],
   "source": [
    "import matplotlib.pyplot as plt\n",
    "\n",
    "using = [\"Only Regex\", \"Lemmatize\", \"Snowball\", \"Bigram\",\"multi feature\"]\n",
    "Precision = [0.629317866998244,0.5936564293366243,0.6299748454099972,0.6259062570686007,0.7751091703056768]\n",
    "Recall = [0.6290476190476191,0.5928571428571429,0.6297619047619047,0.6257142857142857,0.7728571428571429]\n",
    "FScore =[0.6288537140492447,0.591986621796936,0.6296102003229782,0.6255715614046986,0.7723913450996654]\n",
    "Accuracy = [0.6290476190476191,0.5928571428571429,0.6297619047619047,0.6257142857142857,0.7728571428571429]\n",
    "\n",
    "fig1 = plt.figure()\n",
    "pc = fig1.add_axes([1,1,1,1])\n",
    "pc.set_ylim(0.58, 0.78)\n",
    "pc.set_title(\"Precision\")\n",
    "pc.bar(using,Precision)\n",
    "\n",
    "fig2 = plt.figure()\n",
    "rc = fig2.add_axes([1,1,1,1])\n",
    "rc.set_ylim(0.58, 0.78)\n",
    "rc.set_title(\"Recall\")\n",
    "rc.bar(using,Recall)\n",
    "\n",
    "fig3 = plt.figure()\n",
    "fs = fig3.add_axes([1,1,1,1])\n",
    "fs.set_ylim(0.58, 0.78)\n",
    "fs.set_title(\"Fscore\")\n",
    "fs.bar(using,Recall)\n",
    "\n",
    "fig4 = plt.figure()\n",
    "ac = fig4.add_axes([1,1,1,1])\n",
    "ac.set_ylim(0.58, 0.78)\n",
    "ac.set_title(\"Accuracy\")\n",
    "ac.bar(using,Recall)\n",
    "\n",
    "plt.show()\n",
    "\n",
    "        #Precision #Recall #F Score #Accuracy\n",
    "#REGEX\n",
    "#LEMMATIZE\n",
    "#STEMMING\n",
    "#BIGRAM\n",
    "#Adding beyond Textual Features......\n",
    "\n",
    "print('\\n')\n",
    "print(\"--------------------------------------!!! 😞 WE ARE KICKED OUT DURING PREPROCESSING 😞 !!!------------------------------------\")\n",
    "print('\\n', spl_char)\n",
    "print('\\n')\n",
    "print(\" and also the\" , len(hpr_link), \"Hyperlinks !!!\", \"......along with\", len(numbers), \"numbers!!!!!\")\n",
    "print('\\n')"
   ]
  },
  {
   "cell_type": "markdown",
   "metadata": {},
   "source": [
    "# Observations"
   ]
  },
  {
   "cell_type": "markdown",
   "metadata": {},
   "source": [
    "1.  Its observed in exploratory way and via regex that the reviews were having hyper links, html tags which doesnt provide and valuable information to identify the classes. \n",
    "3.  Lemmmatize, though reduced the tokens to a certain extent fromm the previous tokenized list, together with bigram it gave a significant increase in the feature counts.\n",
    "3.  The scores gradually increased while applying stemming after lemmatizing. \n",
    "4.  The high level of peformance was observed when additional features were taken into consideration. \n",
    "5.  Finally the precision, recall, f-score and accuracy have a reached nearly 77% percentage from the lowest percentage (of around 59% while lemmatizing)"
   ]
  }
 ],
 "metadata": {
  "colab": {
   "collapsed_sections": [],
   "name": "Code.ipynb",
   "provenance": []
  },
  "kernelspec": {
   "display_name": "Python 3",
   "language": "python",
   "name": "python3"
  },
  "language_info": {
   "codemirror_mode": {
    "name": "ipython",
    "version": 3
   },
   "file_extension": ".py",
   "mimetype": "text/x-python",
   "name": "python",
   "nbconvert_exporter": "python",
   "pygments_lexer": "ipython3",
   "version": "3.9.0"
  }
 },
 "nbformat": 4,
 "nbformat_minor": 4
}
