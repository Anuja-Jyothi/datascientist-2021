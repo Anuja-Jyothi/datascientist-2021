{
 "cells": [
  {
   "cell_type": "markdown",
   "metadata": {
    "id": "Ilf_8unUHexY"
   },
   "source": [
    "## <font color = 'maroon'>Lab 02: Data Preprocessing</font> "
   ]
  },
  {
   "cell_type": "code",
   "execution_count": 131,
   "metadata": {
    "id": "ZOb9mtOTL3yE"
   },
   "outputs": [],
   "source": [
    "import pandas as pd\n",
    "import numpy as np\n",
    "import seaborn as sns\n",
    "import matplotlib.pyplot as plt\n",
    "from sklearn.impute import SimpleImputer\n",
    "from sklearn import preprocessing\n",
    "from scipy.stats import pearsonr\n",
    "from sklearn.decomposition import PCA\n",
    "from sklearn.preprocessing import StandardScaler"
   ]
  },
  {
   "cell_type": "markdown",
   "metadata": {
    "id": "suIWN5Au_Bvl"
   },
   "source": [
    "\n",
    "\n",
    "---\n",
    "\n",
    "\n",
    "### <font color = 'maroon'>Question 01 Solution: </font>\n",
    "\n",
    "\n",
    "---\n",
    "\n",
    "\n",
    "Using binning we can perform local smoothing on a sorted data, by consulting its neighbourhood.\n",
    "\n",
    "Convention: The data is assumed to be quantitative (numeric integer) </br>\n",
    "\n",
    "><b>Sales Data:</b> [2, 15, 20, 5, 1, 4, 7, 9, 10, 3, 14, 8]</br>\n",
    "<b>Sorted Sales Data:</b> [1, 2, 3, 4, 5, 7, 8, 9, 10, 14, 15, 20] </br>\n",
    "\n",
    "#### <font color = 'maroon'> 1. Equal-frequency binning:</br>\n",
    "The sorted data is partitioned into equal frequency bins. For this solution the bin size of \"3\" is considered. The bin size can be of anysize provided they are equally divided.\n",
    "\n",
    " ><b>Bucket 1:</b> 1, 2, 3\n",
    " </br><b>Bucket 2:</b> 4, 5, 7\n",
    " </br><b>Bucket 3:</b> 8, 9, 10\n",
    " </br><b>Bucket 4:</b> 14, 15, 20\n",
    "#### <font color = 'maroon'>2. Smoothing by bin means</br>\n",
    " The local mean is calculated for individual buckets and each value is replaced by the corresponding mean</br>\n",
    "\n",
    "Mean of \"Bucket 1\" data is $ \\frac {1+2+3}{3}$ = 2</br>\n",
    "Mean of \"Bucket 2\" data is $ \\frac {4+5+7}{3}$ = 5 (rounded 5.3)</br>\n",
    "Mean of \"Bucket 3\" data is $ \\frac {8+9+10}{3}$ = 9</br>\n",
    "Mean of \"Bucket 4\" data is $ \\frac {14+15+20}{3}$ = 16 (rounded 16.3)\n",
    " ><b>Bucket 1:</b> 2, 2, 2\n",
    " </br><b>Bucket 2:</b> 5, 5, 5\n",
    " </br><b>Bucket 3:</b> 9, 9, 9\n",
    " </br><b>Bucket 4:</b> 16, 16, 16\n",
    "\n",
    "#### <font color = 'maroon'>3. Smoothing by bin boundaries\n",
    " The minimum and maximum values are identified as the bin boundaries for individual buckets and each bin value is replaced by the closest boundary value.\n",
    "</br>\n",
    "\n",
    "The bin boundaries of \"Bucket 1\" are 1 and 3. Number 2 is equidistant from 1 and 3 </br>\n",
    "The bin boundaries of \"Bucket 2\" are 4 and 7. Number 5 is close to 4 </br>\n",
    "The bin boundaries of \"Bucket 3\" are 8 and 10. Number 9 is equidistant from 8 and 10 </br>\n",
    "The bin boundaries of \"Bucket 4\" are 14 and 20. Number 15 is close to 14\n",
    " ><b>Bucket 1:</b> 1, 1, 3\n",
    " </br><b>Bucket 2:</b> 4, 4, 7\n",
    " </br><b>Bucket 3:</b> 8, 8, 10\n",
    " </br><b>Bucket 4:</b> 14, 14, 20\n",
    "\n",
    "  \n",
    "  \n"
   ]
  },
  {
   "cell_type": "markdown",
   "metadata": {
    "id": "6yc5E9GmE8M2"
   },
   "source": [
    "\n",
    "\n",
    "---\n",
    "\n",
    "\n",
    "### <font color = 'maroon'>Question 02 Solution: </font>\n",
    "\n",
    "\n",
    "---\n",
    "\n",
    "\n",
    "<b>Data:</b> [10, 20, 35, 70, 100]\n",
    "\n",
    "#### <font color = 'maroon'>   1. min-max normalization with min=0 and max=1.\n",
    ">$v'_{i} = \\frac {v_{i} - min_{A}}{max_{A} - min_{A}}(newmax_{A} - newmin_{A})-newmin_{A}$ </br>\n",
    "\n",
    "Here,\n",
    "$ newmax_{A} $ = 1 and $ newmin_{A} $ = 0\n",
    "\n",
    "Therefore in the above equation becomes $v'_{i}$ = $\\frac {v_{i} - min_{A}}{max_{A} - min_{A}}$(1-0)-0  = $\\frac {v_{i} - min_{A}}{max_{A} - min_{A}}$ \n",
    "\n",
    ">$[v'_{1},v'_{2}, v'_{3}, v'_{4}, v'_{5}]$ = $[\\frac{10-10}{100-10},\\frac{20-10}{100-10}, \\frac{35-10}{100-10},\\frac{70-10}{100-10},\\frac{100-10}{100-10}]$ </br>\n",
    ">>>>$[v'_{1},v'_{2}, v'_{3}, v'_{4}, v'_{5}]$ = [0, 0.111, 0.278, 0.667, 1]\n",
    "\n",
    "\n",
    "#### <font color = 'maroon'>   2. z-score normalization\n",
    ">$v'_{i} = \\frac {v_{i} -  Ā }{σ_{A}}$, </br>\n",
    "where Ā and $σ_{A}$are the mean and standard deviation, respectively, of attribute A </br>\n",
    "\n",
    ">$Ā = \\frac{10+20+35+70+100}{5}$ = 47 </br>\n",
    "${σ_{A}}$ = $\\sqrt{\\frac{(10^2 + 20^2 + 35^2 + 70^2 + 100^2)}{5} - 47^2}$ = $\\sqrt{1116}$ = 33.407 \n",
    "\n",
    "> $[v'_{1},v'_{2}, v'_{3}, v'_{4}, v'_{5}]$ = $[\\frac{10-47}{33.407}, \\frac{20-47}{33.407}, \\frac{35-47}{33.407}, \\frac{70-47}{33.407},\\frac{100-47}{33.407}]$ </br>\n",
    ">>>>$[v'_{1},v'_{2}, v'_{3}, v'_{4}, v'_{5}]$ = [-1.108, -0.808, -0.359, 0.688, 1.586]\n",
    "\n",
    "#### <font color = 'maroon'>   3. normalization with decimal scaling.\n",
    ">$v'_{i} = \\frac {v_{i}}{10^j}$, </br>\n",
    "where j is the smallest integer such that $max(| v'_{i}|) < 1$\n",
    "\n",
    ">$[v'_{1},v'_{2}, v'_{3}, v'_{4}, v'_{5}]$ = $[\\frac{10}{1000}, \\frac{20}{1000}, \\frac{35}{1000}, \\frac{70}{1000},\\frac{100}{1000}]$</br>\n",
    ">>>>$[v'_{1},v'_{2}, v'_{3}, v'_{4}, v'_{5}]$ = [0.010, 0.020, 0.035, 0.070, 0.100]"
   ]
  },
  {
   "cell_type": "markdown",
   "metadata": {
    "id": "8P-7agSLFGuz"
   },
   "source": [
    "\n",
    "\n",
    "---\n",
    "\n",
    "\n",
    "### <font color = 'maroon'>Question 03 Solution: </font>  \n",
    "\n",
    "\n",
    "---\n",
    "\n",
    "\n",
    "<b> Data: </b>\n",
    "\n",
    "| Age  | 23  | 23  | 27  | 27  | 39  | 41  | 47  | 49  | 52  | 54  | 54  | 56  | 57  | 58  | 58  | 60  |\n",
    "|-|-|-|-|-|-|-|-|-|-|-|-|-|-|-|-|-|\n",
    "| BMI  | 16  | 19  | 18  | 21  | 24  | 23  | 26  | 25  | 24  | 26  | 23  | 26  | 27  | 31  | 26  | 27  |\n",
    "\n",
    "#### <font color = 'maroon'> Correlation Coefficient</font>\n",
    ">$r_{A,B}$=$\\frac{\\sum_{i=1}^n (a_{i}b_{i})-nμ_{A}μ_{B}}{nσ_{A}σ_{B}}$ </br>\n",
    "where n is the number of tuples, </br>\n",
    "$a_{i}$ and $b_{i}$ are the respective values of A and B in tuple i, </br>\n",
    "$μ_{A}$ and $μ_{B}$ are the respective mean values of A and B, </br>\n",
    "$σ_{A}$ and $σ_{B}$ are the respective standard deviations of A and B </br>\n",
    "$\\sum(a_{i}b_{i})$ is the sum of the AB cross-product (i.e., for each tuple, the value for A is multiplied by the value for B in that tuple)</br>\n",
    "Note -1 <= $r_{A,B}$ <= +1 </br>\n",
    "\n",
    ">$μ_{A}$ = $\\frac{23+23+27+27+39+41+47+49+52+54+54+56+57+58+58+60}{16}$ </br>\n",
    "$μ_{A}$ = $\\frac{725}{16}$ </br>\n",
    "$μ_{A}$ = 45.312 </br> \n",
    "\n",
    ">$σ_{A}$ = $\\sqrt{\\frac{(23^2+23^2+27^2+27^2+39^2+41^2+47^2+49^2+52^2+54^2+54^2+56^2+57^2+58^2+58^2+60^2)}{16} - 45.3^2}$ </br>\n",
    "$σ_{A}$ = $\\sqrt{\\frac{35577}{16} - 45.3^2} $ </br>\n",
    "$σ_{A}$ = 13.051\n",
    "\n",
    ">$μ_{B}$ = $\\frac{16+19+18+21+24+23+26+25+24+26+23+26+27+31+26+27}{16}$ </br>\n",
    "$μ_{B}$ = $\\frac{382}{16}$ </br>\n",
    "$μ_{B}$ = 23.875 </br>\n",
    "\n",
    ">$σ_{B}$ = \n",
    "$\\sqrt{\\frac{(16^2+19^2+18^2+21^2+24^2+23^2+26^2+25^2+24^2+26^2+23^2+26^2+27^2+31^2+26^2+27^2)}{16} - 23.9^2}$ </br>\n",
    "$σ_{B}$ = $\\sqrt{\\frac{9340}{16} - 23.9^2} $ </br>\n",
    "$σ_{B}$ = 3.710\n",
    "\n",
    ">$\\sum_{i=1}^n (a_{i}b_{i})$ = 368 + 437 + 486 + 567 + 936 + 943 + 1222 + 1225 + 1248 + 1404 + 1242 + 1456 + 1539 + 1798 + 1508 + 1620</br>\n",
    "$\\sum_{i=1}^n (a_{i}b_{i})$ = 17999\n",
    "\n",
    ">$r_{A,B}$ = $\\frac{17999 - 16 * 45.312 * 23.875}{16 * 13.051 * 3.710}$ </br>\n",
    ">>>>$r_{A,B}$ = 0.890  </br>\n",
    "Therefore there is a strong positive correlation between Age & BMI."
   ]
  },
  {
   "cell_type": "markdown",
   "metadata": {
    "id": "cJjGy5dvFMmp"
   },
   "source": [
    "\n",
    "\n",
    "---\n",
    "\n",
    "\n",
    "### <font color = 'maroon'>Question 04 Solution: </font> \n",
    "\n",
    "\n",
    "---\n",
    "\n",
    "\n",
    "<b>Significance level:</b> 0.001  </br> \n",
    "<b>Corresponding chi-square significance value:</b> 10.828. </br> \n",
    "<b>Data:</b>\n",
    "\n",
    "|Rating/Hospital |Hospital A |Hospital B |\n",
    "|--------------- |---------- |---------- |\n",
    "|Satisfied |71 |129 |\n",
    "|Dissatisfied |37 |73 |\n",
    "\n",
    "#### <font color = 'maroon'>chi-square</font> \n",
    ">$ X^2 $ = $\\sum_{i=1}^c\\sum_{j=1}^r \\frac{(o_{ij} - e_{ij})^2}{e_{ij}}$ </br>\n",
    "where $o_{ij}$ is the observed frequency, </br>\n",
    "$e_{ij}$ is the expected frequency, </br>\n",
    "n is number of data tuples\n",
    "\n",
    "><b> Expected Frequency: </b> </br>\n",
    "$ e_{ij}$ = $\\frac{count(A=a_{i}) * count(B=b_{i})}{n}$ </br>\n",
    "\n",
    "> <b> Count:</b> </br>\n",
    "Hospital A = 71 + 37 = 108 </br>\n",
    "Hospital B = 129 + 73 = 202 </br>\n",
    "Satisfied = 71 + 129 = 200 </br>\n",
    "Dissatisfied = 37 + 73 = 110 </br>\n",
    "n = (108 + 200) or (200 +110) = 310\n",
    "\n",
    ">$ e_{11}$ = $\\frac{count(Hospital A) * count(Satisfied)}{n}$ = $\\frac{108 * 200}{310}$ = 69.67 </br></br>\n",
    "$ e_{12}$ = $\\frac{count(Hospital A) * count(Dissatisfied)}{n}$ = $\\frac{108 * 110}{310}$ = 38.32 </br></br>\n",
    "$ e_{21}$ = $\\frac{count(Hospital B) * count(Satisfied))}{n}$ = $\\frac{202 * 200}{310}$ = 130.32 </br> </br>\n",
    "$ e_{22}$ = $\\frac{count(Hospital B) * count(Dissatisfied)}{n}$= $\\frac{202 * 110}{310}$ = 71.68 </br> </br>\n",
    "\n",
    "\n",
    "\n",
    "><b>2 x 2 Contigency Table Data:</b>\n",
    "\n",
    "|Rating/Hospital |Hospital A |Hospital B |Total |\n",
    "|--------------- |---------- |---------- |----- |\n",
    "|Satisfied |71 (69.67) |129 (130.32) |200 |\n",
    "|Dissatisfied |37 (38.32) |73 (71.68) |110 |\n",
    "|Total |108|202|310 |\n",
    "</br>\n",
    ">$ X^2 $ = $\\frac{(71-69.67)^2}{69.67}$ + $\\frac{(129-130.32)^2}{130.32}$ + $\\frac{(37 -38.32)^2}{38.32}$ + $\\frac{(73-71.68)^2}{71.68}$ </br>\n",
    "</br>\n",
    "$ X^2 $ = $\\frac{(1.33)^2}{69.67}$ + $\\frac{(-1.32)^2}{130.32}$ + $\\frac{(-1.32)^2}{38.32}$ + $\\frac{(-1.32)^2}{71.68}$ </br>\n",
    "</br>\n",
    "$ X^2 $ = $\\frac{1.7689}{69.67}$ + $\\frac{1.7424}{130.32}$ + $\\frac{1.7424}{38.32}$ + $\\frac{1.7424}{71.68}$ </br>\n",
    "</br>\n",
    "$ X^2 $ = 0.0253 + 0.0133 + 0.0454 + 0.0243 </br>\n",
    "</br>\n",
    ">>>>$ X^2 $ = 0.1083 </br>\n",
    "is within the range significance level mentioned (10.828) therefore correlated."
   ]
  },
  {
   "cell_type": "markdown",
   "metadata": {
    "id": "WxgK4htKFVAV"
   },
   "source": [
    "\n",
    "\n",
    "---\n",
    "\n",
    "\n",
    "### <font color = 'maroon'>Question 05 Solution </font> \n",
    "\n",
    "\n",
    "---\n",
    "\n"
   ]
  },
  {
   "cell_type": "markdown",
   "metadata": {
    "id": "iYA0TI4HivAU"
   },
   "source": [
    "#### <font color = 'maroon'> Data inspection and Data issues</font> \n"
   ]
  },
  {
   "cell_type": "markdown",
   "metadata": {
    "id": "5pRxY8gSi3I-"
   },
   "source": [
    "As part of Data inspection and identifying issues, \n",
    "the rows and columns are checked to identify </br> \n",
    "    a)  if there are unwanted columns(features) with respect to the intended us , </br>\n",
    "    b)  if there are missing values,</br>\n",
    "    c)  if duplicate tuples(records) are present and </br>\n",
    "    d)  if standard formats of values are there throughout individual features\n",
    "\n",
    "</br>\n",
    "<b>1. Initial View: </b>\n"
   ]
  },
  {
   "cell_type": "code",
   "execution_count": 132,
   "metadata": {
    "colab": {
     "base_uri": "https://localhost:8080/",
     "height": 546
    },
    "id": "KuPVRWnjamtg",
    "outputId": "dfbf2136-8eca-4ea2-a941-1c70db93e61d"
   },
   "outputs": [
    {
     "name": "stdout",
     "output_type": "stream",
     "text": [
      "There are total 15 fields and they are as follows:\n",
      "Identifier\n",
      "Edition Statement\n",
      "Place of Publication\n",
      "Date of Publication\n",
      "Publisher\n",
      "Title\n",
      "Author\n",
      "Contributors\n",
      "Corporate Author\n",
      "Corporate Contributors\n",
      "Former owner\n",
      "Engraver\n",
      "Issuance type\n",
      "Flickr URL\n",
      "Shelfmarks\n"
     ]
    },
    {
     "data": {
      "text/html": [
       "<div>\n",
       "<style scoped>\n",
       "    .dataframe tbody tr th:only-of-type {\n",
       "        vertical-align: middle;\n",
       "    }\n",
       "\n",
       "    .dataframe tbody tr th {\n",
       "        vertical-align: top;\n",
       "    }\n",
       "\n",
       "    .dataframe thead th {\n",
       "        text-align: right;\n",
       "    }\n",
       "</style>\n",
       "<table border=\"1\" class=\"dataframe\">\n",
       "  <thead>\n",
       "    <tr style=\"text-align: right;\">\n",
       "      <th></th>\n",
       "      <th>Identifier</th>\n",
       "      <th>Edition Statement</th>\n",
       "      <th>Place of Publication</th>\n",
       "      <th>Date of Publication</th>\n",
       "      <th>Publisher</th>\n",
       "      <th>Title</th>\n",
       "      <th>Author</th>\n",
       "      <th>Contributors</th>\n",
       "      <th>Corporate Author</th>\n",
       "      <th>Corporate Contributors</th>\n",
       "      <th>Former owner</th>\n",
       "      <th>Engraver</th>\n",
       "      <th>Issuance type</th>\n",
       "      <th>Flickr URL</th>\n",
       "      <th>Shelfmarks</th>\n",
       "    </tr>\n",
       "  </thead>\n",
       "  <tbody>\n",
       "    <tr>\n",
       "      <th>0</th>\n",
       "      <td>206</td>\n",
       "      <td>NaN</td>\n",
       "      <td>London</td>\n",
       "      <td>1879 [1878]</td>\n",
       "      <td>S. Tinsley &amp; Co.</td>\n",
       "      <td>Walter Forbes. [A novel.] By A. A</td>\n",
       "      <td>A. A.</td>\n",
       "      <td>FORBES, Walter.</td>\n",
       "      <td>NaN</td>\n",
       "      <td>NaN</td>\n",
       "      <td>NaN</td>\n",
       "      <td>NaN</td>\n",
       "      <td>monographic</td>\n",
       "      <td>http://www.flickr.com/photos/britishlibrary/ta...</td>\n",
       "      <td>British Library HMNTS 12641.b.30.</td>\n",
       "    </tr>\n",
       "    <tr>\n",
       "      <th>1</th>\n",
       "      <td>216</td>\n",
       "      <td>NaN</td>\n",
       "      <td>London; Virtue &amp; Yorston</td>\n",
       "      <td>1868</td>\n",
       "      <td>Virtue &amp; Co.</td>\n",
       "      <td>All for Greed. [A novel. The dedication signed...</td>\n",
       "      <td>A., A. A.</td>\n",
       "      <td>BLAZE DE BURY, Marie Pauline Rose - Baroness</td>\n",
       "      <td>NaN</td>\n",
       "      <td>NaN</td>\n",
       "      <td>NaN</td>\n",
       "      <td>NaN</td>\n",
       "      <td>monographic</td>\n",
       "      <td>http://www.flickr.com/photos/britishlibrary/ta...</td>\n",
       "      <td>British Library HMNTS 12626.cc.2.</td>\n",
       "    </tr>\n",
       "  </tbody>\n",
       "</table>\n",
       "</div>"
      ],
      "text/plain": [
       "   Identifier  ...                         Shelfmarks\n",
       "0         206  ...  British Library HMNTS 12641.b.30.\n",
       "1         216  ...  British Library HMNTS 12626.cc.2.\n",
       "\n",
       "[2 rows x 15 columns]"
      ]
     },
     "execution_count": 132,
     "metadata": {
      "tags": []
     },
     "output_type": "execute_result"
    }
   ],
   "source": [
    "library_db=pd.read_csv('BL-books.csv')\n",
    "incoming_fields = library_db.columns\n",
    "print(\"There are total\", len(incoming_fields), \"fields and they are as follows:\")\n",
    "for val in incoming_fields: \n",
    "  print(val)\n",
    "library_db.head(2)"
   ]
  },
  {
   "cell_type": "markdown",
   "metadata": {
    "id": "3JKA8kc-fTdN"
   },
   "source": [
    "<b> 2. Checking for Missing Values: </b>"
   ]
  },
  {
   "cell_type": "code",
   "execution_count": 133,
   "metadata": {
    "colab": {
     "base_uri": "https://localhost:8080/",
     "height": 286
    },
    "id": "CfR0aO2vfbp9",
    "outputId": "6cab366a-c0a9-421d-844d-67b48ec09813"
   },
   "outputs": [
    {
     "name": "stdout",
     "output_type": "stream",
     "text": [
      "The instances and attributes are (8287, 15)\n",
      "\tIdentifier: 0\n",
      "\tEdition Statement: 7514\n",
      "\tPlace of Publication: 0\n",
      "\tDate of Publication: 181\n",
      "\tPublisher: 4195\n",
      "\tTitle: 0\n",
      "\tAuthor: 1778\n",
      "\tContributors: 0\n",
      "\tCorporate Author: 8287\n",
      "\tCorporate Contributors: 8287\n",
      "\tFormer owner: 8286\n",
      "\tEngraver: 8287\n",
      "\tIssuance type: 0\n",
      "\tFlickr URL: 0\n",
      "\tShelfmarks: 0\n"
     ]
    }
   ],
   "source": [
    "print('The instances and attributes are', (library_db.shape))\n",
    "for col in library_db.columns:\n",
    "    print('\\t%s: %d' % (col,library_db[col].isna().sum()))"
   ]
  },
  {
   "cell_type": "markdown",
   "metadata": {
    "id": "S8ZCM6VDgCvy"
   },
   "source": [
    "<b> 3. Checking for Duplicate Data: </b>"
   ]
  },
  {
   "cell_type": "code",
   "execution_count": 134,
   "metadata": {
    "colab": {
     "base_uri": "https://localhost:8080/",
     "height": 34
    },
    "id": "kVBk_Ojb_Bu2",
    "outputId": "ed2d7dbf-2041-4d7b-c1d3-9c2e1c57fdb2"
   },
   "outputs": [
    {
     "name": "stdout",
     "output_type": "stream",
     "text": [
      "Number of duplicate rows = 0\n"
     ]
    }
   ],
   "source": [
    "dups = library_db.duplicated()\n",
    "print('Number of duplicate rows = %d' % (dups.sum()))"
   ]
  },
  {
   "cell_type": "markdown",
   "metadata": {
    "id": "tNfdzK4UYf5M"
   },
   "source": [
    "#### <font color = 'maroon'> Fields Removal </font>"
   ]
  },
  {
   "cell_type": "code",
   "execution_count": 135,
   "metadata": {
    "colab": {
     "base_uri": "https://localhost:8080/",
     "height": 258
    },
    "id": "H0tKP0KmZxq5",
    "outputId": "c84b0bfb-2a4f-4453-8f98-a14cfa6c07dc"
   },
   "outputs": [
    {
     "name": "stdout",
     "output_type": "stream",
     "text": [
      "The instances and attributes before removing columns (8287, 15) \n",
      "\n",
      "Columns 'Corporate Author', 'Corporate Contributors', 'Issuance type', 'Former owner', 'Shelfmarks','Engraver' are Removed \n",
      "\n",
      "The instances and attributes after removing columns (8287, 9) \n",
      "\n"
     ]
    },
    {
     "data": {
      "text/html": [
       "<div>\n",
       "<style scoped>\n",
       "    .dataframe tbody tr th:only-of-type {\n",
       "        vertical-align: middle;\n",
       "    }\n",
       "\n",
       "    .dataframe tbody tr th {\n",
       "        vertical-align: top;\n",
       "    }\n",
       "\n",
       "    .dataframe thead th {\n",
       "        text-align: right;\n",
       "    }\n",
       "</style>\n",
       "<table border=\"1\" class=\"dataframe\">\n",
       "  <thead>\n",
       "    <tr style=\"text-align: right;\">\n",
       "      <th></th>\n",
       "      <th>Identifier</th>\n",
       "      <th>Edition Statement</th>\n",
       "      <th>Place of Publication</th>\n",
       "      <th>Date of Publication</th>\n",
       "      <th>Publisher</th>\n",
       "      <th>Title</th>\n",
       "      <th>Author</th>\n",
       "      <th>Contributors</th>\n",
       "      <th>Flickr URL</th>\n",
       "    </tr>\n",
       "  </thead>\n",
       "  <tbody>\n",
       "    <tr>\n",
       "      <th>0</th>\n",
       "      <td>206</td>\n",
       "      <td>NaN</td>\n",
       "      <td>London</td>\n",
       "      <td>1879 [1878]</td>\n",
       "      <td>S. Tinsley &amp; Co.</td>\n",
       "      <td>Walter Forbes. [A novel.] By A. A</td>\n",
       "      <td>A. A.</td>\n",
       "      <td>FORBES, Walter.</td>\n",
       "      <td>http://www.flickr.com/photos/britishlibrary/ta...</td>\n",
       "    </tr>\n",
       "    <tr>\n",
       "      <th>1</th>\n",
       "      <td>216</td>\n",
       "      <td>NaN</td>\n",
       "      <td>London; Virtue &amp; Yorston</td>\n",
       "      <td>1868</td>\n",
       "      <td>Virtue &amp; Co.</td>\n",
       "      <td>All for Greed. [A novel. The dedication signed...</td>\n",
       "      <td>A., A. A.</td>\n",
       "      <td>BLAZE DE BURY, Marie Pauline Rose - Baroness</td>\n",
       "      <td>http://www.flickr.com/photos/britishlibrary/ta...</td>\n",
       "    </tr>\n",
       "  </tbody>\n",
       "</table>\n",
       "</div>"
      ],
      "text/plain": [
       "   Identifier  ...                                         Flickr URL\n",
       "0         206  ...  http://www.flickr.com/photos/britishlibrary/ta...\n",
       "1         216  ...  http://www.flickr.com/photos/britishlibrary/ta...\n",
       "\n",
       "[2 rows x 9 columns]"
      ]
     },
     "execution_count": 135,
     "metadata": {
      "tags": []
     },
     "output_type": "execute_result"
    }
   ],
   "source": [
    "print('The instances and attributes before removing columns', (library_db.shape), '\\n')\n",
    "library_db=library_db.drop(['Corporate Author', 'Corporate Contributors', 'Issuance type', 'Former owner', 'Shelfmarks','Engraver'],axis=1)\n",
    "print(\"Columns 'Corporate Author', 'Corporate Contributors', 'Issuance type', 'Former owner', 'Shelfmarks','Engraver' are Removed\", '\\n')\n",
    "print('The instances and attributes after removing columns', (library_db.shape), '\\n')\n",
    "library_db.head(2)"
   ]
  },
  {
   "cell_type": "markdown",
   "metadata": {
    "id": "PpmVFI3dYZ0q"
   },
   "source": [
    "#### <font color = 'maroon'> Cleaning Data in \"Date of Publication\":</font>"
   ]
  },
  {
   "cell_type": "code",
   "execution_count": 136,
   "metadata": {
    "colab": {
     "base_uri": "https://localhost:8080/",
     "height": 202
    },
    "id": "0YV71a8QymP1",
    "outputId": "2691a572-cf5b-40b8-cdb1-864e9d50df04"
   },
   "outputs": [
    {
     "data": {
      "text/plain": [
       "2118               1869\n",
       "2119               1872\n",
       "2120    1850 [1849, 50]\n",
       "2121     1848 [1846-48]\n",
       "2122               1869\n",
       "2123            [1895.]\n",
       "2124               1886\n",
       "2125               1882\n",
       "2126               1884\n",
       "2127            [1895.]\n",
       "Name: Date of Publication, dtype: object"
      ]
     },
     "execution_count": 136,
     "metadata": {
      "tags": []
     },
     "output_type": "execute_result"
    }
   ],
   "source": [
    "library_db.loc[2118:, 'Date of Publication'].head(10)"
   ]
  },
  {
   "cell_type": "code",
   "execution_count": 137,
   "metadata": {
    "colab": {
     "base_uri": "https://localhost:8080/",
     "height": 202
    },
    "id": "mi_CJsu2G33S",
    "outputId": "39721376-99b6-4a1b-8393-104b110bdc41"
   },
   "outputs": [
    {
     "data": {
      "text/plain": [
       "2118    1869\n",
       "2119    1872\n",
       "2120    1850\n",
       "2121    1848\n",
       "2122    1869\n",
       "2123     NaN\n",
       "2124    1886\n",
       "2125    1882\n",
       "2126    1884\n",
       "2127     NaN\n",
       "Name: Date of Publication, dtype: object"
      ]
     },
     "execution_count": 137,
     "metadata": {
      "tags": []
     },
     "output_type": "execute_result"
    }
   ],
   "source": [
    "extra_date = library_db['Date of Publication'].str.extract(r'^(\\d{4})', expand=False)\n",
    "library_db.update(extra_date)\n",
    "library_db['Date of Publication'] = pd.to_numeric(extra_date)\n",
    "library_db.update(extra_date)\n",
    "library_db.loc[2118:, 'Date of Publication'].head(10)"
   ]
  },
  {
   "cell_type": "markdown",
   "metadata": {
    "id": "WeFiSs_-Fdql"
   },
   "source": [
    "\n",
    "\n",
    "---\n",
    "\n",
    "\n",
    "### <font color = 'maroon'>Question 06 Solution</font> \n",
    "\n",
    "\n",
    "---\n",
    "\n",
    "\n",
    "\n",
    "\n",
    "\n"
   ]
  },
  {
   "cell_type": "markdown",
   "metadata": {
    "id": "sZHsd4RmZgu1"
   },
   "source": [
    "<b>Initial View:</b>"
   ]
  },
  {
   "cell_type": "code",
   "execution_count": 138,
   "metadata": {
    "colab": {
     "base_uri": "https://localhost:8080/",
     "height": 461
    },
    "id": "TetbNTBK4g6Y",
    "outputId": "abc315b1-e562-4d2e-a816-288260ba3106"
   },
   "outputs": [
    {
     "name": "stdout",
     "output_type": "stream",
     "text": [
      "Number of instances = 10\n",
      "Number of attributes = 4\n",
      "Number of missing values:\n",
      "\tRegion: 0\n",
      "\tAge: 1\n",
      "\tIncome: 1\n",
      "\tOnline Shopper: 0\n"
     ]
    },
    {
     "data": {
      "text/html": [
       "<div>\n",
       "<style scoped>\n",
       "    .dataframe tbody tr th:only-of-type {\n",
       "        vertical-align: middle;\n",
       "    }\n",
       "\n",
       "    .dataframe tbody tr th {\n",
       "        vertical-align: top;\n",
       "    }\n",
       "\n",
       "    .dataframe thead th {\n",
       "        text-align: right;\n",
       "    }\n",
       "</style>\n",
       "<table border=\"1\" class=\"dataframe\">\n",
       "  <thead>\n",
       "    <tr style=\"text-align: right;\">\n",
       "      <th></th>\n",
       "      <th>Region</th>\n",
       "      <th>Age</th>\n",
       "      <th>Income</th>\n",
       "      <th>Online Shopper</th>\n",
       "    </tr>\n",
       "  </thead>\n",
       "  <tbody>\n",
       "    <tr>\n",
       "      <th>0</th>\n",
       "      <td>India</td>\n",
       "      <td>49.0</td>\n",
       "      <td>86400.0</td>\n",
       "      <td>No</td>\n",
       "    </tr>\n",
       "    <tr>\n",
       "      <th>1</th>\n",
       "      <td>Brazil</td>\n",
       "      <td>32.0</td>\n",
       "      <td>57600.0</td>\n",
       "      <td>Yes</td>\n",
       "    </tr>\n",
       "    <tr>\n",
       "      <th>2</th>\n",
       "      <td>USA</td>\n",
       "      <td>35.0</td>\n",
       "      <td>64800.0</td>\n",
       "      <td>No</td>\n",
       "    </tr>\n",
       "    <tr>\n",
       "      <th>3</th>\n",
       "      <td>Brazil</td>\n",
       "      <td>43.0</td>\n",
       "      <td>73200.0</td>\n",
       "      <td>No</td>\n",
       "    </tr>\n",
       "    <tr>\n",
       "      <th>4</th>\n",
       "      <td>USA</td>\n",
       "      <td>45.0</td>\n",
       "      <td>NaN</td>\n",
       "      <td>Yes</td>\n",
       "    </tr>\n",
       "    <tr>\n",
       "      <th>5</th>\n",
       "      <td>India</td>\n",
       "      <td>40.0</td>\n",
       "      <td>69600.0</td>\n",
       "      <td>Yes</td>\n",
       "    </tr>\n",
       "    <tr>\n",
       "      <th>6</th>\n",
       "      <td>Brazil</td>\n",
       "      <td>NaN</td>\n",
       "      <td>62400.0</td>\n",
       "      <td>No</td>\n",
       "    </tr>\n",
       "    <tr>\n",
       "      <th>7</th>\n",
       "      <td>India</td>\n",
       "      <td>53.0</td>\n",
       "      <td>94800.0</td>\n",
       "      <td>Yes</td>\n",
       "    </tr>\n",
       "    <tr>\n",
       "      <th>8</th>\n",
       "      <td>USA</td>\n",
       "      <td>55.0</td>\n",
       "      <td>99600.0</td>\n",
       "      <td>No</td>\n",
       "    </tr>\n",
       "    <tr>\n",
       "      <th>9</th>\n",
       "      <td>India</td>\n",
       "      <td>42.0</td>\n",
       "      <td>80400.0</td>\n",
       "      <td>Yes</td>\n",
       "    </tr>\n",
       "  </tbody>\n",
       "</table>\n",
       "</div>"
      ],
      "text/plain": [
       "   Region   Age   Income Online Shopper\n",
       "0   India  49.0  86400.0             No\n",
       "1  Brazil  32.0  57600.0            Yes\n",
       "2     USA  35.0  64800.0             No\n",
       "3  Brazil  43.0  73200.0             No\n",
       "4     USA  45.0      NaN            Yes\n",
       "5   India  40.0  69600.0            Yes\n",
       "6  Brazil   NaN  62400.0             No\n",
       "7   India  53.0  94800.0            Yes\n",
       "8     USA  55.0  99600.0             No\n",
       "9   India  42.0  80400.0            Yes"
      ]
     },
     "execution_count": 138,
     "metadata": {
      "tags": []
     },
     "output_type": "execute_result"
    }
   ],
   "source": [
    "c_income=pd.read_csv('country-income.csv')\n",
    "\n",
    "print('Number of instances = %d' % (c_income.shape[0]))\n",
    "print('Number of attributes = %d' % (c_income.shape[1]))\n",
    "print('Number of missing values:')\n",
    "\n",
    "for col in c_income.columns:\n",
    "    print('\\t%s: %d' % (col,c_income[col].isna().sum()))\n",
    "\n",
    "c_income.head(len(c_income))"
   ]
  },
  {
   "cell_type": "markdown",
   "metadata": {
    "id": "4NlJDHeDIlzd"
   },
   "source": [
    "#### <font color = 'maroon'> Replacing NaN with mean:"
   ]
  },
  {
   "cell_type": "markdown",
   "metadata": {
    "id": "7KTKOxkTZpyW"
   },
   "source": [
    "Used the object of <b>sklearn.impute.SimpleImputer()</b> and identified the Nan using <b>missing_values=np.nan</b> and replaced with mean using <b>strategy = 'mean'</b> . </br>\n",
    "\n",
    "Age and Income columns (both containing NaN) are updated using this code.</br>\n",
    "\n",
    "The type of Age and Int are converted using <b>astype(int).</b>"
   ]
  },
  {
   "cell_type": "code",
   "execution_count": 139,
   "metadata": {
    "colab": {
     "base_uri": "https://localhost:8080/",
     "height": 343
    },
    "id": "FwN6hS6f8mg8",
    "outputId": "7fadc234-bd31-4de3-8a28-9285e3ab2142"
   },
   "outputs": [
    {
     "data": {
      "text/html": [
       "<div>\n",
       "<style scoped>\n",
       "    .dataframe tbody tr th:only-of-type {\n",
       "        vertical-align: middle;\n",
       "    }\n",
       "\n",
       "    .dataframe tbody tr th {\n",
       "        vertical-align: top;\n",
       "    }\n",
       "\n",
       "    .dataframe thead th {\n",
       "        text-align: right;\n",
       "    }\n",
       "</style>\n",
       "<table border=\"1\" class=\"dataframe\">\n",
       "  <thead>\n",
       "    <tr style=\"text-align: right;\">\n",
       "      <th></th>\n",
       "      <th>Region</th>\n",
       "      <th>Age</th>\n",
       "      <th>Income</th>\n",
       "      <th>Online Shopper</th>\n",
       "    </tr>\n",
       "  </thead>\n",
       "  <tbody>\n",
       "    <tr>\n",
       "      <th>0</th>\n",
       "      <td>India</td>\n",
       "      <td>49</td>\n",
       "      <td>86400</td>\n",
       "      <td>No</td>\n",
       "    </tr>\n",
       "    <tr>\n",
       "      <th>1</th>\n",
       "      <td>Brazil</td>\n",
       "      <td>32</td>\n",
       "      <td>57600</td>\n",
       "      <td>Yes</td>\n",
       "    </tr>\n",
       "    <tr>\n",
       "      <th>2</th>\n",
       "      <td>USA</td>\n",
       "      <td>35</td>\n",
       "      <td>64800</td>\n",
       "      <td>No</td>\n",
       "    </tr>\n",
       "    <tr>\n",
       "      <th>3</th>\n",
       "      <td>Brazil</td>\n",
       "      <td>43</td>\n",
       "      <td>73200</td>\n",
       "      <td>No</td>\n",
       "    </tr>\n",
       "    <tr>\n",
       "      <th>4</th>\n",
       "      <td>USA</td>\n",
       "      <td>45</td>\n",
       "      <td>76533</td>\n",
       "      <td>Yes</td>\n",
       "    </tr>\n",
       "    <tr>\n",
       "      <th>5</th>\n",
       "      <td>India</td>\n",
       "      <td>40</td>\n",
       "      <td>69600</td>\n",
       "      <td>Yes</td>\n",
       "    </tr>\n",
       "    <tr>\n",
       "      <th>6</th>\n",
       "      <td>Brazil</td>\n",
       "      <td>43</td>\n",
       "      <td>62400</td>\n",
       "      <td>No</td>\n",
       "    </tr>\n",
       "    <tr>\n",
       "      <th>7</th>\n",
       "      <td>India</td>\n",
       "      <td>53</td>\n",
       "      <td>94800</td>\n",
       "      <td>Yes</td>\n",
       "    </tr>\n",
       "    <tr>\n",
       "      <th>8</th>\n",
       "      <td>USA</td>\n",
       "      <td>55</td>\n",
       "      <td>99600</td>\n",
       "      <td>No</td>\n",
       "    </tr>\n",
       "    <tr>\n",
       "      <th>9</th>\n",
       "      <td>India</td>\n",
       "      <td>42</td>\n",
       "      <td>80400</td>\n",
       "      <td>Yes</td>\n",
       "    </tr>\n",
       "  </tbody>\n",
       "</table>\n",
       "</div>"
      ],
      "text/plain": [
       "   Region  Age  Income Online Shopper\n",
       "0   India   49   86400             No\n",
       "1  Brazil   32   57600            Yes\n",
       "2     USA   35   64800             No\n",
       "3  Brazil   43   73200             No\n",
       "4     USA   45   76533            Yes\n",
       "5   India   40   69600            Yes\n",
       "6  Brazil   43   62400             No\n",
       "7   India   53   94800            Yes\n",
       "8     USA   55   99600             No\n",
       "9   India   42   80400            Yes"
      ]
     },
     "execution_count": 139,
     "metadata": {
      "tags": []
     },
     "output_type": "execute_result"
    }
   ],
   "source": [
    "imp = SimpleImputer(missing_values=np.nan, strategy='mean')\n",
    "\n",
    "c_income['Age']= imp.fit_transform(c_income['Age'].values.reshape(-1,1))\n",
    "c_income['Income'] = imp.fit_transform(c_income['Income'].values.reshape(-1,1))\n",
    "\n",
    "c_income['Age'] = c_income['Age'].astype(int)\n",
    "c_income['Income'] = c_income['Income'].astype(int)\n",
    "\n",
    "c_income.head(len(c_income))"
   ]
  },
  {
   "cell_type": "markdown",
   "metadata": {
    "id": "dP7j-842JBT1"
   },
   "source": [
    "#### <font color = 'maroon'> Replacing categorical labels with numerical labels"
   ]
  },
  {
   "cell_type": "markdown",
   "metadata": {
    "id": "UCEKZ-bBbQsx"
   },
   "source": [
    "Used the object of <b>sklearn.preprocessing.LabelEncoder()</b> and converted the categorical data in \"Region\" and \"Online Shopper\" columns to numerical labels"
   ]
  },
  {
   "cell_type": "code",
   "execution_count": 140,
   "metadata": {
    "colab": {
     "base_uri": "https://localhost:8080/",
     "height": 343
    },
    "id": "SQUD9a_3HDmh",
    "outputId": "b1300433-e69c-4a30-f6c1-5891c396facf"
   },
   "outputs": [
    {
     "data": {
      "text/html": [
       "<div>\n",
       "<style scoped>\n",
       "    .dataframe tbody tr th:only-of-type {\n",
       "        vertical-align: middle;\n",
       "    }\n",
       "\n",
       "    .dataframe tbody tr th {\n",
       "        vertical-align: top;\n",
       "    }\n",
       "\n",
       "    .dataframe thead th {\n",
       "        text-align: right;\n",
       "    }\n",
       "</style>\n",
       "<table border=\"1\" class=\"dataframe\">\n",
       "  <thead>\n",
       "    <tr style=\"text-align: right;\">\n",
       "      <th></th>\n",
       "      <th>Region</th>\n",
       "      <th>Age</th>\n",
       "      <th>Income</th>\n",
       "      <th>Online Shopper</th>\n",
       "    </tr>\n",
       "  </thead>\n",
       "  <tbody>\n",
       "    <tr>\n",
       "      <th>0</th>\n",
       "      <td>1</td>\n",
       "      <td>49</td>\n",
       "      <td>86400</td>\n",
       "      <td>0</td>\n",
       "    </tr>\n",
       "    <tr>\n",
       "      <th>1</th>\n",
       "      <td>0</td>\n",
       "      <td>32</td>\n",
       "      <td>57600</td>\n",
       "      <td>1</td>\n",
       "    </tr>\n",
       "    <tr>\n",
       "      <th>2</th>\n",
       "      <td>2</td>\n",
       "      <td>35</td>\n",
       "      <td>64800</td>\n",
       "      <td>0</td>\n",
       "    </tr>\n",
       "    <tr>\n",
       "      <th>3</th>\n",
       "      <td>0</td>\n",
       "      <td>43</td>\n",
       "      <td>73200</td>\n",
       "      <td>0</td>\n",
       "    </tr>\n",
       "    <tr>\n",
       "      <th>4</th>\n",
       "      <td>2</td>\n",
       "      <td>45</td>\n",
       "      <td>76533</td>\n",
       "      <td>1</td>\n",
       "    </tr>\n",
       "    <tr>\n",
       "      <th>5</th>\n",
       "      <td>1</td>\n",
       "      <td>40</td>\n",
       "      <td>69600</td>\n",
       "      <td>1</td>\n",
       "    </tr>\n",
       "    <tr>\n",
       "      <th>6</th>\n",
       "      <td>0</td>\n",
       "      <td>43</td>\n",
       "      <td>62400</td>\n",
       "      <td>0</td>\n",
       "    </tr>\n",
       "    <tr>\n",
       "      <th>7</th>\n",
       "      <td>1</td>\n",
       "      <td>53</td>\n",
       "      <td>94800</td>\n",
       "      <td>1</td>\n",
       "    </tr>\n",
       "    <tr>\n",
       "      <th>8</th>\n",
       "      <td>2</td>\n",
       "      <td>55</td>\n",
       "      <td>99600</td>\n",
       "      <td>0</td>\n",
       "    </tr>\n",
       "    <tr>\n",
       "      <th>9</th>\n",
       "      <td>1</td>\n",
       "      <td>42</td>\n",
       "      <td>80400</td>\n",
       "      <td>1</td>\n",
       "    </tr>\n",
       "  </tbody>\n",
       "</table>\n",
       "</div>"
      ],
      "text/plain": [
       "   Region  Age  Income  Online Shopper\n",
       "0       1   49   86400               0\n",
       "1       0   32   57600               1\n",
       "2       2   35   64800               0\n",
       "3       0   43   73200               0\n",
       "4       2   45   76533               1\n",
       "5       1   40   69600               1\n",
       "6       0   43   62400               0\n",
       "7       1   53   94800               1\n",
       "8       2   55   99600               0\n",
       "9       1   42   80400               1"
      ]
     },
     "execution_count": 140,
     "metadata": {
      "tags": []
     },
     "output_type": "execute_result"
    }
   ],
   "source": [
    "label_encoder = preprocessing.LabelEncoder()\n",
    "c_income['Region']= label_encoder.fit_transform(c_income['Region'])\n",
    "c_income['Online Shopper']= label_encoder.fit_transform(c_income['Online Shopper'])\n",
    "c_income.head(len(c_income))"
   ]
  },
  {
   "cell_type": "markdown",
   "metadata": {
    "id": "i8AIc1lcFfrg"
   },
   "source": [
    "\n",
    "\n",
    "---\n",
    "\n",
    "\n",
    "### <font color = 'maroon'>Question 07 Solution: </font>  \n",
    "\n",
    "---\n",
    "\n"
   ]
  },
  {
   "cell_type": "markdown",
   "metadata": {
    "id": "z2hS9Bv6cSuw"
   },
   "source": [
    "<b> Initial View:</b>"
   ]
  },
  {
   "cell_type": "code",
   "execution_count": 141,
   "metadata": {
    "colab": {
     "base_uri": "https://localhost:8080/",
     "height": 279
    },
    "id": "QF04529n8jWq",
    "outputId": "1883256a-b693-4ba8-aa0a-9e2468074cfe"
   },
   "outputs": [
    {
     "data": {
      "image/png": "[encoded data removed]",
      "text/plain": [
       "<Figure size 432x288 with 1 Axes>"
      ]
     },
     "metadata": {
      "tags": []
     },
     "output_type": "display_data"
    }
   ],
   "source": [
    "shoe_db = pd.read_csv('shoesize.csv')\n",
    "g =sns.scatterplot(x=\"Size\", y=\"Height\",\n",
    "                   hue=\"Gender\",\n",
    "                   data=shoe_db,\n",
    "                   palette=['green','blue'], legend='full');"
   ]
  },
  {
   "cell_type": "markdown",
   "metadata": {
    "id": "1-kDb6x-EuiR"
   },
   "source": [
    "#### <font color = 'maroon'> Scatterplot \"shoe size\" versus \"height\"\n",
    "The records are grouped and separated based on the gender for further plotting and calculation"
   ]
  },
  {
   "cell_type": "code",
   "execution_count": 142,
   "metadata": {
    "colab": {
     "base_uri": "https://localhost:8080/",
     "height": 487
    },
    "id": "kJ9CTki2Hyw1",
    "outputId": "839b7b0e-8969-44aa-965e-f7a8bd35033c"
   },
   "outputs": [
    {
     "name": "stdout",
     "output_type": "stream",
     "text": [
      "     Index Gender  Size  Height\n",
      "187    188      M  10.5    63.0\n",
      "188    189      M   9.0    63.0\n",
      "189    190      M   7.5    64.0\n",
      "190    191      M   8.0    64.0\n",
      "191    192      M  10.0    64.0\n",
      "..     ...    ...   ...     ...\n",
      "403    404      M  13.0    78.0\n",
      "404    405      M  13.0    78.0\n",
      "405    406      M  14.0    78.0\n",
      "406    407      M  15.0    80.0\n",
      "407    408      M  15.0    81.0\n",
      "\n",
      "[221 rows x 4 columns]\n",
      "     Index Gender  Size  Height\n",
      "0        1      F   5.5    60.0\n",
      "1        2      F   6.0    60.0\n",
      "2        3      F   7.0    60.0\n",
      "3        4      F   8.0    60.0\n",
      "4        5      F   8.0    60.0\n",
      "..     ...    ...   ...     ...\n",
      "182    183      F  10.0    72.0\n",
      "183    184      F  11.0    72.0\n",
      "184    185      F  11.0    72.0\n",
      "185    186      F  10.0    74.0\n",
      "186    187      F  11.0    74.0\n",
      "\n",
      "[187 rows x 4 columns]\n"
     ]
    }
   ],
   "source": [
    "grouping = shoe_db.groupby(shoe_db.Gender)\n",
    "M = grouping.get_group(\"M\")\n",
    "print(M)\n",
    "F = grouping.get_group(\"F\")\n",
    "print(F)"
   ]
  },
  {
   "cell_type": "markdown",
   "metadata": {
    "id": "m5ajW1DQF-Gs"
   },
   "source": [
    "<b> For Male: </b>"
   ]
  },
  {
   "cell_type": "code",
   "execution_count": 143,
   "metadata": {
    "colab": {
     "base_uri": "https://localhost:8080/",
     "height": 279
    },
    "id": "VSVyHxCn3yRO",
    "outputId": "542eb13f-f40c-404b-864c-4cd779e8d1b2"
   },
   "outputs": [
    {
     "data": {
      "image/png": "[encoded data removed]",
      "text/plain": [
       "<Figure size 432x288 with 1 Axes>"
      ]
     },
     "metadata": {
      "tags": []
     },
     "output_type": "display_data"
    }
   ],
   "source": [
    "x = M.iloc[:,2]\n",
    "y = M.iloc[:,3]\n",
    "plt.scatter(x,y)\n",
    "plt.xlabel('Size')\n",
    "plt.ylabel('Height')\n",
    "plt.show()"
   ]
  },
  {
   "cell_type": "markdown",
   "metadata": {
    "id": "g03XSpT_IafZ"
   },
   "source": [
    "<b> Pearson's correlation coefficient</b>"
   ]
  },
  {
   "cell_type": "code",
   "execution_count": 144,
   "metadata": {
    "colab": {
     "base_uri": "https://localhost:8080/",
     "height": 34
    },
    "id": "Yvs8Zx66309b",
    "outputId": "ffa9e114-206f-431f-f427-2221525be9e2"
   },
   "outputs": [
    {
     "name": "stdout",
     "output_type": "stream",
     "text": [
      "(0.7677093547300977, 3.2857111133112256e-44)\n"
     ]
    }
   ],
   "source": [
    "correlation = pearsonr(x,y)\n",
    "print(correlation)"
   ]
  },
  {
   "cell_type": "markdown",
   "metadata": {
    "id": "h6hrP5t1GDOK"
   },
   "source": [
    "<b> For Female: </b>"
   ]
  },
  {
   "cell_type": "code",
   "execution_count": 145,
   "metadata": {
    "colab": {
     "base_uri": "https://localhost:8080/",
     "height": 279
    },
    "id": "iEuotFLw32tI",
    "outputId": "90aa2f6a-8308-4cee-bd2c-6b91ea0152e5"
   },
   "outputs": [
    {
     "data": {
      "image/png": "[encoded data removed]",
      "text/plain": [
       "<Figure size 432x288 with 1 Axes>"
      ]
     },
     "metadata": {
      "tags": []
     },
     "output_type": "display_data"
    }
   ],
   "source": [
    "x = F.iloc[:,2]\n",
    "y = F.iloc[:,3]\n",
    "plt.scatter(x,y)\n",
    "plt.xlabel('Size')\n",
    "plt.ylabel('Height')\n",
    "plt.show()"
   ]
  },
  {
   "cell_type": "markdown",
   "metadata": {
    "id": "7z9SV9_xE2CM"
   },
   "source": [
    "<b> Pearson's correlation coefficient</b>"
   ]
  },
  {
   "cell_type": "code",
   "execution_count": 146,
   "metadata": {
    "colab": {
     "base_uri": "https://localhost:8080/",
     "height": 34
    },
    "id": "FyGPx9Jm35GM",
    "outputId": "11f57418-4a29-4536-8fe5-a8b5d60e4cd4"
   },
   "outputs": [
    {
     "name": "stdout",
     "output_type": "stream",
     "text": [
      "(0.7078119417143971, 9.773450790332586e-30)\n"
     ]
    }
   ],
   "source": [
    "correlation = pearsonr(x,y)\n",
    "print(correlation)"
   ]
  },
  {
   "cell_type": "markdown",
   "metadata": {
    "id": "R1GTa8wkfv1M"
   },
   "source": [
    "The Correlation Coefficient and scatter plot implied positive correlation"
   ]
  },
  {
   "cell_type": "markdown",
   "metadata": {
    "id": "dOjjhTACFho1"
   },
   "source": [
    "\n",
    "\n",
    "---\n",
    "\n",
    "\n",
    "### <font color = 'maroon'>Question 08</font>  \n",
    "\n",
    "\n",
    "---\n",
    "\n"
   ]
  },
  {
   "cell_type": "markdown",
   "metadata": {
    "id": "G_bgHtp22csi"
   },
   "source": [
    "#### <font color = 'maroon'>Data Cleaning and Normalization:</font>  "
   ]
  },
  {
   "cell_type": "markdown",
   "metadata": {
    "id": "ghRLP3N_3_J2"
   },
   "source": [
    "<b> Loading Data:</b>"
   ]
  },
  {
   "cell_type": "code",
   "execution_count": 147,
   "metadata": {
    "colab": {
     "base_uri": "https://localhost:8080/",
     "height": 0
    },
    "id": "7Tm7ZoH2JDM5",
    "outputId": "7d3b99ed-7360-4140-80c6-cea7a4c53ac8"
   },
   "outputs": [
    {
     "name": "stdout",
     "output_type": "stream",
     "text": [
      "Intially the instances and attributes are  (699, 11) \n",
      "\n",
      "The instances and attributes after dropping columns (699, 9) \n",
      "\n"
     ]
    }
   ],
   "source": [
    "bcancer_db = pd.read_csv('https://archive.ics.uci.edu/ml/machine-learning-databases/breast-cancer-wisconsin/breast-cancer-wisconsin.data', header=None)\n",
    "bcancer_db.columns = ['Sample code', 'Clump Thickness', 'Uniformity of Cell Size', 'Uniformity of Cell Shape',\n",
    "                'Marginal Adhesion', 'Single Epithelial Cell Size', 'Bare Nuclei', 'Bland Chromatin',\n",
    "                'Normal Nucleoli', 'Mitoses','Class']\n",
    "stored_class = bcancer_db['Class'] #Stored for PCA analysis later\n",
    "print('Intially the instances and attributes are ', (bcancer_db.shape), '\\n')  \n",
    "bcancer_db = bcancer_db.drop(['Sample code', 'Class'],axis=1)\n",
    "\n",
    "print('The instances and attributes after dropping columns', (bcancer_db.shape), '\\n')"
   ]
  },
  {
   "cell_type": "markdown",
   "metadata": {
    "id": "JRyHamOP5XEC"
   },
   "source": [
    "<b> Identifying Missing Data and Replacing it with median: </b>"
   ]
  },
  {
   "cell_type": "code",
   "execution_count": 148,
   "metadata": {
    "colab": {
     "base_uri": "https://localhost:8080/",
     "height": 0
    },
    "id": "XBGuNWht6Ji6",
    "outputId": "262c2bae-ba29-44c2-8092-aed65a67bedf"
   },
   "outputs": [
    {
     "name": "stdout",
     "output_type": "stream",
     "text": [
      "Number of missing values:\n",
      "\tClump Thickness: 0\n",
      "\tUniformity of Cell Size: 0\n",
      "\tUniformity of Cell Shape: 0\n",
      "\tMarginal Adhesion: 0\n",
      "\tSingle Epithelial Cell Size: 0\n",
      "\tBare Nuclei: 16\n",
      "\tBland Chromatin: 0\n",
      "\tNormal Nucleoli: 0\n",
      "\tMitoses: 0\n",
      "\n",
      " Number of missing values after replacement by median:\n",
      "\tClump Thickness: 0\n",
      "\tUniformity of Cell Size: 0\n",
      "\tUniformity of Cell Shape: 0\n",
      "\tMarginal Adhesion: 0\n",
      "\tSingle Epithelial Cell Size: 0\n",
      "\tBare Nuclei: 0\n",
      "\tBland Chromatin: 0\n",
      "\tNormal Nucleoli: 0\n",
      "\tMitoses: 0\n"
     ]
    }
   ],
   "source": [
    "print('Number of missing values:')\n",
    "bcancer_db = bcancer_db.replace('?',np.NaN)\n",
    "for col in bcancer_db.columns:\n",
    "    print('\\t%s: %d' % (col,bcancer_db[col].isna().sum()))\n",
    "\n",
    "imp = SimpleImputer(missing_values=np.nan, strategy='median')\n",
    "bcancer_db['Bare Nuclei']= imp.fit_transform(bcancer_db['Bare Nuclei'].values.reshape(-1,1))\n",
    "print('\\n Number of missing values after replacement by median:')\n",
    "for col in bcancer_db.columns:\n",
    "    print('\\t%s: %d' % (col,bcancer_db[col].isna().sum()))"
   ]
  },
  {
   "cell_type": "markdown",
   "metadata": {
    "id": "JZ4oe3pz7ioy"
   },
   "source": [
    "<b> Identifying Duplicates and removing them:"
   ]
  },
  {
   "cell_type": "code",
   "execution_count": 149,
   "metadata": {
    "colab": {
     "base_uri": "https://localhost:8080/",
     "height": 0
    },
    "id": "Iz1RaYmg5LUw",
    "outputId": "ac80766e-50ca-4ede-a913-0b5b87c3b701"
   },
   "outputs": [
    {
     "name": "stdout",
     "output_type": "stream",
     "text": [
      "\n",
      " Number of duplicate rows = 242\n",
      "\n",
      " Number of rows before discarding duplicates = 699\n",
      "\n",
      " Number of rows after discarding duplicates = 457\n"
     ]
    }
   ],
   "source": [
    "dups = bcancer_db.duplicated()\n",
    "print('\\n Number of duplicate rows = %d' % (dups.sum()))\n",
    "\n",
    "print('\\n Number of rows before discarding duplicates = %d' % (bcancer_db.shape[0]))\n",
    "bcancer_db = bcancer_db.drop_duplicates()\n",
    "print('\\n Number of rows after discarding duplicates = %d' % (bcancer_db.shape[0]))"
   ]
  },
  {
   "cell_type": "markdown",
   "metadata": {
    "id": "0FgblAm77yza"
   },
   "source": [
    "<b> Identifying outliers using Z-Score and dicarding them:</b>"
   ]
  },
  {
   "cell_type": "code",
   "execution_count": 150,
   "metadata": {
    "colab": {
     "base_uri": "https://localhost:8080/",
     "height": 0
    },
    "id": "MDyhM-4d72m1",
    "outputId": "7f1fdb3b-f9bb-4ad1-bbff-f374719cdf4e"
   },
   "outputs": [
    {
     "name": "stdout",
     "output_type": "stream",
     "text": [
      "\n",
      " The instances and attributes before discarding outliers (457, 9)\n",
      "\n",
      " The instances and attributes after discarding outliers (443, 9)\n"
     ]
    },
    {
     "data": {
      "text/html": [
       "<div>\n",
       "<style scoped>\n",
       "    .dataframe tbody tr th:only-of-type {\n",
       "        vertical-align: middle;\n",
       "    }\n",
       "\n",
       "    .dataframe tbody tr th {\n",
       "        vertical-align: top;\n",
       "    }\n",
       "\n",
       "    .dataframe thead th {\n",
       "        text-align: right;\n",
       "    }\n",
       "</style>\n",
       "<table border=\"1\" class=\"dataframe\">\n",
       "  <thead>\n",
       "    <tr style=\"text-align: right;\">\n",
       "      <th></th>\n",
       "      <th>Clump Thickness</th>\n",
       "      <th>Uniformity of Cell Size</th>\n",
       "      <th>Uniformity of Cell Shape</th>\n",
       "      <th>Marginal Adhesion</th>\n",
       "      <th>Single Epithelial Cell Size</th>\n",
       "      <th>Bare Nuclei</th>\n",
       "      <th>Bland Chromatin</th>\n",
       "      <th>Normal Nucleoli</th>\n",
       "      <th>Mitoses</th>\n",
       "    </tr>\n",
       "  </thead>\n",
       "  <tbody>\n",
       "    <tr>\n",
       "      <th>0</th>\n",
       "      <td>-0.128462</td>\n",
       "      <td>-0.992720</td>\n",
       "      <td>-1.049566</td>\n",
       "      <td>-0.863437</td>\n",
       "      <td>-0.762880</td>\n",
       "      <td>-0.964153</td>\n",
       "      <td>-0.452522</td>\n",
       "      <td>-0.837281</td>\n",
       "      <td>-0.436746</td>\n",
       "    </tr>\n",
       "    <tr>\n",
       "      <th>1</th>\n",
       "      <td>-0.128462</td>\n",
       "      <td>-0.066857</td>\n",
       "      <td>-0.088982</td>\n",
       "      <td>0.403307</td>\n",
       "      <td>1.278316</td>\n",
       "      <td>1.356245</td>\n",
       "      <td>-0.452522</td>\n",
       "      <td>-0.542491</td>\n",
       "      <td>-0.436746</td>\n",
       "    </tr>\n",
       "  </tbody>\n",
       "</table>\n",
       "</div>"
      ],
      "text/plain": [
       "   Clump Thickness  Uniformity of Cell Size  ...  Normal Nucleoli   Mitoses\n",
       "0        -0.128462                -0.992720  ...        -0.837281 -0.436746\n",
       "1        -0.128462                -0.066857  ...        -0.542491 -0.436746\n",
       "\n",
       "[2 rows x 9 columns]"
      ]
     },
     "execution_count": 150,
     "metadata": {
      "tags": []
     },
     "output_type": "execute_result"
    }
   ],
   "source": [
    "print('\\n The instances and attributes before discarding outliers', (bcancer_db.shape))\n",
    "bcancer_db = (bcancer_db-bcancer_db.mean())/bcancer_db.std()\n",
    "\n",
    "bcancer_db = bcancer_db.loc[((bcancer_db > -3).sum(axis=1)==9) & ((bcancer_db <= 3).sum(axis=1)==9),:]\n",
    "print('\\n The instances and attributes after discarding outliers', (bcancer_db.shape))\n",
    "bcancer_db.head(2)"
   ]
  },
  {
   "cell_type": "markdown",
   "metadata": {
    "id": "prWVFpNWMLL3"
   },
   "source": [
    "#### <font color = 'maroon'> Performing Principal Component Analysis with 2 components: </font>"
   ]
  },
  {
   "cell_type": "code",
   "execution_count": 151,
   "metadata": {
    "id": "Jb2ZOIn0OJM8"
   },
   "outputs": [],
   "source": [
    "pca = PCA(n_components=9)               \n",
    "ss = StandardScaler()                    \n",
    "projected = ss.fit_transform(bcancer_db)          \n",
    "projected = pd.DataFrame(projected, columns=bcancer_db.columns.to_list())  \n",
    "projected_pca = pca.fit_transform(projected) "
   ]
  },
  {
   "cell_type": "code",
   "execution_count": 152,
   "metadata": {
    "colab": {
     "base_uri": "https://localhost:8080/",
     "height": 0
    },
    "id": "FemA6TT19nBa",
    "outputId": "74d400d0-7565-4351-c47f-9259ac0a05ee"
   },
   "outputs": [
    {
     "data": {
      "text/html": [
       "<div>\n",
       "<style scoped>\n",
       "    .dataframe tbody tr th:only-of-type {\n",
       "        vertical-align: middle;\n",
       "    }\n",
       "\n",
       "    .dataframe tbody tr th {\n",
       "        vertical-align: top;\n",
       "    }\n",
       "\n",
       "    .dataframe thead th {\n",
       "        text-align: right;\n",
       "    }\n",
       "</style>\n",
       "<table border=\"1\" class=\"dataframe\">\n",
       "  <thead>\n",
       "    <tr style=\"text-align: right;\">\n",
       "      <th></th>\n",
       "      <th>Clump Thickness</th>\n",
       "      <th>Uniformity of Cell Size</th>\n",
       "      <th>Uniformity of Cell Shape</th>\n",
       "      <th>Marginal Adhesion</th>\n",
       "      <th>Single Epithelial Cell Size</th>\n",
       "      <th>Bare Nuclei</th>\n",
       "      <th>Bland Chromatin</th>\n",
       "      <th>Normal Nucleoli</th>\n",
       "      <th>Mitoses</th>\n",
       "    </tr>\n",
       "  </thead>\n",
       "  <tbody>\n",
       "    <tr>\n",
       "      <th>0</th>\n",
       "      <td>-0.097142</td>\n",
       "      <td>-0.971268</td>\n",
       "      <td>-1.03467</td>\n",
       "      <td>-0.851323</td>\n",
       "      <td>-0.744426</td>\n",
       "      <td>-0.951860</td>\n",
       "      <td>-0.435879</td>\n",
       "      <td>-0.815514</td>\n",
       "      <td>-0.431923</td>\n",
       "    </tr>\n",
       "    <tr>\n",
       "      <th>1</th>\n",
       "      <td>-0.097142</td>\n",
       "      <td>-0.024228</td>\n",
       "      <td>-0.05177</td>\n",
       "      <td>0.448026</td>\n",
       "      <td>1.402584</td>\n",
       "      <td>1.373548</td>\n",
       "      <td>-0.435879</td>\n",
       "      <td>-0.513447</td>\n",
       "      <td>-0.431923</td>\n",
       "    </tr>\n",
       "  </tbody>\n",
       "</table>\n",
       "</div>"
      ],
      "text/plain": [
       "   Clump Thickness  Uniformity of Cell Size  ...  Normal Nucleoli   Mitoses\n",
       "0        -0.097142                -0.971268  ...        -0.815514 -0.431923\n",
       "1        -0.097142                -0.024228  ...        -0.513447 -0.431923\n",
       "\n",
       "[2 rows x 9 columns]"
      ]
     },
     "execution_count": 152,
     "metadata": {
      "tags": []
     },
     "output_type": "execute_result"
    }
   ],
   "source": [
    "projected.head(2)"
   ]
  },
  {
   "cell_type": "code",
   "execution_count": 153,
   "metadata": {
    "colab": {
     "base_uri": "https://localhost:8080/",
     "height": 0
    },
    "id": "ddMZGmdV9_lf",
    "outputId": "88d60441-1ae1-4cfd-b675-cf99f66976bd"
   },
   "outputs": [
    {
     "data": {
      "text/plain": [
       "array([[-2.16846732, -0.12158147, -0.47287622,  0.03405651, -0.03622521,\n",
       "        -0.04705521,  0.04167663,  0.55026497,  0.00707622],\n",
       "       [ 0.59608059, -0.2863836 ,  0.50645093, -0.80868857,  1.46609028,\n",
       "         0.99543949,  0.19230702, -0.42634319,  0.0247669 ]])"
      ]
     },
     "execution_count": 153,
     "metadata": {
      "tags": []
     },
     "output_type": "execute_result"
    }
   ],
   "source": [
    "projected_pca[0:2]"
   ]
  },
  {
   "cell_type": "markdown",
   "metadata": {
    "id": "2TYtWJ1S-PVu"
   },
   "source": [
    "#### <font color = 'maroon'> Variance Ratio for each Component </font>"
   ]
  },
  {
   "cell_type": "code",
   "execution_count": 154,
   "metadata": {
    "colab": {
     "base_uri": "https://localhost:8080/",
     "height": 0
    },
    "id": "Tlv3kgKowZa9",
    "outputId": "71d8ba89-a8a7-4102-d108-359a55cc8eb7"
   },
   "outputs": [
    {
     "data": {
      "text/plain": [
       "array([0.58246822, 0.09344094, 0.0722572 , 0.06711402, 0.05442717,\n",
       "       0.04214928, 0.03986551, 0.03524998, 0.01302768])"
      ]
     },
     "execution_count": 154,
     "metadata": {
      "tags": []
     },
     "output_type": "execute_result"
    }
   ],
   "source": [
    "v_ratio = pca.explained_variance_ratio_     # Taking explained variance ratio\n",
    "v_ratio"
   ]
  },
  {
   "cell_type": "code",
   "execution_count": 155,
   "metadata": {
    "colab": {
     "base_uri": "https://localhost:8080/",
     "height": 0
    },
    "id": "btTGN_Ll1N9L",
    "outputId": "b82b0793-0bda-43fd-be25-a339e8ffbe40"
   },
   "outputs": [
    {
     "data": {
      "text/plain": [
       "array([0.58246822, 0.67590916, 0.74816636, 0.81528037, 0.86970755,\n",
       "       0.91185683, 0.95172234, 0.98697232, 1.        ])"
      ]
     },
     "execution_count": 155,
     "metadata": {
      "tags": []
     },
     "output_type": "execute_result"
    }
   ],
   "source": [
    "np.cumsum(v_ratio)"
   ]
  },
  {
   "cell_type": "markdown",
   "metadata": {
    "id": "qTGFYKx3_Rwh"
   },
   "source": [
    "#### <font color = 'maroon'> Plotting: </font>"
   ]
  },
  {
   "cell_type": "code",
   "execution_count": 156,
   "metadata": {
    "colab": {
     "base_uri": "https://localhost:8080/",
     "height": 0
    },
    "id": "Y1u7o3abtGUZ",
    "outputId": "49a6022a-1a87-4b95-e610-f49fce8260d3"
   },
   "outputs": [
    {
     "data": {
      "image/png": "[encoded data removed]",
      "text/plain": [
       "<Figure size 720x576 with 1 Axes>"
      ]
     },
     "metadata": {
      "tags": []
     },
     "output_type": "display_data"
    }
   ],
   "source": [
    "pca_data = pd.DataFrame(projected_pca[:,:2],columns=['PC1','PC2'])   # Taking the first two components and putting it on a dataframe.\n",
    "pca_data.head()\n",
    "plt.figure(figsize=(10,8))                                  # Plotting the components PC1 and PC2\n",
    "plt.title('Principal Component Analysis')\n",
    "\n",
    "g =sns.scatterplot(x=pca_data['PC1'], y=pca_data['PC2'],\n",
    "                   hue=stored_class,\n",
    "                   legend='full');\n",
    "\n",
    "plt.xlabel('Principle Component 1')\n",
    "plt.ylabel('Principle Component 2')\n",
    "plt.show()"
   ]
  },
  {
   "cell_type": "markdown",
   "metadata": {
    "id": "qV21ObJJIVL6"
   },
   "source": [
    "## <font color = 'maroon'>Lab 03: Data exploration and visualisation</font>  "
   ]
  },
  {
   "cell_type": "markdown",
   "metadata": {
    "id": "5AGNbrv1DdmV"
   },
   "source": [
    "### <font color = 'maroon'>Question 01: </font>  \n",
    "\n"
   ]
  },
  {
   "cell_type": "markdown",
   "metadata": {
    "id": "LLyPpgewcouo"
   },
   "source": [
    "The scatter plot and pairplot visualize the positive correlation that exist between ACT composite score and SAT total score"
   ]
  },
  {
   "cell_type": "markdown",
   "metadata": {
    "id": "EgFJTx6oJS4v"
   },
   "source": [
    "### <font color = 'maroon'>Question 02</font>  \n",
    "\n",
    "\n"
   ]
  },
  {
   "cell_type": "markdown",
   "metadata": {
    "id": "FI8lJdEDJTwk"
   },
   "source": [
    "### <font color = 'maroon'>Question 03</font>  \n",
    "\n",
    "\n"
   ]
  },
  {
   "cell_type": "markdown",
   "metadata": {
    "id": "2OdHsGjAJUjl"
   },
   "source": [
    "### <font color = 'maroon'>Question 04</font>  \n",
    "\n"
   ]
  },
  {
   "cell_type": "markdown",
   "metadata": {
    "id": "nFhJ3L-PJVVW"
   },
   "source": [
    "### <font color = 'maroon'>Question 05 </font>  \n",
    "\n"
   ]
  },
  {
   "cell_type": "markdown",
   "metadata": {
    "id": "-Dg_rvlkJWMo"
   },
   "source": [
    "### <font color = 'maroon'>Question 06</font>  \n",
    "\n",
    "The function ``load_wine`` from ``sklearn.datasets`` can be used to load the *wine dataset* into a ``DataFrame`` by using the commands ``data = load_wine()``, ``df = pd.DataFrame(data.data, columns=data.feature_names)``, and ``df['target'] = pd.Series(data.target)``. \n"
   ]
  },
  {
   "cell_type": "code",
   "execution_count": 157,
   "metadata": {
    "colab": {
     "base_uri": "https://localhost:8080/",
     "height": 422
    },
    "id": "uXHOAadZSJoR",
    "outputId": "898bb2ff-eec9-4eca-b35f-3bf90b08ab70"
   },
   "outputs": [
    {
     "data": {
      "text/html": [
       "<div>\n",
       "<style scoped>\n",
       "    .dataframe tbody tr th:only-of-type {\n",
       "        vertical-align: middle;\n",
       "    }\n",
       "\n",
       "    .dataframe tbody tr th {\n",
       "        vertical-align: top;\n",
       "    }\n",
       "\n",
       "    .dataframe thead th {\n",
       "        text-align: right;\n",
       "    }\n",
       "</style>\n",
       "<table border=\"1\" class=\"dataframe\">\n",
       "  <thead>\n",
       "    <tr style=\"text-align: right;\">\n",
       "      <th></th>\n",
       "      <th>alcohol</th>\n",
       "      <th>malic_acid</th>\n",
       "      <th>ash</th>\n",
       "      <th>alcalinity_of_ash</th>\n",
       "      <th>magnesium</th>\n",
       "      <th>total_phenols</th>\n",
       "      <th>flavanoids</th>\n",
       "      <th>nonflavanoid_phenols</th>\n",
       "      <th>proanthocyanins</th>\n",
       "      <th>color_intensity</th>\n",
       "      <th>hue</th>\n",
       "      <th>od280/od315_of_diluted_wines</th>\n",
       "      <th>proline</th>\n",
       "      <th>target</th>\n",
       "    </tr>\n",
       "  </thead>\n",
       "  <tbody>\n",
       "    <tr>\n",
       "      <th>0</th>\n",
       "      <td>14.23</td>\n",
       "      <td>1.71</td>\n",
       "      <td>2.43</td>\n",
       "      <td>15.6</td>\n",
       "      <td>127.0</td>\n",
       "      <td>2.80</td>\n",
       "      <td>3.06</td>\n",
       "      <td>0.28</td>\n",
       "      <td>2.29</td>\n",
       "      <td>5.64</td>\n",
       "      <td>1.04</td>\n",
       "      <td>3.92</td>\n",
       "      <td>1065.0</td>\n",
       "      <td>0</td>\n",
       "    </tr>\n",
       "    <tr>\n",
       "      <th>1</th>\n",
       "      <td>13.20</td>\n",
       "      <td>1.78</td>\n",
       "      <td>2.14</td>\n",
       "      <td>11.2</td>\n",
       "      <td>100.0</td>\n",
       "      <td>2.65</td>\n",
       "      <td>2.76</td>\n",
       "      <td>0.26</td>\n",
       "      <td>1.28</td>\n",
       "      <td>4.38</td>\n",
       "      <td>1.05</td>\n",
       "      <td>3.40</td>\n",
       "      <td>1050.0</td>\n",
       "      <td>0</td>\n",
       "    </tr>\n",
       "    <tr>\n",
       "      <th>2</th>\n",
       "      <td>13.16</td>\n",
       "      <td>2.36</td>\n",
       "      <td>2.67</td>\n",
       "      <td>18.6</td>\n",
       "      <td>101.0</td>\n",
       "      <td>2.80</td>\n",
       "      <td>3.24</td>\n",
       "      <td>0.30</td>\n",
       "      <td>2.81</td>\n",
       "      <td>5.68</td>\n",
       "      <td>1.03</td>\n",
       "      <td>3.17</td>\n",
       "      <td>1185.0</td>\n",
       "      <td>0</td>\n",
       "    </tr>\n",
       "    <tr>\n",
       "      <th>3</th>\n",
       "      <td>14.37</td>\n",
       "      <td>1.95</td>\n",
       "      <td>2.50</td>\n",
       "      <td>16.8</td>\n",
       "      <td>113.0</td>\n",
       "      <td>3.85</td>\n",
       "      <td>3.49</td>\n",
       "      <td>0.24</td>\n",
       "      <td>2.18</td>\n",
       "      <td>7.80</td>\n",
       "      <td>0.86</td>\n",
       "      <td>3.45</td>\n",
       "      <td>1480.0</td>\n",
       "      <td>0</td>\n",
       "    </tr>\n",
       "    <tr>\n",
       "      <th>4</th>\n",
       "      <td>13.24</td>\n",
       "      <td>2.59</td>\n",
       "      <td>2.87</td>\n",
       "      <td>21.0</td>\n",
       "      <td>118.0</td>\n",
       "      <td>2.80</td>\n",
       "      <td>2.69</td>\n",
       "      <td>0.39</td>\n",
       "      <td>1.82</td>\n",
       "      <td>4.32</td>\n",
       "      <td>1.04</td>\n",
       "      <td>2.93</td>\n",
       "      <td>735.0</td>\n",
       "      <td>0</td>\n",
       "    </tr>\n",
       "    <tr>\n",
       "      <th>...</th>\n",
       "      <td>...</td>\n",
       "      <td>...</td>\n",
       "      <td>...</td>\n",
       "      <td>...</td>\n",
       "      <td>...</td>\n",
       "      <td>...</td>\n",
       "      <td>...</td>\n",
       "      <td>...</td>\n",
       "      <td>...</td>\n",
       "      <td>...</td>\n",
       "      <td>...</td>\n",
       "      <td>...</td>\n",
       "      <td>...</td>\n",
       "      <td>...</td>\n",
       "    </tr>\n",
       "    <tr>\n",
       "      <th>173</th>\n",
       "      <td>13.71</td>\n",
       "      <td>5.65</td>\n",
       "      <td>2.45</td>\n",
       "      <td>20.5</td>\n",
       "      <td>95.0</td>\n",
       "      <td>1.68</td>\n",
       "      <td>0.61</td>\n",
       "      <td>0.52</td>\n",
       "      <td>1.06</td>\n",
       "      <td>7.70</td>\n",
       "      <td>0.64</td>\n",
       "      <td>1.74</td>\n",
       "      <td>740.0</td>\n",
       "      <td>2</td>\n",
       "    </tr>\n",
       "    <tr>\n",
       "      <th>174</th>\n",
       "      <td>13.40</td>\n",
       "      <td>3.91</td>\n",
       "      <td>2.48</td>\n",
       "      <td>23.0</td>\n",
       "      <td>102.0</td>\n",
       "      <td>1.80</td>\n",
       "      <td>0.75</td>\n",
       "      <td>0.43</td>\n",
       "      <td>1.41</td>\n",
       "      <td>7.30</td>\n",
       "      <td>0.70</td>\n",
       "      <td>1.56</td>\n",
       "      <td>750.0</td>\n",
       "      <td>2</td>\n",
       "    </tr>\n",
       "    <tr>\n",
       "      <th>175</th>\n",
       "      <td>13.27</td>\n",
       "      <td>4.28</td>\n",
       "      <td>2.26</td>\n",
       "      <td>20.0</td>\n",
       "      <td>120.0</td>\n",
       "      <td>1.59</td>\n",
       "      <td>0.69</td>\n",
       "      <td>0.43</td>\n",
       "      <td>1.35</td>\n",
       "      <td>10.20</td>\n",
       "      <td>0.59</td>\n",
       "      <td>1.56</td>\n",
       "      <td>835.0</td>\n",
       "      <td>2</td>\n",
       "    </tr>\n",
       "    <tr>\n",
       "      <th>176</th>\n",
       "      <td>13.17</td>\n",
       "      <td>2.59</td>\n",
       "      <td>2.37</td>\n",
       "      <td>20.0</td>\n",
       "      <td>120.0</td>\n",
       "      <td>1.65</td>\n",
       "      <td>0.68</td>\n",
       "      <td>0.53</td>\n",
       "      <td>1.46</td>\n",
       "      <td>9.30</td>\n",
       "      <td>0.60</td>\n",
       "      <td>1.62</td>\n",
       "      <td>840.0</td>\n",
       "      <td>2</td>\n",
       "    </tr>\n",
       "    <tr>\n",
       "      <th>177</th>\n",
       "      <td>14.13</td>\n",
       "      <td>4.10</td>\n",
       "      <td>2.74</td>\n",
       "      <td>24.5</td>\n",
       "      <td>96.0</td>\n",
       "      <td>2.05</td>\n",
       "      <td>0.76</td>\n",
       "      <td>0.56</td>\n",
       "      <td>1.35</td>\n",
       "      <td>9.20</td>\n",
       "      <td>0.61</td>\n",
       "      <td>1.60</td>\n",
       "      <td>560.0</td>\n",
       "      <td>2</td>\n",
       "    </tr>\n",
       "  </tbody>\n",
       "</table>\n",
       "<p>178 rows × 14 columns</p>\n",
       "</div>"
      ],
      "text/plain": [
       "     alcohol  malic_acid   ash  ...  od280/od315_of_diluted_wines  proline  target\n",
       "0      14.23        1.71  2.43  ...                          3.92   1065.0       0\n",
       "1      13.20        1.78  2.14  ...                          3.40   1050.0       0\n",
       "2      13.16        2.36  2.67  ...                          3.17   1185.0       0\n",
       "3      14.37        1.95  2.50  ...                          3.45   1480.0       0\n",
       "4      13.24        2.59  2.87  ...                          2.93    735.0       0\n",
       "..       ...         ...   ...  ...                           ...      ...     ...\n",
       "173    13.71        5.65  2.45  ...                          1.74    740.0       2\n",
       "174    13.40        3.91  2.48  ...                          1.56    750.0       2\n",
       "175    13.27        4.28  2.26  ...                          1.56    835.0       2\n",
       "176    13.17        2.59  2.37  ...                          1.62    840.0       2\n",
       "177    14.13        4.10  2.74  ...                          1.60    560.0       2\n",
       "\n",
       "[178 rows x 14 columns]"
      ]
     },
     "metadata": {
      "tags": []
     },
     "output_type": "display_data"
    }
   ],
   "source": [
    "from sklearn.datasets import load_wine\n",
    "wine=load_wine()\n",
    "wine_df= pd.DataFrame(wine.data, columns=wine.feature_names)\n",
    "wine_df['target'] = pd.Series(wine.target)\n",
    "display(wine_df)"
   ]
  },
  {
   "cell_type": "markdown",
   "metadata": {
    "id": "t40pBIG7d_T3"
   },
   "source": [
    "#### <font color = 'maroon'>Question 6.1</font>     \n",
    "    \n",
    "The categorical feature identified is \"target\" which has possible values 0,1 and 2 with names as ['class_0', 'class_1', 'class_2'] </br>"
   ]
  },
  {
   "cell_type": "markdown",
   "metadata": {
    "id": "YwrNs09VTMNR"
   },
   "source": [
    "<b>Frequency of Categorical Feature: </b>"
   ]
  },
  {
   "cell_type": "code",
   "execution_count": 158,
   "metadata": {
    "colab": {
     "base_uri": "https://localhost:8080/",
     "height": 34
    },
    "id": "4DCUAT8jVrj1",
    "outputId": "c09b1d31-74ac-453b-f83d-99e91b47d6e9"
   },
   "outputs": [
    {
     "name": "stdout",
     "output_type": "stream",
     "text": [
      "[0 1 2]\n"
     ]
    }
   ],
   "source": [
    "print(wine_df['target'].unique())"
   ]
  },
  {
   "cell_type": "code",
   "execution_count": 159,
   "metadata": {
    "colab": {
     "base_uri": "https://localhost:8080/",
     "height": 101
    },
    "id": "KJYe3hUyV_RZ",
    "outputId": "bca84cf2-e2a2-4078-cc02-a1b8d7d0ada4"
   },
   "outputs": [
    {
     "name": "stdout",
     "output_type": "stream",
     "text": [
      "The Frequency of each class:\n"
     ]
    },
    {
     "data": {
      "text/plain": [
       "1    0.398876\n",
       "0    0.331461\n",
       "2    0.269663\n",
       "Name: target, dtype: float64"
      ]
     },
     "metadata": {
      "tags": []
     },
     "output_type": "display_data"
    }
   ],
   "source": [
    "freq_target = wine_df['target'].value_counts()/len(df)\n",
    "print(\"The Frequency of each class:\")\n",
    "display(freq_target)"
   ]
  },
  {
   "cell_type": "markdown",
   "metadata": {
    "id": "StrtxfaieGFD"
   },
   "source": [
    "#### <font color = 'maroon'>Question 6.2</font>     "
   ]
  },
  {
   "cell_type": "markdown",
   "metadata": {
    "id": "F_kUPoqXR7b3"
   },
   "source": [
    "<b>Univariate Summary</b>"
   ]
  },
  {
   "cell_type": "code",
   "execution_count": 160,
   "metadata": {
    "colab": {
     "base_uri": "https://localhost:8080/",
     "height": 304
    },
    "id": "9NtU5uIkKo3w",
    "outputId": "06f8cbc9-55e6-41bc-f662-353dceb1c5d4"
   },
   "outputs": [
    {
     "data": {
      "text/html": [
       "<div>\n",
       "<style scoped>\n",
       "    .dataframe tbody tr th:only-of-type {\n",
       "        vertical-align: middle;\n",
       "    }\n",
       "\n",
       "    .dataframe tbody tr th {\n",
       "        vertical-align: top;\n",
       "    }\n",
       "\n",
       "    .dataframe thead th {\n",
       "        text-align: right;\n",
       "    }\n",
       "</style>\n",
       "<table border=\"1\" class=\"dataframe\">\n",
       "  <thead>\n",
       "    <tr style=\"text-align: right;\">\n",
       "      <th></th>\n",
       "      <th>alcohol</th>\n",
       "      <th>malic_acid</th>\n",
       "      <th>ash</th>\n",
       "      <th>alcalinity_of_ash</th>\n",
       "      <th>magnesium</th>\n",
       "      <th>total_phenols</th>\n",
       "      <th>flavanoids</th>\n",
       "      <th>nonflavanoid_phenols</th>\n",
       "      <th>proanthocyanins</th>\n",
       "      <th>color_intensity</th>\n",
       "      <th>hue</th>\n",
       "      <th>od280/od315_of_diluted_wines</th>\n",
       "      <th>proline</th>\n",
       "    </tr>\n",
       "  </thead>\n",
       "  <tbody>\n",
       "    <tr>\n",
       "      <th>count</th>\n",
       "      <td>178.000000</td>\n",
       "      <td>178.000000</td>\n",
       "      <td>178.000000</td>\n",
       "      <td>178.000000</td>\n",
       "      <td>178.000000</td>\n",
       "      <td>178.000000</td>\n",
       "      <td>178.000000</td>\n",
       "      <td>178.000000</td>\n",
       "      <td>178.000000</td>\n",
       "      <td>178.000000</td>\n",
       "      <td>178.000000</td>\n",
       "      <td>178.000000</td>\n",
       "      <td>178.000000</td>\n",
       "    </tr>\n",
       "    <tr>\n",
       "      <th>mean</th>\n",
       "      <td>13.000618</td>\n",
       "      <td>2.336348</td>\n",
       "      <td>2.366517</td>\n",
       "      <td>19.494944</td>\n",
       "      <td>99.741573</td>\n",
       "      <td>2.295112</td>\n",
       "      <td>2.029270</td>\n",
       "      <td>0.361854</td>\n",
       "      <td>1.590899</td>\n",
       "      <td>5.058090</td>\n",
       "      <td>0.957449</td>\n",
       "      <td>2.611685</td>\n",
       "      <td>746.893258</td>\n",
       "    </tr>\n",
       "    <tr>\n",
       "      <th>std</th>\n",
       "      <td>0.811827</td>\n",
       "      <td>1.117146</td>\n",
       "      <td>0.274344</td>\n",
       "      <td>3.339564</td>\n",
       "      <td>14.282484</td>\n",
       "      <td>0.625851</td>\n",
       "      <td>0.998859</td>\n",
       "      <td>0.124453</td>\n",
       "      <td>0.572359</td>\n",
       "      <td>2.318286</td>\n",
       "      <td>0.228572</td>\n",
       "      <td>0.709990</td>\n",
       "      <td>314.907474</td>\n",
       "    </tr>\n",
       "    <tr>\n",
       "      <th>min</th>\n",
       "      <td>11.030000</td>\n",
       "      <td>0.740000</td>\n",
       "      <td>1.360000</td>\n",
       "      <td>10.600000</td>\n",
       "      <td>70.000000</td>\n",
       "      <td>0.980000</td>\n",
       "      <td>0.340000</td>\n",
       "      <td>0.130000</td>\n",
       "      <td>0.410000</td>\n",
       "      <td>1.280000</td>\n",
       "      <td>0.480000</td>\n",
       "      <td>1.270000</td>\n",
       "      <td>278.000000</td>\n",
       "    </tr>\n",
       "    <tr>\n",
       "      <th>25%</th>\n",
       "      <td>12.362500</td>\n",
       "      <td>1.602500</td>\n",
       "      <td>2.210000</td>\n",
       "      <td>17.200000</td>\n",
       "      <td>88.000000</td>\n",
       "      <td>1.742500</td>\n",
       "      <td>1.205000</td>\n",
       "      <td>0.270000</td>\n",
       "      <td>1.250000</td>\n",
       "      <td>3.220000</td>\n",
       "      <td>0.782500</td>\n",
       "      <td>1.937500</td>\n",
       "      <td>500.500000</td>\n",
       "    </tr>\n",
       "    <tr>\n",
       "      <th>50%</th>\n",
       "      <td>13.050000</td>\n",
       "      <td>1.865000</td>\n",
       "      <td>2.360000</td>\n",
       "      <td>19.500000</td>\n",
       "      <td>98.000000</td>\n",
       "      <td>2.355000</td>\n",
       "      <td>2.135000</td>\n",
       "      <td>0.340000</td>\n",
       "      <td>1.555000</td>\n",
       "      <td>4.690000</td>\n",
       "      <td>0.965000</td>\n",
       "      <td>2.780000</td>\n",
       "      <td>673.500000</td>\n",
       "    </tr>\n",
       "    <tr>\n",
       "      <th>75%</th>\n",
       "      <td>13.677500</td>\n",
       "      <td>3.082500</td>\n",
       "      <td>2.557500</td>\n",
       "      <td>21.500000</td>\n",
       "      <td>107.000000</td>\n",
       "      <td>2.800000</td>\n",
       "      <td>2.875000</td>\n",
       "      <td>0.437500</td>\n",
       "      <td>1.950000</td>\n",
       "      <td>6.200000</td>\n",
       "      <td>1.120000</td>\n",
       "      <td>3.170000</td>\n",
       "      <td>985.000000</td>\n",
       "    </tr>\n",
       "    <tr>\n",
       "      <th>max</th>\n",
       "      <td>14.830000</td>\n",
       "      <td>5.800000</td>\n",
       "      <td>3.230000</td>\n",
       "      <td>30.000000</td>\n",
       "      <td>162.000000</td>\n",
       "      <td>3.880000</td>\n",
       "      <td>5.080000</td>\n",
       "      <td>0.660000</td>\n",
       "      <td>3.580000</td>\n",
       "      <td>13.000000</td>\n",
       "      <td>1.710000</td>\n",
       "      <td>4.000000</td>\n",
       "      <td>1680.000000</td>\n",
       "    </tr>\n",
       "  </tbody>\n",
       "</table>\n",
       "</div>"
      ],
      "text/plain": [
       "          alcohol  malic_acid  ...  od280/od315_of_diluted_wines      proline\n",
       "count  178.000000  178.000000  ...                    178.000000   178.000000\n",
       "mean    13.000618    2.336348  ...                      2.611685   746.893258\n",
       "std      0.811827    1.117146  ...                      0.709990   314.907474\n",
       "min     11.030000    0.740000  ...                      1.270000   278.000000\n",
       "25%     12.362500    1.602500  ...                      1.937500   500.500000\n",
       "50%     13.050000    1.865000  ...                      2.780000   673.500000\n",
       "75%     13.677500    3.082500  ...                      3.170000   985.000000\n",
       "max     14.830000    5.800000  ...                      4.000000  1680.000000\n",
       "\n",
       "[8 rows x 13 columns]"
      ]
     },
     "metadata": {
      "tags": []
     },
     "output_type": "display_data"
    }
   ],
   "source": [
    "target_drop_df = wine_df.drop('target',1)\n",
    "display(target_drop_df.describe())"
   ]
  },
  {
   "cell_type": "markdown",
   "metadata": {
    "id": "7bvhIM6WZN1Q"
   },
   "source": [
    "<b> Multivariate Summary </b>"
   ]
  },
  {
   "cell_type": "code",
   "execution_count": 161,
   "metadata": {
    "colab": {
     "base_uri": "https://localhost:8080/",
     "height": 452
    },
    "id": "ibHqo05BY3Ld",
    "outputId": "e532b3b9-f559-47a8-efad-736547f6b48d"
   },
   "outputs": [
    {
     "data": {
      "text/html": [
       "<div>\n",
       "<style scoped>\n",
       "    .dataframe tbody tr th:only-of-type {\n",
       "        vertical-align: middle;\n",
       "    }\n",
       "\n",
       "    .dataframe tbody tr th {\n",
       "        vertical-align: top;\n",
       "    }\n",
       "\n",
       "    .dataframe thead th {\n",
       "        text-align: right;\n",
       "    }\n",
       "</style>\n",
       "<table border=\"1\" class=\"dataframe\">\n",
       "  <thead>\n",
       "    <tr style=\"text-align: right;\">\n",
       "      <th></th>\n",
       "      <th>alcohol</th>\n",
       "      <th>malic_acid</th>\n",
       "      <th>ash</th>\n",
       "      <th>alcalinity_of_ash</th>\n",
       "      <th>magnesium</th>\n",
       "      <th>total_phenols</th>\n",
       "      <th>flavanoids</th>\n",
       "      <th>nonflavanoid_phenols</th>\n",
       "      <th>proanthocyanins</th>\n",
       "      <th>color_intensity</th>\n",
       "      <th>hue</th>\n",
       "      <th>od280/od315_of_diluted_wines</th>\n",
       "      <th>proline</th>\n",
       "    </tr>\n",
       "  </thead>\n",
       "  <tbody>\n",
       "    <tr>\n",
       "      <th>alcohol</th>\n",
       "      <td>1.000000</td>\n",
       "      <td>0.094397</td>\n",
       "      <td>0.211545</td>\n",
       "      <td>-0.310235</td>\n",
       "      <td>0.270798</td>\n",
       "      <td>0.289101</td>\n",
       "      <td>0.236815</td>\n",
       "      <td>-0.155929</td>\n",
       "      <td>0.136698</td>\n",
       "      <td>0.546364</td>\n",
       "      <td>-0.071747</td>\n",
       "      <td>0.072343</td>\n",
       "      <td>0.643720</td>\n",
       "    </tr>\n",
       "    <tr>\n",
       "      <th>malic_acid</th>\n",
       "      <td>0.094397</td>\n",
       "      <td>1.000000</td>\n",
       "      <td>0.164045</td>\n",
       "      <td>0.288500</td>\n",
       "      <td>-0.054575</td>\n",
       "      <td>-0.335167</td>\n",
       "      <td>-0.411007</td>\n",
       "      <td>0.292977</td>\n",
       "      <td>-0.220746</td>\n",
       "      <td>0.248985</td>\n",
       "      <td>-0.561296</td>\n",
       "      <td>-0.368710</td>\n",
       "      <td>-0.192011</td>\n",
       "    </tr>\n",
       "    <tr>\n",
       "      <th>ash</th>\n",
       "      <td>0.211545</td>\n",
       "      <td>0.164045</td>\n",
       "      <td>1.000000</td>\n",
       "      <td>0.443367</td>\n",
       "      <td>0.286587</td>\n",
       "      <td>0.128980</td>\n",
       "      <td>0.115077</td>\n",
       "      <td>0.186230</td>\n",
       "      <td>0.009652</td>\n",
       "      <td>0.258887</td>\n",
       "      <td>-0.074667</td>\n",
       "      <td>0.003911</td>\n",
       "      <td>0.223626</td>\n",
       "    </tr>\n",
       "    <tr>\n",
       "      <th>alcalinity_of_ash</th>\n",
       "      <td>-0.310235</td>\n",
       "      <td>0.288500</td>\n",
       "      <td>0.443367</td>\n",
       "      <td>1.000000</td>\n",
       "      <td>-0.083333</td>\n",
       "      <td>-0.321113</td>\n",
       "      <td>-0.351370</td>\n",
       "      <td>0.361922</td>\n",
       "      <td>-0.197327</td>\n",
       "      <td>0.018732</td>\n",
       "      <td>-0.273955</td>\n",
       "      <td>-0.276769</td>\n",
       "      <td>-0.440597</td>\n",
       "    </tr>\n",
       "    <tr>\n",
       "      <th>magnesium</th>\n",
       "      <td>0.270798</td>\n",
       "      <td>-0.054575</td>\n",
       "      <td>0.286587</td>\n",
       "      <td>-0.083333</td>\n",
       "      <td>1.000000</td>\n",
       "      <td>0.214401</td>\n",
       "      <td>0.195784</td>\n",
       "      <td>-0.256294</td>\n",
       "      <td>0.236441</td>\n",
       "      <td>0.199950</td>\n",
       "      <td>0.055398</td>\n",
       "      <td>0.066004</td>\n",
       "      <td>0.393351</td>\n",
       "    </tr>\n",
       "    <tr>\n",
       "      <th>total_phenols</th>\n",
       "      <td>0.289101</td>\n",
       "      <td>-0.335167</td>\n",
       "      <td>0.128980</td>\n",
       "      <td>-0.321113</td>\n",
       "      <td>0.214401</td>\n",
       "      <td>1.000000</td>\n",
       "      <td>0.864564</td>\n",
       "      <td>-0.449935</td>\n",
       "      <td>0.612413</td>\n",
       "      <td>-0.055136</td>\n",
       "      <td>0.433681</td>\n",
       "      <td>0.699949</td>\n",
       "      <td>0.498115</td>\n",
       "    </tr>\n",
       "    <tr>\n",
       "      <th>flavanoids</th>\n",
       "      <td>0.236815</td>\n",
       "      <td>-0.411007</td>\n",
       "      <td>0.115077</td>\n",
       "      <td>-0.351370</td>\n",
       "      <td>0.195784</td>\n",
       "      <td>0.864564</td>\n",
       "      <td>1.000000</td>\n",
       "      <td>-0.537900</td>\n",
       "      <td>0.652692</td>\n",
       "      <td>-0.172379</td>\n",
       "      <td>0.543479</td>\n",
       "      <td>0.787194</td>\n",
       "      <td>0.494193</td>\n",
       "    </tr>\n",
       "    <tr>\n",
       "      <th>nonflavanoid_phenols</th>\n",
       "      <td>-0.155929</td>\n",
       "      <td>0.292977</td>\n",
       "      <td>0.186230</td>\n",
       "      <td>0.361922</td>\n",
       "      <td>-0.256294</td>\n",
       "      <td>-0.449935</td>\n",
       "      <td>-0.537900</td>\n",
       "      <td>1.000000</td>\n",
       "      <td>-0.365845</td>\n",
       "      <td>0.139057</td>\n",
       "      <td>-0.262640</td>\n",
       "      <td>-0.503270</td>\n",
       "      <td>-0.311385</td>\n",
       "    </tr>\n",
       "    <tr>\n",
       "      <th>proanthocyanins</th>\n",
       "      <td>0.136698</td>\n",
       "      <td>-0.220746</td>\n",
       "      <td>0.009652</td>\n",
       "      <td>-0.197327</td>\n",
       "      <td>0.236441</td>\n",
       "      <td>0.612413</td>\n",
       "      <td>0.652692</td>\n",
       "      <td>-0.365845</td>\n",
       "      <td>1.000000</td>\n",
       "      <td>-0.025250</td>\n",
       "      <td>0.295544</td>\n",
       "      <td>0.519067</td>\n",
       "      <td>0.330417</td>\n",
       "    </tr>\n",
       "    <tr>\n",
       "      <th>color_intensity</th>\n",
       "      <td>0.546364</td>\n",
       "      <td>0.248985</td>\n",
       "      <td>0.258887</td>\n",
       "      <td>0.018732</td>\n",
       "      <td>0.199950</td>\n",
       "      <td>-0.055136</td>\n",
       "      <td>-0.172379</td>\n",
       "      <td>0.139057</td>\n",
       "      <td>-0.025250</td>\n",
       "      <td>1.000000</td>\n",
       "      <td>-0.521813</td>\n",
       "      <td>-0.428815</td>\n",
       "      <td>0.316100</td>\n",
       "    </tr>\n",
       "    <tr>\n",
       "      <th>hue</th>\n",
       "      <td>-0.071747</td>\n",
       "      <td>-0.561296</td>\n",
       "      <td>-0.074667</td>\n",
       "      <td>-0.273955</td>\n",
       "      <td>0.055398</td>\n",
       "      <td>0.433681</td>\n",
       "      <td>0.543479</td>\n",
       "      <td>-0.262640</td>\n",
       "      <td>0.295544</td>\n",
       "      <td>-0.521813</td>\n",
       "      <td>1.000000</td>\n",
       "      <td>0.565468</td>\n",
       "      <td>0.236183</td>\n",
       "    </tr>\n",
       "    <tr>\n",
       "      <th>od280/od315_of_diluted_wines</th>\n",
       "      <td>0.072343</td>\n",
       "      <td>-0.368710</td>\n",
       "      <td>0.003911</td>\n",
       "      <td>-0.276769</td>\n",
       "      <td>0.066004</td>\n",
       "      <td>0.699949</td>\n",
       "      <td>0.787194</td>\n",
       "      <td>-0.503270</td>\n",
       "      <td>0.519067</td>\n",
       "      <td>-0.428815</td>\n",
       "      <td>0.565468</td>\n",
       "      <td>1.000000</td>\n",
       "      <td>0.312761</td>\n",
       "    </tr>\n",
       "    <tr>\n",
       "      <th>proline</th>\n",
       "      <td>0.643720</td>\n",
       "      <td>-0.192011</td>\n",
       "      <td>0.223626</td>\n",
       "      <td>-0.440597</td>\n",
       "      <td>0.393351</td>\n",
       "      <td>0.498115</td>\n",
       "      <td>0.494193</td>\n",
       "      <td>-0.311385</td>\n",
       "      <td>0.330417</td>\n",
       "      <td>0.316100</td>\n",
       "      <td>0.236183</td>\n",
       "      <td>0.312761</td>\n",
       "      <td>1.000000</td>\n",
       "    </tr>\n",
       "  </tbody>\n",
       "</table>\n",
       "</div>"
      ],
      "text/plain": [
       "                               alcohol  ...   proline\n",
       "alcohol                       1.000000  ...  0.643720\n",
       "malic_acid                    0.094397  ... -0.192011\n",
       "ash                           0.211545  ...  0.223626\n",
       "alcalinity_of_ash            -0.310235  ... -0.440597\n",
       "magnesium                     0.270798  ...  0.393351\n",
       "total_phenols                 0.289101  ...  0.498115\n",
       "flavanoids                    0.236815  ...  0.494193\n",
       "nonflavanoid_phenols         -0.155929  ... -0.311385\n",
       "proanthocyanins               0.136698  ...  0.330417\n",
       "color_intensity               0.546364  ...  0.316100\n",
       "hue                          -0.071747  ...  0.236183\n",
       "od280/od315_of_diluted_wines  0.072343  ...  0.312761\n",
       "proline                       0.643720  ...  1.000000\n",
       "\n",
       "[13 rows x 13 columns]"
      ]
     },
     "metadata": {
      "tags": []
     },
     "output_type": "display_data"
    }
   ],
   "source": [
    "display(target_drop_df.corr())"
   ]
  },
  {
   "cell_type": "markdown",
   "metadata": {
    "id": "mjl10ZjpZVs1"
   },
   "source": [
    "<b> Median for Remaining Numerical Feature </b>"
   ]
  },
  {
   "cell_type": "code",
   "execution_count": 162,
   "metadata": {
    "colab": {
     "base_uri": "https://localhost:8080/",
     "height": 186
    },
    "id": "CK36h-WFZnAp",
    "outputId": "0478b0ef-5c8a-4086-ea9c-e5890113ccb4"
   },
   "outputs": [
    {
     "data": {
      "text/html": [
       "<div>\n",
       "<style scoped>\n",
       "    .dataframe tbody tr th:only-of-type {\n",
       "        vertical-align: middle;\n",
       "    }\n",
       "\n",
       "    .dataframe tbody tr th {\n",
       "        vertical-align: top;\n",
       "    }\n",
       "\n",
       "    .dataframe thead th {\n",
       "        text-align: right;\n",
       "    }\n",
       "</style>\n",
       "<table border=\"1\" class=\"dataframe\">\n",
       "  <thead>\n",
       "    <tr style=\"text-align: right;\">\n",
       "      <th></th>\n",
       "      <th>alcohol</th>\n",
       "      <th>malic_acid</th>\n",
       "      <th>ash</th>\n",
       "      <th>alcalinity_of_ash</th>\n",
       "      <th>magnesium</th>\n",
       "      <th>total_phenols</th>\n",
       "      <th>flavanoids</th>\n",
       "      <th>nonflavanoid_phenols</th>\n",
       "      <th>proanthocyanins</th>\n",
       "      <th>color_intensity</th>\n",
       "      <th>hue</th>\n",
       "      <th>od280/od315_of_diluted_wines</th>\n",
       "      <th>proline</th>\n",
       "    </tr>\n",
       "    <tr>\n",
       "      <th>target</th>\n",
       "      <th></th>\n",
       "      <th></th>\n",
       "      <th></th>\n",
       "      <th></th>\n",
       "      <th></th>\n",
       "      <th></th>\n",
       "      <th></th>\n",
       "      <th></th>\n",
       "      <th></th>\n",
       "      <th></th>\n",
       "      <th></th>\n",
       "      <th></th>\n",
       "      <th></th>\n",
       "    </tr>\n",
       "  </thead>\n",
       "  <tbody>\n",
       "    <tr>\n",
       "      <th>0</th>\n",
       "      <td>13.750</td>\n",
       "      <td>1.770</td>\n",
       "      <td>2.44</td>\n",
       "      <td>16.8</td>\n",
       "      <td>104.0</td>\n",
       "      <td>2.800</td>\n",
       "      <td>2.980</td>\n",
       "      <td>0.29</td>\n",
       "      <td>1.870</td>\n",
       "      <td>5.40</td>\n",
       "      <td>1.070</td>\n",
       "      <td>3.17</td>\n",
       "      <td>1095.0</td>\n",
       "    </tr>\n",
       "    <tr>\n",
       "      <th>1</th>\n",
       "      <td>12.290</td>\n",
       "      <td>1.610</td>\n",
       "      <td>2.24</td>\n",
       "      <td>20.0</td>\n",
       "      <td>88.0</td>\n",
       "      <td>2.200</td>\n",
       "      <td>2.030</td>\n",
       "      <td>0.37</td>\n",
       "      <td>1.610</td>\n",
       "      <td>2.90</td>\n",
       "      <td>1.040</td>\n",
       "      <td>2.83</td>\n",
       "      <td>495.0</td>\n",
       "    </tr>\n",
       "    <tr>\n",
       "      <th>2</th>\n",
       "      <td>13.165</td>\n",
       "      <td>3.265</td>\n",
       "      <td>2.38</td>\n",
       "      <td>21.0</td>\n",
       "      <td>97.0</td>\n",
       "      <td>1.635</td>\n",
       "      <td>0.685</td>\n",
       "      <td>0.47</td>\n",
       "      <td>1.105</td>\n",
       "      <td>7.55</td>\n",
       "      <td>0.665</td>\n",
       "      <td>1.66</td>\n",
       "      <td>627.5</td>\n",
       "    </tr>\n",
       "  </tbody>\n",
       "</table>\n",
       "</div>"
      ],
      "text/plain": [
       "        alcohol  malic_acid   ash  ...    hue  od280/od315_of_diluted_wines  proline\n",
       "target                             ...                                              \n",
       "0        13.750       1.770  2.44  ...  1.070                          3.17   1095.0\n",
       "1        12.290       1.610  2.24  ...  1.040                          2.83    495.0\n",
       "2        13.165       3.265  2.38  ...  0.665                          1.66    627.5\n",
       "\n",
       "[3 rows x 13 columns]"
      ]
     },
     "metadata": {
      "tags": []
     },
     "output_type": "display_data"
    }
   ],
   "source": [
    "display(wine_df.groupby('target').median())"
   ]
  },
  {
   "cell_type": "markdown",
   "metadata": {
    "id": "VfONGiHKR-YF"
   },
   "source": [
    "#### <font color = 'maroon'>Question 6.3</font>     \n",
    "    "
   ]
  },
  {
   "cell_type": "markdown",
   "metadata": {
    "id": "NzxBhoIrafDF"
   },
   "source": [
    "<b>Boxplot Grouped by target</b>"
   ]
  },
  {
   "cell_type": "code",
   "execution_count": 163,
   "metadata": {
    "colab": {
     "base_uri": "https://localhost:8080/",
     "height": 299
    },
    "id": "ebAmeacNaLaD",
    "outputId": "60fc3e71-e3be-43b2-e835-93612eb7e62b"
   },
   "outputs": [
    {
     "data": {
      "text/plain": [
       "<matplotlib.axes._subplots.AxesSubplot at 0x7f47f2cf8b70>"
      ]
     },
     "execution_count": 163,
     "metadata": {
      "tags": []
     },
     "output_type": "execute_result"
    },
    {
     "data": {
      "image/png": "[encoded data removed]",
      "text/plain": [
       "<Figure size 432x288 with 1 Axes>"
      ]
     },
     "metadata": {
      "tags": []
     },
     "output_type": "display_data"
    }
   ],
   "source": [
    "sns.boxplot(x=\"target\",y=\"alcohol\",data=wine_df)"
   ]
  },
  {
   "cell_type": "markdown",
   "metadata": {
    "id": "9ct3Al2dSA__"
   },
   "source": [
    "#### <font color = 'maroon'>Question 6.4</font> \n"
   ]
  },
  {
   "cell_type": "markdown",
   "metadata": {
    "id": "Cz6Tk0QOcKVy"
   },
   "source": [
    "<b> Scatterplot for pair of distinct numerical feature and the highest correlation </b>\n"
   ]
  },
  {
   "cell_type": "code",
   "execution_count": 164,
   "metadata": {
    "colab": {
     "base_uri": "https://localhost:8080/",
     "height": 534
    },
    "id": "1iz5KTIVLMjf",
    "outputId": "45f3c8bb-76ac-47f7-80ac-1ca743ec8c6b"
   },
   "outputs": [
    {
     "data": {
      "text/plain": [
       "proline                       proline                         1.000000\n",
       "od280/od315_of_diluted_wines  od280/od315_of_diluted_wines    1.000000\n",
       "malic_acid                    malic_acid                      1.000000\n",
       "ash                           ash                             1.000000\n",
       "alcalinity_of_ash             alcalinity_of_ash               1.000000\n",
       "magnesium                     magnesium                       1.000000\n",
       "total_phenols                 total_phenols                   1.000000\n",
       "nonflavanoid_phenols          nonflavanoid_phenols            1.000000\n",
       "proanthocyanins               proanthocyanins                 1.000000\n",
       "color_intensity               color_intensity                 1.000000\n",
       "hue                           hue                             1.000000\n",
       "flavanoids                    flavanoids                      1.000000\n",
       "alcohol                       alcohol                         1.000000\n",
       "total_phenols                 flavanoids                      0.864564\n",
       "dtype: float64"
      ]
     },
     "metadata": {
      "tags": []
     },
     "output_type": "display_data"
    },
    {
     "data": {
      "image/png": "[encoded data removed]",
      "text/plain": [
       "<Figure size 432x288 with 1 Axes>"
      ]
     },
     "metadata": {
      "tags": []
     },
     "output_type": "display_data"
    }
   ],
   "source": [
    "absolute_cor = df1.corr().abs()\n",
    "u = absolute_cor.unstack()\n",
    "s = u.sort_values(kind=\"quicksort\",ascending=False)\n",
    "display (s[0:14])\n",
    "\n",
    "sns.scatterplot(x='flavanoids', y='total_phenols', data=wine_df)\n",
    "plt.show()"
   ]
  },
  {
   "cell_type": "markdown",
   "metadata": {
    "id": "U6q-7TgtSDbk"
   },
   "source": [
    "#### <font color = 'maroon'>Question 6.5</font> \n",
    "  "
   ]
  }
 ],
 "metadata": {
  "colab": {
   "collapsed_sections": [
    "dOjjhTACFho1",
    "G_bgHtp22csi"
   ],
   "name": "Assignment01 - Anuja Jyothi Vijayakumar - 190211413.ipynb",
   "provenance": []
  },
  "kernelspec": {
   "display_name": "Python 3",
   "language": "python",
   "name": "python3"
  },
  "language_info": {
   "codemirror_mode": {
    "name": "ipython",
    "version": 3
   },
   "file_extension": ".py",
   "mimetype": "text/x-python",
   "name": "python",
   "nbconvert_exporter": "python",
   "pygments_lexer": "ipython3",
   "version": "3.9.0"
  }
 },
 "nbformat": 4,
 "nbformat_minor": 4
}
