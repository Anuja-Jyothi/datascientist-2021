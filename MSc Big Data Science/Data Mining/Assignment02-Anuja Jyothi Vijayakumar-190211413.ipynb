{
 "cells": [
  {
   "cell_type": "raw",
   "metadata": {},
   "source": [
    "# <font color = 'maroon'> Data Warehousing and On-line Analytical Processing </font> {-}"
   ]
  },
  {
   "cell_type": "code",
   "execution_count": 1,
   "metadata": {},
   "outputs": [],
   "source": [
    "from sqlalchemy import create_engine\n",
    "from cubes.tutorial.sql import create_table_from_csv\n",
    "from cubes import Workspace"
   ]
  },
  {
   "cell_type": "code",
   "execution_count": 2,
   "metadata": {},
   "outputs": [],
   "source": [
    "engine = create_engine('sqlite:///data.sqlite')\n",
    "create_table_from_csv(engine,\n",
    "                      \"IBRD_Balance_Sheet__FY2010.csv\",\n",
    "                      table_name=\"ibrd_balance\",\n",
    "                      fields=[\n",
    "                          (\"category\", \"string\"),\n",
    "                          (\"category_label\", \"string\"),\n",
    "                          (\"subcategory\", \"string\"),\n",
    "                          (\"subcategory_label\", \"string\"),\n",
    "                          (\"line_item\", \"string\"),\n",
    "                          (\"year\", \"integer\"),\n",
    "                          (\"amount\", \"integer\")],\n",
    "                      create_id=True\n",
    "                     )\n",
    "\n",
    "workspace = Workspace()\n",
    "workspace.register_default_store(\"sql\", url=\"sqlite:///data.sqlite\")\n",
    "workspace.import_model(\"tutorial_model.json\")\n",
    "cube = workspace.cube(\"ibrd_balance\")\n",
    "browser = workspace.browser(cube)"
   ]
  },
  {
   "cell_type": "code",
   "execution_count": 3,
   "metadata": {},
   "outputs": [
    {
     "data": {
      "text/plain": [
       "62"
      ]
     },
     "execution_count": 3,
     "metadata": {},
     "output_type": "execute_result"
    }
   ],
   "source": [
    "result = browser.aggregate()\n",
    "result.summary[\"record_count\"]"
   ]
  },
  {
   "cell_type": "code",
   "execution_count": 4,
   "metadata": {},
   "outputs": [
    {
     "data": {
      "text/plain": [
       "1116860"
      ]
     },
     "execution_count": 4,
     "metadata": {},
     "output_type": "execute_result"
    }
   ],
   "source": [
    "result.summary[\"total_amount\"]"
   ]
  },
  {
   "cell_type": "code",
   "execution_count": 5,
   "metadata": {},
   "outputs": [
    {
     "name": "stdout",
     "output_type": "stream",
     "text": [
      "{'item.category': 'a', 'item.category_label': 'Assets', 'total_amount': 558430, 'maximum_amount': 118104, 'minimum_amount': 0, 'record_count': 32}\n",
      "{'item.category': 'e', 'item.category_label': 'Equity', 'total_amount': 77592, 'maximum_amount': 29870, 'minimum_amount': -3043, 'record_count': 8}\n",
      "{'item.category': 'l', 'item.category_label': 'Liabilities', 'total_amount': 480838, 'maximum_amount': 128577, 'minimum_amount': 8, 'record_count': 22}\n"
     ]
    }
   ],
   "source": [
    "result = browser.aggregate(drilldown=[\"item\"])\n",
    "for record in result:\n",
    "    print(record)"
   ]
  },
  {
   "cell_type": "code",
   "execution_count": 6,
   "metadata": {},
   "outputs": [
    {
     "name": "stdout",
     "output_type": "stream",
     "text": [
      "{'item.category': 'a', 'item.category_label': 'Assets', 'total_amount': 275420, 'maximum_amount': 103657, 'minimum_amount': 33, 'record_count': 16}\n",
      "{'item.category': 'e', 'item.category_label': 'Equity', 'total_amount': 40037, 'maximum_amount': 29870, 'minimum_amount': -1683, 'record_count': 4}\n",
      "{'item.category': 'l', 'item.category_label': 'Liabilities', 'total_amount': 235383, 'maximum_amount': 110040, 'minimum_amount': 57, 'record_count': 11}\n"
     ]
    }
   ],
   "source": [
    "import cubes as cubes\n",
    "cuts = [cubes.PointCut(\"year\", [\"2009\"])]\n",
    "cell = cubes.Cell(cube, cuts)\n",
    "result = browser.aggregate(cell, drilldown=[\"item\"])\n",
    "for record in result:\n",
    "    print(record)"
   ]
  },
  {
   "cell_type": "code",
   "execution_count": 7,
   "metadata": {},
   "outputs": [
    {
     "data": {
      "text/plain": [
       "{'total_amount': 275420,\n",
       " 'maximum_amount': 103657,\n",
       " 'minimum_amount': 33,\n",
       " 'record_count': 16}"
      ]
     },
     "execution_count": 7,
     "metadata": {},
     "output_type": "execute_result"
    }
   ],
   "source": [
    "cuts = [cubes.PointCut(\"year\", [\"2009\"]),cubes.PointCut(\"item\", [\"a\"])]\n",
    "cell = cubes.Cell(cube, cuts)\n",
    "result = browser.aggregate(cell,drilldown=[\"item\"])\n",
    "result.summary"
   ]
  },
  {
   "cell_type": "code",
   "execution_count": 8,
   "metadata": {},
   "outputs": [
    {
     "name": "stdout",
     "output_type": "stream",
     "text": [
      "{'item.category': 'a', 'item.category_label': 'Assets', 'item.subcategory': 'da', 'item.subcategory_label': 'Derivative Assets', 'total_amount': 123065, 'maximum_amount': 82793, 'minimum_amount': 2246, 'record_count': 4}\n",
      "{'item.category': 'a', 'item.category_label': 'Assets', 'item.subcategory': 'dfb', 'item.subcategory_label': 'Due from Banks', 'total_amount': 3044, 'maximum_amount': 2380, 'minimum_amount': 664, 'record_count': 2}\n",
      "{'item.category': 'a', 'item.category_label': 'Assets', 'item.subcategory': 'i', 'item.subcategory_label': 'Investments', 'total_amount': 41012, 'maximum_amount': 41012, 'minimum_amount': 41012, 'record_count': 1}\n",
      "{'item.category': 'a', 'item.category_label': 'Assets', 'item.subcategory': 'lo', 'item.subcategory_label': 'Loans Outstanding', 'total_amount': 103657, 'maximum_amount': 103657, 'minimum_amount': 103657, 'record_count': 1}\n",
      "{'item.category': 'a', 'item.category_label': 'Assets', 'item.subcategory': 'nn', 'item.subcategory_label': 'Nonnegotiable', 'total_amount': 1202, 'maximum_amount': 1202, 'minimum_amount': 1202, 'record_count': 1}\n",
      "{'item.category': 'a', 'item.category_label': 'Assets', 'item.subcategory': 'oa', 'item.subcategory_label': 'Other Assets', 'total_amount': 2247, 'maximum_amount': 1297, 'minimum_amount': 325, 'record_count': 3}\n",
      "{'item.category': 'a', 'item.category_label': 'Assets', 'item.subcategory': 'orcv', 'item.subcategory_label': 'Other Receivables', 'total_amount': 984, 'maximum_amount': 889, 'minimum_amount': 95, 'record_count': 2}\n",
      "{'item.category': 'a', 'item.category_label': 'Assets', 'item.subcategory': 'rcv', 'item.subcategory_label': 'Receivables', 'total_amount': 176, 'maximum_amount': 176, 'minimum_amount': 176, 'record_count': 1}\n",
      "{'item.category': 'a', 'item.category_label': 'Assets', 'item.subcategory': 's', 'item.subcategory_label': 'Securities', 'total_amount': 33, 'maximum_amount': 33, 'minimum_amount': 33, 'record_count': 1}\n"
     ]
    }
   ],
   "source": [
    "cuts = [cubes.PointCut(\"year\", [\"2009\"]),cubes.PointCut(\"item\", [\"a\"])]\n",
    "cell = cubes.Cell(cube, cuts)\n",
    "result = browser.aggregate(cell,drilldown=[\"item:subcategory\"])\n",
    "for record in result:\n",
    "    print(record)"
   ]
  },
  {
   "cell_type": "markdown",
   "metadata": {},
   "source": [
    "## <font color = 'maroon'>Assignment Part 01</font> {-}"
   ]
  },
  {
   "cell_type": "markdown",
   "metadata": {},
   "source": [
    "### <font color = 'maroon'> 1. Music Streaming Company </font> {-}\n",
    "\n",
    "#### A. Schema Diagram: \n",
    "\n",
    "Designed using snowflake Schema: answer attached at the bottom of Part 01 as it was not created via notebook"
   ]
  },
  {
   "cell_type": "markdown",
   "metadata": {},
   "source": [
    "#### B. OLAP operations to be performed:"
   ]
  },
  {
   "cell_type": "code",
   "execution_count": null,
   "metadata": {},
   "outputs": [],
   "source": []
  },
  {
   "cell_type": "markdown",
   "metadata": {},
   "source": [
    "In order to list the total fee collected for a given song for a given month of a given year (e.g. October 2020)\n",
    "\n",
    "Time dimension conceptual hierarchy: day < day of week < month < quarter < year\n",
    "\n",
    "1. Roll up from \"day\" to \"month\" for time dimension\n",
    "2. Roll up to \"all\" for user and song dimensions\n",
    "3. Dice for specific song, month and year\n",
    "4. Perform the sum() operation on the total_fee"
   ]
  },
  {
   "cell_type": "markdown",
   "metadata": {},
   "source": [
    "#### C. Number of Cuboids: \n",
    "\n",
    "The number of cuboids is given by the formula\n",
    "$T$=$\\Pi_{i=1}^n (L_{i} + 1)$, \n",
    "\n",
    "where $L_{i}$ is the number of levels associated with the dimension i.\n",
    "One is added to include the virtual top level, all.\n",
    "\n",
    "Here, L = 5, 1, 1 respectively for i = 1,2,3 \n",
    "\n",
    "Therefore substituting on formula, \n",
    "\n",
    "(5+1)(1+1)(1+1) = 6x2x2 = 24 cuboids"
   ]
  },
  {
   "cell_type": "markdown",
   "metadata": {},
   "source": [
    "### <font color = 'maroon'> 2. Regional Rainfall </font> {-}\n",
    "\n",
    "The data cube has dimensions region, precipitation, and time"
   ]
  },
  {
   "cell_type": "markdown",
   "metadata": {},
   "source": [
    "#### A. Data measure to be used to compute the total amount of rainfall for a given region and month\n"
   ]
  },
  {
   "cell_type": "code",
   "execution_count": null,
   "metadata": {},
   "outputs": [],
   "source": []
  },
  {
   "cell_type": "markdown",
   "metadata": {},
   "source": [
    "**data cube measure:** sum() is applied on the dimension **precipitation** rolled up to region and time (month)\n",
    "\n",
    "**category:** distributive\n",
    "\n",
    "**explanation:** because this function can be performed in a distrubutive manner and the final output is not affected or changed.\n"
   ]
  },
  {
   "cell_type": "markdown",
   "metadata": {},
   "source": [
    "#### B. Data measure to be used to compute the average rainfall for a given region and month"
   ]
  },
  {
   "cell_type": "code",
   "execution_count": null,
   "metadata": {},
   "outputs": [],
   "source": []
  },
  {
   "cell_type": "markdown",
   "metadata": {},
   "source": [
    "**data cube measure:** avg() applied on the dimension **precipitation** rolled up to region and time (month)\n",
    "\n",
    "**category:** algebraic\n",
    "\n",
    "**explanation:** because this function performs algebraic aggregate functions, ie., $average = \\frac {sum}{count}$ and sum() and count() are distributive aggregate functions"
   ]
  },
  {
   "cell_type": "markdown",
   "metadata": {},
   "source": [
    "### <font color = 'maroon'> 3. Indexing OLAP data Using bitmap indices </font> {-}"
   ]
  },
  {
   "cell_type": "markdown",
   "metadata": {},
   "source": [
    "**Base Table**\n",
    "\n",
    "| RID   | brand   | branch         |                    \n",
    "|:-|:-|:-|\n",
    "|   R1  | Audi    | Tower Hamlets  |\n",
    "|   R2  | Audi    | Newham         |\n",
    "|   R3  | Audi    | Hackney        |\n",
    "|   R4  | Ford    | Tower Hamlets  |\n",
    "|   R5  | Ford    | Newham         |\n",
    "|   R6  | Ford    | Hackney        |\n",
    "|   R7  | Mini    | Tower Hamlets  |\n",
    "|   R8  | Mini    | Newham         |\n",
    "|   R9  | Mini    | Hackney        |"
   ]
  },
  {
   "cell_type": "markdown",
   "metadata": {},
   "source": [
    "*vehicle brand* **Bitmap Index Table**\n",
    "\n",
    "| RID   | Audi | Ford | Mini |                  \n",
    "|:-:|:-:|:-:|:-:|\n",
    "|   R1  | 1 | 0 | 0 |\n",
    "|   R2  | 1 | 0 | 0 |\n",
    "|   R3  | 1 | 0 | 0 |\n",
    "|   R4  | 0 | 1 | 0 | \n",
    "|   R5  | 0 | 1 | 0 | \n",
    "|   R6  | 0 | 1 | 0 | \n",
    "|   R7  | 0 | 0 | 1 | \n",
    "|   R8  | 0 | 0 | 1 | \n",
    "|   R9  | 0 | 0 | 1 | "
   ]
  },
  {
   "cell_type": "markdown",
   "metadata": {},
   "source": [
    "*store branch* **Bitmap Index Table**\n",
    "\n",
    "| RID   | Tower Hamlets | Newham | Hackney |                  \n",
    "|:-:|:-:|:-:|:-:|\n",
    "|   R1  | 1 | 0 | 0 |\n",
    "|   R2  | 0 | 1 | 0 |\n",
    "|   R3  | 0 | 0 | 1 |\n",
    "|   R4  | 1 | 0 | 0 | \n",
    "|   R5  | 0 | 1 | 0 | \n",
    "|   R6  | 0 | 0 | 1 | \n",
    "|   R7  | 1 | 0 | 0 | \n",
    "|   R8  | 0 | 1 | 0 | \n",
    "|   R9  | 0 | 0 | 1 | "
   ]
  },
  {
   "cell_type": "markdown",
   "metadata": {},
   "source": [
    "### <font color = 'maroon'> 4. modifying the \"tutorial_model.json\" file to include aggregate measures for the minimum and maximum amount in the data cube and producing the values for the minimum and maximum amount in the data per year</font> {-}"
   ]
  },
  {
   "cell_type": "markdown",
   "metadata": {},
   "source": [
    "json updated to include the aggregate functions min and max on the amount measure. \n",
    "\n",
    "The code is pasted below for reference and the succeeding cell displays the updated results."
   ]
  },
  {
   "cell_type": "markdown",
   "metadata": {},
   "source": [
    "```json\n",
    "{\n",
    "    \"dimensions\": [\n",
    "        {\n",
    "         \"name\":\"item\",\n",
    "         \"levels\": [\n",
    "                {\n",
    "                    \"name\":\"category\",\n",
    "                    \"label\":\"Category\",\n",
    "                    \"attributes\": [\"category\", \"category_label\"]\n",
    "                },\n",
    "                {\n",
    "                    \"name\":\"subcategory\",\n",
    "                    \"label\":\"Sub-category\",\n",
    "                    \"attributes\": [\"subcategory\", \"subcategory_label\"]\n",
    "                },\n",
    "                {\n",
    "                    \"name\":\"line_item\",\n",
    "                    \"label\":\"Line Item\",\n",
    "                    \"attributes\": [\"line_item\"]\n",
    "                }\n",
    "            ]\n",
    "        },\n",
    "        {\"name\":\"year\", \"role\": \"time\"}\n",
    "    ],\n",
    "    \"cubes\": [\n",
    "        {\n",
    "            \"name\": \"ibrd_balance\",\n",
    "            \"dimensions\": [\"item\", \"year\"],\n",
    "            \"measures\": [{\"name\":\"amount\", \"label\":\"Amount\"}],\n",
    "            \"aggregates\": [\n",
    "                    {\n",
    "                        \"name\": \"total_amount\",\n",
    "                        \"function\": \"sum\",\n",
    "                        \"measure\": \"amount\"\n",
    "                    },\n",
    "                    {\n",
    "                        \"name\": \"maximum_amount\",\n",
    "                        \"function\": \"max\",\n",
    "                        \"measure\": \"amount\"\n",
    "                    }, \n",
    "                    {\n",
    "                        \"name\": \"minimum_amount\",\n",
    "                        \"function\": \"min\",\n",
    "                        \"measure\": \"amount\"\n",
    "                    },                  \n",
    "                    {\n",
    "                        \"name\": \"record_count\",\n",
    "                        \"function\": \"count\"\n",
    "                    }\n",
    "                ],\n",
    "            \"mappings\": {\n",
    "                          \"item.line_item\": \"line_item\",\n",
    "                          \"item.subcategory\": \"subcategory\",\n",
    "                          \"item.subcategory_label\": \"subcategory_label\",\n",
    "                          \"item.category\": \"category\",\n",
    "                          \"item.category_label\": \"category_label\"\n",
    "                         },\n",
    "            \"info\": {\n",
    "                \"min_date\": \"2010-01-01\",\n",
    "                \"max_date\": \"2010-12-31\"\n",
    "            }\n",
    "        }\n",
    "    ]\n",
    "}\n",
    "```"
   ]
  },
  {
   "cell_type": "code",
   "execution_count": 9,
   "metadata": {},
   "outputs": [
    {
     "name": "stdout",
     "output_type": "stream",
     "text": [
      "{'year': 2009, 'total_amount': 550840, 'maximum_amount': 110040, 'minimum_amount': -1683, 'record_count': 31}\n",
      "{'year': 2010, 'total_amount': 566020, 'maximum_amount': 128577, 'minimum_amount': -3043, 'record_count': 31}\n"
     ]
    }
   ],
   "source": [
    "result = browser.aggregate(drilldown=[\"year\"])\n",
    "for record in result:\n",
    "    print(record)"
   ]
  },
  {
   "cell_type": "markdown",
   "metadata": {},
   "source": [
    "### <font color = 'maroon'> 5. Performing the following on  \"country-income.csv\":</font> {-}"
   ]
  },
  {
   "cell_type": "markdown",
   "metadata": {},
   "source": [
    "####  1. Load the CSV file using Cubes, create a JSON file for the data cube model, and create a data cube for the data. Use as dimensions the region, age, and online shopper fields. Use as measure the income. Define aggregate functions in the data cube model for the total, average, minimum, and maximum income. "
   ]
  },
  {
   "cell_type": "code",
   "execution_count": 10,
   "metadata": {},
   "outputs": [],
   "source": [
    "engine = create_engine('sqlite:///data.sqlite')\n",
    "create_table_from_csv(engine,\n",
    "                      \"country-income.csv\",\n",
    "                      table_name=\"country_income\",\n",
    "                      fields=[\n",
    "                          (\"region\", \"string\"),\n",
    "                          (\"age\", \"integer\"),\n",
    "                          (\"income\", \"integer\"),\n",
    "                          (\"online\", \"string\")\n",
    "                      ],\n",
    "                      create_id=True\n",
    "                     )"
   ]
  },
  {
   "cell_type": "markdown",
   "metadata": {},
   "source": [
    "#### \"country_income_model.json\""
   ]
  },
  {
   "cell_type": "markdown",
   "metadata": {},
   "source": [
    "```json\n",
    "{\n",
    "    \"dimensions\": [\n",
    "        {\n",
    "            \"name\":\"region\", \"label\": \"Region\"\n",
    "        },\n",
    "        {\n",
    "            \"name\":\"age\", \"label\": \"Age\"\n",
    "        },\n",
    "        {\n",
    "            \"name\":\"online\", \"label\": \"Online_shopper\"\n",
    "        }\n",
    "    ],\n",
    "    \"cubes\": [\n",
    "        {\n",
    "            \"name\": \"country_income\",\n",
    "            \"dimensions\": [\"region\",\"age\",\"online\"],\n",
    "            \"measures\": [{\"name\":\"income\", \"label\":\"Income\"}],\n",
    "            \"aggregates\": [\n",
    "                    {\n",
    "                        \"name\": \"total_income\",\n",
    "                        \"function\": \"sum\",\n",
    "                        \"measure\": \"income\"\n",
    "                    },       \n",
    "                    {\n",
    "                        \"name\": \"minimum_income\",\n",
    "                        \"function\": \"min\",\n",
    "                        \"measure\": \"income\"\n",
    "                    },   \n",
    "                    {\n",
    "                        \"name\": \"maximum_income\",\n",
    "                        \"function\": \"max\",\n",
    "                        \"measure\": \"income\"\n",
    "                    },                 \n",
    "                    {\n",
    "                        \"name\": \"average_income\",\n",
    "                        \"function\": \"avg\",\n",
    "                        \"measure\": \"income\"\n",
    "                    }\n",
    "                ]\n",
    "        }\n",
    "    ]\n",
    "}\n",
    "\n",
    "```"
   ]
  },
  {
   "cell_type": "code",
   "execution_count": 11,
   "metadata": {},
   "outputs": [],
   "source": [
    "workspace = Workspace()\n",
    "workspace.register_default_store(\"sql\", url=\"sqlite:///data.sqlite\")\n",
    "workspace.import_model(\"country_income_model.json\")\n",
    "cube = workspace.cube(\"country_income\")\n",
    "browser = workspace.browser(cube)"
   ]
  },
  {
   "cell_type": "markdown",
   "metadata": {},
   "source": [
    "#### 2. aggregate:"
   ]
  },
  {
   "cell_type": "markdown",
   "metadata": {},
   "source": [
    "##### RESULTS FOR THE WHOLE DATA CUBE:"
   ]
  },
  {
   "cell_type": "code",
   "execution_count": 12,
   "metadata": {},
   "outputs": [
    {
     "data": {
      "text/plain": [
       "{'total_income': 768200,\n",
       " 'minimum_income': 57600,\n",
       " 'maximum_income': 99600,\n",
       " 'average_income': 76820.0}"
      ]
     },
     "execution_count": 12,
     "metadata": {},
     "output_type": "execute_result"
    }
   ],
   "source": [
    "result1 = browser.aggregate()\n",
    "result1.summary"
   ]
  },
  {
   "cell_type": "markdown",
   "metadata": {},
   "source": [
    "##### RESULTS PER REGION:"
   ]
  },
  {
   "cell_type": "code",
   "execution_count": 13,
   "metadata": {},
   "outputs": [
    {
     "name": "stdout",
     "output_type": "stream",
     "text": [
      "{'region': 'Brazil', 'total_income': 193200, 'minimum_income': 57600, 'maximum_income': 73200, 'average_income': 64400.0}\n",
      "{'region': 'India', 'total_income': 331200, 'minimum_income': 69600, 'maximum_income': 94800, 'average_income': 82800.0}\n",
      "{'region': 'USA', 'total_income': 243800, 'minimum_income': 64800, 'maximum_income': 99600, 'average_income': 81266.66666666667}\n"
     ]
    }
   ],
   "source": [
    "result2 = browser.aggregate(drilldown=[\"region\"])\n",
    "for record in result2:\n",
    "    print(record)"
   ]
  },
  {
   "cell_type": "markdown",
   "metadata": {},
   "source": [
    "##### RESULTS PER ONLINE SHOPPING ACTIVITY:"
   ]
  },
  {
   "cell_type": "code",
   "execution_count": 14,
   "metadata": {},
   "outputs": [
    {
     "name": "stdout",
     "output_type": "stream",
     "text": [
      "{'online': 'No', 'total_income': 386400, 'minimum_income': 62400, 'maximum_income': 99600, 'average_income': 77280.0}\n",
      "{'online': 'Yes', 'total_income': 381800, 'minimum_income': 57600, 'maximum_income': 94800, 'average_income': 76360.0}\n"
     ]
    }
   ],
   "source": [
    "result3 = browser.aggregate(drilldown=[\"online\"])\n",
    "for record in result3:\n",
    "    print(record)"
   ]
  },
  {
   "cell_type": "markdown",
   "metadata": {},
   "source": [
    "##### RESULTS FOR ALL PEOPLE AGED BETWEEN 40 AND 50: "
   ]
  },
  {
   "cell_type": "code",
   "execution_count": 15,
   "metadata": {},
   "outputs": [
    {
     "name": "stdout",
     "output_type": "stream",
     "text": [
      "age:40-50\n"
     ]
    },
    {
     "data": {
      "text/plain": [
       "{'total_income': 451400,\n",
       " 'minimum_income': 62400,\n",
       " 'maximum_income': 86400,\n",
       " 'average_income': 75233.33333333333}"
      ]
     },
     "execution_count": 15,
     "metadata": {},
     "output_type": "execute_result"
    }
   ],
   "source": [
    "cuts = [cubes.RangeCut(\"age\", [40],[50])]\n",
    "cell = cubes.Cell(cube, cuts)\n",
    "print(cell)\n",
    "result4 = browser.aggregate(cell, drilldown=[\"age\"])\n",
    "result4.summary"
   ]
  },
  {
   "cell_type": "code",
   "execution_count": 16,
   "metadata": {},
   "outputs": [
    {
     "name": "stdout",
     "output_type": "stream",
     "text": [
      "{'age': 40, 'total_income': 69600, 'minimum_income': 69600, 'maximum_income': 69600, 'average_income': 69600.0}\n",
      "{'age': 42, 'total_income': 80400, 'minimum_income': 80400, 'maximum_income': 80400, 'average_income': 80400.0}\n",
      "{'age': 43, 'total_income': 73200, 'minimum_income': 73200, 'maximum_income': 73200, 'average_income': 73200.0}\n",
      "{'age': 45, 'total_income': 79400, 'minimum_income': 79400, 'maximum_income': 79400, 'average_income': 79400.0}\n",
      "{'age': 46, 'total_income': 62400, 'minimum_income': 62400, 'maximum_income': 62400, 'average_income': 62400.0}\n",
      "{'age': 49, 'total_income': 86400, 'minimum_income': 86400, 'maximum_income': 86400, 'average_income': 86400.0}\n"
     ]
    }
   ],
   "source": [
    "cuts = [cubes.RangeCut(\"age\", [40],[50])]\n",
    "cell = cubes.Cell(cube, cuts)\n",
    "result5 = browser.aggregate(cell, drilldown=[\"age\"])\n",
    "for record in result5:\n",
    "    print(record)"
   ]
  }
 ],
 "metadata": {
  "kernelspec": {
   "display_name": "Python 3",
   "language": "python",
   "name": "python3"
  },
  "language_info": {
   "codemirror_mode": {
    "name": "ipython",
    "version": 3
   },
   "file_extension": ".py",
   "mimetype": "text/x-python",
   "name": "python",
   "nbconvert_exporter": "python",
   "pygments_lexer": "ipython3",
   "version": "3.9.0"
  }
 },
 "nbformat": 4,
 "nbformat_minor": 4
}
